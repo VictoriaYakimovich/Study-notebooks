{
 "cells": [
  {
   "cell_type": "code",
   "execution_count": 1,
   "metadata": {},
   "outputs": [
    {
     "ename": "ValueError",
     "evalue": "Incorrect mode",
     "output_type": "error",
     "traceback": [
      "\u001b[1;31m---------------------------------------------------------------------------\u001b[0m",
      "\u001b[1;31mValueError\u001b[0m                                Traceback (most recent call last)",
      "\u001b[1;32m<ipython-input-1-463677257018>\u001b[0m in \u001b[0;36m<module>\u001b[1;34m\u001b[0m\n\u001b[0;32m      7\u001b[0m         \u001b[1;32mraise\u001b[0m \u001b[0mValueError\u001b[0m\u001b[1;33m(\u001b[0m\u001b[1;34m\"Incorrect mode\"\u001b[0m\u001b[1;33m)\u001b[0m\u001b[1;33m\u001b[0m\u001b[1;33m\u001b[0m\u001b[0m\n\u001b[0;32m      8\u001b[0m \u001b[1;33m\u001b[0m\u001b[0m\n\u001b[1;32m----> 9\u001b[1;33m \u001b[0mpreprocess_data\u001b[0m\u001b[1;33m(\u001b[0m\u001b[1;33m{\u001b[0m\u001b[1;34m\"price\"\u001b[0m\u001b[1;33m:\u001b[0m \u001b[1;36m100\u001b[0m\u001b[1;33m}\u001b[0m\u001b[1;33m,\u001b[0m \u001b[1;34m\"to_array\"\u001b[0m\u001b[1;33m)\u001b[0m\u001b[1;33m\u001b[0m\u001b[1;33m\u001b[0m\u001b[0m\n\u001b[0m",
      "\u001b[1;32m<ipython-input-1-463677257018>\u001b[0m in \u001b[0;36mpreprocess_data\u001b[1;34m(data, mode)\u001b[0m\n\u001b[0;32m      5\u001b[0m         \u001b[1;32mreturn\u001b[0m \u001b[1;33m[\u001b[0m\u001b[0mstr\u001b[0m\u001b[1;33m(\u001b[0m\u001b[0mvalue\u001b[0m\u001b[1;33m)\u001b[0m \u001b[1;32mfor\u001b[0m \u001b[0mvalue\u001b[0m \u001b[1;32min\u001b[0m \u001b[0mdata\u001b[0m\u001b[1;33m]\u001b[0m\u001b[1;33m\u001b[0m\u001b[1;33m\u001b[0m\u001b[0m\n\u001b[0;32m      6\u001b[0m     \u001b[1;32melse\u001b[0m\u001b[1;33m:\u001b[0m\u001b[1;33m\u001b[0m\u001b[1;33m\u001b[0m\u001b[0m\n\u001b[1;32m----> 7\u001b[1;33m         \u001b[1;32mraise\u001b[0m \u001b[0mValueError\u001b[0m\u001b[1;33m(\u001b[0m\u001b[1;34m\"Incorrect mode\"\u001b[0m\u001b[1;33m)\u001b[0m\u001b[1;33m\u001b[0m\u001b[1;33m\u001b[0m\u001b[0m\n\u001b[0m\u001b[0;32m      8\u001b[0m \u001b[1;33m\u001b[0m\u001b[0m\n\u001b[0;32m      9\u001b[0m \u001b[0mpreprocess_data\u001b[0m\u001b[1;33m(\u001b[0m\u001b[1;33m{\u001b[0m\u001b[1;34m\"price\"\u001b[0m\u001b[1;33m:\u001b[0m \u001b[1;36m100\u001b[0m\u001b[1;33m}\u001b[0m\u001b[1;33m,\u001b[0m \u001b[1;34m\"to_array\"\u001b[0m\u001b[1;33m)\u001b[0m\u001b[1;33m\u001b[0m\u001b[1;33m\u001b[0m\u001b[0m\n",
      "\u001b[1;31mValueError\u001b[0m: Incorrect mode"
     ]
    }
   ],
   "source": [
    "def preprocess_data(data, mode):\n",
    "    if mode == \"to_number\":\n",
    "        return [float(value) for value in data]\n",
    "    elif mode == \"to_str\":\n",
    "        return [str(value) for value in data]\n",
    "    else:\n",
    "        raise ValueError(\"Incorrect mode\")\n",
    "        \n",
    "preprocess_data({\"price\": 100}, \"to_array\")"
   ]
  },
  {
   "cell_type": "markdown",
   "metadata": {},
   "source": [
    "Задание 2 \n",
    "Определите функцию check_server, которая принимает на вход переменную mode. \n",
    "Если mode имеет значение \"memory\", программа должна вернуть строку \"Memory is ok\".\n",
    "Если mode имеет значение \"connection\", программа должна вернуть строку \"Connection is ok\".\n",
    "Для остальных случае программа должна выбросить исключение ValueError. "
   ]
  },
  {
   "cell_type": "code",
   "execution_count": 3,
   "metadata": {},
   "outputs": [
    {
     "data": {
      "text/plain": [
       "'Memory is ok'"
      ]
     },
     "execution_count": 3,
     "metadata": {},
     "output_type": "execute_result"
    }
   ],
   "source": [
    "def check_server(mode):\n",
    "    if mode == \"memory\":\n",
    "        return \"Memory is ok\"\n",
    "    elif mode == \"connection\":\n",
    "        return \"Connection is ok\"\n",
    "    else:\n",
    "        raise ValueError(\"Incorrect mode\")\n",
    "        \n",
    "check_server('memory')"
   ]
  },
  {
   "cell_type": "markdown",
   "metadata": {},
   "source": [
    "Обработка исключений"
   ]
  },
  {
   "cell_type": "code",
   "execution_count": 4,
   "metadata": {},
   "outputs": [
    {
     "name": "stdout",
     "output_type": "stream",
     "text": [
      "Oops, key not found\n",
      "End of program\n"
     ]
    }
   ],
   "source": [
    "dictionary = {}  \n",
    "try:  \n",
    "    dictionary[\"no_key\"]  \n",
    "except:  \n",
    "    print(\"Oops, key not found\")  \n",
    "  \n",
    "print(\"End of program\")  "
   ]
  },
  {
   "cell_type": "markdown",
   "metadata": {},
   "source": [
    "Когда мы обрабатываем исключения через try-except, мы принимаем — да, данные неидеальные, но я об этом подумал. \n",
    "Проблема в том, что с обычным try-except можно отловить не только те исключения, на которые мы рассчитывали. \n",
    "Посмотрим на примере: у нас есть программа, которая отрабатывает очень большую базу данных, и мы бы хотели, чтобы была возможность корректно прервать её с клавиатуры. \n",
    "Код мог бы выглядеть как-то так:"
   ]
  },
  {
   "cell_type": "code",
   "execution_count": null,
   "metadata": {},
   "outputs": [],
   "source": [
    "try:  \n",
    "    # запускаем программу отработки базы данных  \n",
    "    process(db)   \n",
    "except:  \n",
    "    # если с клавиатуры пришло прерывание, то корректно останавливаем процесс  \n",
    "    gently_close(db)    "
   ]
  },
  {
   "cell_type": "markdown",
   "metadata": {},
   "source": [
    "При остановке с клавиатуры мы получаем исключение KeyInterrupt, так что мы идём в блок except и корректно закрываем базу данных. Проблема в том, что except отловит и другие исключения, например, ошибку отсутствующего ключа или таймаута, что усложнит для нас обнаружение и исправление этих ошибок. \n",
    "На этот случай try-except позволяет указывать, какое именно исключение мы отлавливаем."
   ]
  },
  {
   "cell_type": "code",
   "execution_count": null,
   "metadata": {},
   "outputs": [],
   "source": [
    "try:  \n",
    "    process(db)   \n",
    "except KeyInterrupt:  # обратите внимание, что мы добавили имя исключения после except  \n",
    "    gently_close(db) "
   ]
  },
  {
   "cell_type": "code",
   "execution_count": 5,
   "metadata": {},
   "outputs": [
    {
     "name": "stdout",
     "output_type": "stream",
     "text": [
      "Oops, key not found\n"
     ]
    }
   ],
   "source": [
    "dictionary = {}  \n",
    "try:  \n",
    "    dictionary[\"no_key\"]  \n",
    "except KeyError:  \n",
    "    print(\"Oops, key not found\") "
   ]
  },
  {
   "cell_type": "code",
   "execution_count": 6,
   "metadata": {},
   "outputs": [
    {
     "ename": "KeyError",
     "evalue": "'no_key'",
     "output_type": "error",
     "traceback": [
      "\u001b[1;31m---------------------------------------------------------------------------\u001b[0m",
      "\u001b[1;31mKeyError\u001b[0m                                  Traceback (most recent call last)",
      "\u001b[1;32m<ipython-input-6-58d017c8fe89>\u001b[0m in \u001b[0;36m<module>\u001b[1;34m\u001b[0m\n\u001b[0;32m      1\u001b[0m \u001b[0mdictionary\u001b[0m \u001b[1;33m=\u001b[0m \u001b[1;33m{\u001b[0m\u001b[1;33m}\u001b[0m\u001b[1;33m\u001b[0m\u001b[1;33m\u001b[0m\u001b[0m\n\u001b[0;32m      2\u001b[0m \u001b[1;32mtry\u001b[0m\u001b[1;33m:\u001b[0m\u001b[1;33m\u001b[0m\u001b[1;33m\u001b[0m\u001b[0m\n\u001b[1;32m----> 3\u001b[1;33m     \u001b[0mdictionary\u001b[0m\u001b[1;33m[\u001b[0m\u001b[1;34m\"no_key\"\u001b[0m\u001b[1;33m]\u001b[0m\u001b[1;33m\u001b[0m\u001b[1;33m\u001b[0m\u001b[0m\n\u001b[0m\u001b[0;32m      4\u001b[0m \u001b[1;32mexcept\u001b[0m \u001b[0mIOError\u001b[0m\u001b[1;33m:\u001b[0m\u001b[1;33m\u001b[0m\u001b[1;33m\u001b[0m\u001b[0m\n\u001b[0;32m      5\u001b[0m     \u001b[0mprint\u001b[0m\u001b[1;33m(\u001b[0m\u001b[1;34m\"Oops, key not found\"\u001b[0m\u001b[1;33m)\u001b[0m\u001b[1;33m\u001b[0m\u001b[1;33m\u001b[0m\u001b[0m\n",
      "\u001b[1;31mKeyError\u001b[0m: 'no_key'"
     ]
    }
   ],
   "source": [
    "dictionary = {}  \n",
    "try:  \n",
    "    dictionary[\"no_key\"]  \n",
    "except IOError:  \n",
    "    print(\"Oops, key not found\") "
   ]
  },
  {
   "cell_type": "markdown",
   "metadata": {},
   "source": [
    "Во втором случае мы ожидали IOError, но исключение было KeyError, поэтому программа прервалась с ошибкой. Это упростит исправление ошибки."
   ]
  },
  {
   "cell_type": "markdown",
   "metadata": {},
   "source": [
    "Исключения в Python имеют иерархию: у нас есть более общие и более специфичные исключения.\n",
    "KeyError и IndexError являются подмножество LookupError, которая является подмножеством Exception. На практике это имеет следующее значение: если мы укажем более верхнеуровневое исключения, то отловятся все дочерние, но не наоборот."
   ]
  },
  {
   "cell_type": "code",
   "execution_count": 7,
   "metadata": {},
   "outputs": [],
   "source": [
    "# Напишем функцию, которая может обращаться и к спискам, и к словарям  \n",
    "# при этом не выбрасывая исключение для несуществующих индексов/ключей   \n",
    "def safe_element(collection, place):  \n",
    "    try:  \n",
    "        return(collection[place])  \n",
    "    except LookupError:  \n",
    "        print(\"Key or index not found\")  \n",
    "  \n",
    "users = [\"Pavel\", \"Elena\", \"Sergey\"]  "
   ]
  },
  {
   "cell_type": "code",
   "execution_count": 8,
   "metadata": {},
   "outputs": [
    {
     "data": {
      "text/plain": [
       "'Elena'"
      ]
     },
     "execution_count": 8,
     "metadata": {},
     "output_type": "execute_result"
    }
   ],
   "source": [
    "safe_element(users, 1)"
   ]
  },
  {
   "cell_type": "code",
   "execution_count": 9,
   "metadata": {},
   "outputs": [
    {
     "name": "stdout",
     "output_type": "stream",
     "text": [
      "Key or index not found\n"
     ]
    }
   ],
   "source": [
    "safe_element(users, 3) "
   ]
  },
  {
   "cell_type": "code",
   "execution_count": 10,
   "metadata": {},
   "outputs": [
    {
     "data": {
      "text/plain": [
       "10"
      ]
     },
     "execution_count": 10,
     "metadata": {},
     "output_type": "execute_result"
    }
   ],
   "source": [
    "prices = {\"apple\": 10, \"orange\": 20}  \n",
    "safe_element(prices, \"apple\") "
   ]
  },
  {
   "cell_type": "code",
   "execution_count": 11,
   "metadata": {},
   "outputs": [
    {
     "name": "stdout",
     "output_type": "stream",
     "text": [
      "Key or index not found\n"
     ]
    }
   ],
   "source": [
    "safe_element(prices, \"carrot\")  "
   ]
  },
  {
   "cell_type": "markdown",
   "metadata": {},
   "source": [
    "Задание 2 \n",
    "Напишите программу, которая реализует безопасное сложение двух объектов x и y.\n",
    "Если объекты не могут быть сложены, функция должна:\n",
    "Отловить TypeError\n",
    "Вывести на экран \"Can't sum x and y\", где x и y - переданные числа\n",
    "Вернуть 0"
   ]
  },
  {
   "cell_type": "code",
   "execution_count": 12,
   "metadata": {},
   "outputs": [],
   "source": [
    "def safe_sum(x, y):  \n",
    "    try:  \n",
    "        return(x+y)  \n",
    "    except TypeError:  \n",
    "        print(\"Can't sum {} and {}\".format(x,y)) \n",
    "        return 0"
   ]
  },
  {
   "cell_type": "code",
   "execution_count": 13,
   "metadata": {},
   "outputs": [
    {
     "data": {
      "text/plain": [
       "11"
      ]
     },
     "execution_count": 13,
     "metadata": {},
     "output_type": "execute_result"
    }
   ],
   "source": [
    "safe_sum(5,6)"
   ]
  },
  {
   "cell_type": "code",
   "execution_count": 16,
   "metadata": {},
   "outputs": [
    {
     "name": "stdout",
     "output_type": "stream",
     "text": [
      "Can't sum 5 and a\n"
     ]
    },
    {
     "data": {
      "text/plain": [
       "0"
      ]
     },
     "execution_count": 16,
     "metadata": {},
     "output_type": "execute_result"
    }
   ],
   "source": [
    "safe_sum(5,'a')"
   ]
  },
  {
   "cell_type": "markdown",
   "metadata": {},
   "source": [
    "Иногда в блоке except нам нужен доступ к самому объекту исключения, например, мы хотим получить поясняющее сообщение и вывести его на экран, но при этом продолжить программу дальше. Мы можем это сделать с помощью ключевого слова 'as', за которым идёт имя новой переменной."
   ]
  },
  {
   "cell_type": "code",
   "execution_count": 1,
   "metadata": {},
   "outputs": [
    {
     "name": "stdout",
     "output_type": "stream",
     "text": [
      "division by zero\n",
      "Program ends correctly\n"
     ]
    }
   ],
   "source": [
    "try:  \n",
    "    5/0  \n",
    "except ZeroDivisionError as zero_error:  \n",
    "    # здесь в zero_error мы получаем сам объект исключения  \n",
    "    # print как раз выведет его поясняющее сообщение  \n",
    "    print(zero_error)  \n",
    "  \n",
    "print(\"Program ends correctly\")  "
   ]
  },
  {
   "cell_type": "markdown",
   "metadata": {},
   "source": [
    "Ещё один распространённый подход: мы совершаем какое-то промежуточное действие, а потом перевыбрасываем исключение."
   ]
  },
  {
   "cell_type": "code",
   "execution_count": 2,
   "metadata": {},
   "outputs": [
    {
     "name": "stdout",
     "output_type": "stream",
     "text": [
      "Mail to administrator has been sent about invalid literal for int() with base 10: 'poem'\n"
     ]
    },
    {
     "ename": "ValueError",
     "evalue": "invalid literal for int() with base 10: 'poem'",
     "output_type": "error",
     "traceback": [
      "\u001b[1;31m---------------------------------------------------------------------------\u001b[0m",
      "\u001b[1;31mValueError\u001b[0m                                Traceback (most recent call last)",
      "\u001b[1;32m<ipython-input-2-6c915d027be2>\u001b[0m in \u001b[0;36m<module>\u001b[1;34m\u001b[0m\n\u001b[0;32m      8\u001b[0m \u001b[1;32mexcept\u001b[0m \u001b[0mValueError\u001b[0m \u001b[1;32mas\u001b[0m \u001b[0mdigitized_error\u001b[0m\u001b[1;33m:\u001b[0m\u001b[1;33m\u001b[0m\u001b[1;33m\u001b[0m\u001b[0m\n\u001b[0;32m      9\u001b[0m     \u001b[0mnotify_admin\u001b[0m\u001b[1;33m(\u001b[0m\u001b[0mdigitized_error\u001b[0m\u001b[1;33m)\u001b[0m\u001b[1;33m\u001b[0m\u001b[1;33m\u001b[0m\u001b[0m\n\u001b[1;32m---> 10\u001b[1;33m     \u001b[1;32mraise\u001b[0m \u001b[0mdigitized_error\u001b[0m\u001b[1;33m\u001b[0m\u001b[1;33m\u001b[0m\u001b[0m\n\u001b[0m",
      "\u001b[1;32m<ipython-input-2-6c915d027be2>\u001b[0m in \u001b[0;36m<module>\u001b[1;34m\u001b[0m\n\u001b[0;32m      5\u001b[0m \u001b[0mvalue\u001b[0m \u001b[1;33m=\u001b[0m \u001b[1;34m\"poem\"\u001b[0m\u001b[1;33m\u001b[0m\u001b[1;33m\u001b[0m\u001b[0m\n\u001b[0;32m      6\u001b[0m \u001b[1;32mtry\u001b[0m\u001b[1;33m:\u001b[0m\u001b[1;33m\u001b[0m\u001b[1;33m\u001b[0m\u001b[0m\n\u001b[1;32m----> 7\u001b[1;33m     \u001b[0mdigitized\u001b[0m \u001b[1;33m=\u001b[0m \u001b[0mint\u001b[0m\u001b[1;33m(\u001b[0m\u001b[0mvalue\u001b[0m\u001b[1;33m)\u001b[0m\u001b[1;33m\u001b[0m\u001b[1;33m\u001b[0m\u001b[0m\n\u001b[0m\u001b[0;32m      8\u001b[0m \u001b[1;32mexcept\u001b[0m \u001b[0mValueError\u001b[0m \u001b[1;32mas\u001b[0m \u001b[0mdigitized_error\u001b[0m\u001b[1;33m:\u001b[0m\u001b[1;33m\u001b[0m\u001b[1;33m\u001b[0m\u001b[0m\n\u001b[0;32m      9\u001b[0m     \u001b[0mnotify_admin\u001b[0m\u001b[1;33m(\u001b[0m\u001b[0mdigitized_error\u001b[0m\u001b[1;33m)\u001b[0m\u001b[1;33m\u001b[0m\u001b[1;33m\u001b[0m\u001b[0m\n",
      "\u001b[1;31mValueError\u001b[0m: invalid literal for int() with base 10: 'poem'"
     ]
    }
   ],
   "source": [
    "# Пусть у нас есть функция, которая шлёт емейл разработчику об ошибке  \n",
    "def notify_admin(error):  \n",
    "    print(\"Mail to administrator has been sent about\", error)  \n",
    "      \n",
    "value = \"poem\"  \n",
    "try:  \n",
    "    digitized = int(value)  \n",
    "except ValueError as digitized_error:  \n",
    "    notify_admin(digitized_error)  \n",
    "    raise digitized_error  "
   ]
  },
  {
   "cell_type": "code",
   "execution_count": 3,
   "metadata": {},
   "outputs": [
    {
     "name": "stdout",
     "output_type": "stream",
     "text": [
      "OS error: [Errno 2] No such file or directory: 'valuble_data.txt'\n"
     ]
    }
   ],
   "source": [
    "try:  \n",
    "    data_file = open(\"valuble_data.txt\") # открываем файл и считываем строку   \n",
    "    s = data_file.readline()   \n",
    "    i = float(s.strip())  # пробуем преобразовать её в число\n",
    "except OSError as err:  \n",
    "    # если файла нет или его не удаётся прочитать, мы получил ошибку операционной системы   \n",
    "    print(\"OS error: {0}\".format(err))  \n",
    "except ValueError:  \n",
    "    # если данные не преобразуется в число, мы получим ValueError  \n",
    "    print(\"Could not convert data to float\")  "
   ]
  },
  {
   "cell_type": "markdown",
   "metadata": {},
   "source": [
    "Задание  \n",
    "В каком году вышел фильм Suicide Squad, информация о котором есть в датасете imdb?"
   ]
  },
  {
   "cell_type": "code",
   "execution_count": 1,
   "metadata": {},
   "outputs": [],
   "source": [
    "import pandas as pd"
   ]
  },
  {
   "cell_type": "code",
   "execution_count": 2,
   "metadata": {},
   "outputs": [],
   "source": [
    "df=pd.read_csv('imdb.xls')"
   ]
  },
  {
   "cell_type": "code",
   "execution_count": 8,
   "metadata": {},
   "outputs": [
    {
     "data": {
      "text/html": [
       "<div>\n",
       "<style scoped>\n",
       "    .dataframe tbody tr th:only-of-type {\n",
       "        vertical-align: middle;\n",
       "    }\n",
       "\n",
       "    .dataframe tbody tr th {\n",
       "        vertical-align: top;\n",
       "    }\n",
       "\n",
       "    .dataframe thead th {\n",
       "        text-align: right;\n",
       "    }\n",
       "</style>\n",
       "<table border=\"1\" class=\"dataframe\">\n",
       "  <thead>\n",
       "    <tr style=\"text-align: right;\">\n",
       "      <th></th>\n",
       "      <th>Rank</th>\n",
       "      <th>Title</th>\n",
       "      <th>Genre</th>\n",
       "      <th>Description</th>\n",
       "      <th>Director</th>\n",
       "      <th>Actors</th>\n",
       "      <th>Year</th>\n",
       "      <th>Runtime (Minutes)</th>\n",
       "      <th>Rating</th>\n",
       "      <th>Votes</th>\n",
       "      <th>Revenue (Millions)</th>\n",
       "      <th>Metascore</th>\n",
       "    </tr>\n",
       "  </thead>\n",
       "  <tbody>\n",
       "    <tr>\n",
       "      <th>0</th>\n",
       "      <td>1</td>\n",
       "      <td>Guardians of the Galaxy</td>\n",
       "      <td>Action,Adventure,Sci-Fi</td>\n",
       "      <td>A group of intergalactic criminals are forced ...</td>\n",
       "      <td>James Gunn</td>\n",
       "      <td>Chris Pratt, Vin Diesel, Bradley Cooper, Zoe S...</td>\n",
       "      <td>2014</td>\n",
       "      <td>121</td>\n",
       "      <td>8.1</td>\n",
       "      <td>757074</td>\n",
       "      <td>333.13</td>\n",
       "      <td>76.0</td>\n",
       "    </tr>\n",
       "    <tr>\n",
       "      <th>1</th>\n",
       "      <td>2</td>\n",
       "      <td>Prometheus</td>\n",
       "      <td>Adventure,Mystery,Sci-Fi</td>\n",
       "      <td>Following clues to the origin of mankind, a te...</td>\n",
       "      <td>Ridley Scott</td>\n",
       "      <td>Noomi Rapace, Logan Marshall-Green, Michael Fa...</td>\n",
       "      <td>2012</td>\n",
       "      <td>124</td>\n",
       "      <td>7.0</td>\n",
       "      <td>485820</td>\n",
       "      <td>126.46</td>\n",
       "      <td>65.0</td>\n",
       "    </tr>\n",
       "  </tbody>\n",
       "</table>\n",
       "</div>"
      ],
      "text/plain": [
       "   Rank                    Title                     Genre  \\\n",
       "0     1  Guardians of the Galaxy   Action,Adventure,Sci-Fi   \n",
       "1     2               Prometheus  Adventure,Mystery,Sci-Fi   \n",
       "\n",
       "                                         Description      Director  \\\n",
       "0  A group of intergalactic criminals are forced ...    James Gunn   \n",
       "1  Following clues to the origin of mankind, a te...  Ridley Scott   \n",
       "\n",
       "                                              Actors  Year  Runtime (Minutes)  \\\n",
       "0  Chris Pratt, Vin Diesel, Bradley Cooper, Zoe S...  2014                121   \n",
       "1  Noomi Rapace, Logan Marshall-Green, Michael Fa...  2012                124   \n",
       "\n",
       "   Rating   Votes  Revenue (Millions)  Metascore  \n",
       "0     8.1  757074              333.13       76.0  \n",
       "1     7.0  485820              126.46       65.0  "
      ]
     },
     "execution_count": 8,
     "metadata": {},
     "output_type": "execute_result"
    }
   ],
   "source": [
    "df.head(2)"
   ]
  },
  {
   "cell_type": "code",
   "execution_count": 10,
   "metadata": {},
   "outputs": [
    {
     "data": {
      "text/plain": [
       "4    2016\n",
       "Name: Year, dtype: int64"
      ]
     },
     "execution_count": 10,
     "metadata": {},
     "output_type": "execute_result"
    }
   ],
   "source": [
    "df[df['Title']=='Suicide Squad']['Year']"
   ]
  },
  {
   "cell_type": "markdown",
   "metadata": {},
   "source": [
    "6.11 Отладка исключений"
   ]
  },
  {
   "cell_type": "code",
   "execution_count": 12,
   "metadata": {},
   "outputs": [
    {
     "name": "stdout",
     "output_type": "stream",
     "text": [
      "['Rank', 'Title', 'Genre', 'Description', 'Director', 'Actors', 'Year', 'Runtime (Minutes)', 'Rating', 'Votes', 'Revenue (Millions)', 'Metascore']\n",
      "['1', 'Guardians of the Galaxy', 'Action,Adventure,Sci-Fi', 'A group of intergalactic criminals are forced to work together to stop a fanatical warrior from taking control of the universe.', 'James Gunn', 'Chris Pratt, Vin Diesel, Bradley Cooper, Zoe Saldana', '2014', '121', '8.1', '757074', '333.13', '76']\n",
      "['2', 'Prometheus', 'Adventure,Mystery,Sci-Fi', 'Following clues to the origin of mankind, a team finds a structure on a distant moon, but they soon realize they are not alone.', 'Ridley Scott', 'Noomi Rapace, Logan Marshall-Green, Michael Fassbender, Charlize Theron', '2012', '124', '7', '485820', '126.46', '65']\n",
      "['3', 'Split', 'Horror,Thriller', 'Three girls are kidnapped by a man with a diagnosed 23 distinct personalities. They must try to escape before the apparent emergence of a frightful new 24th.', 'M. Night Shyamalan', 'James McAvoy, Anya Taylor-Joy, Haley Lu Richardson, Jessica Sula', '2016', '117', '7.3', '157606', '138.12', '62']\n",
      "['4', 'Sing', 'Animation,Comedy,Family', \"In a city of humanoid animals, a hustling theater impresario's attempt to save his theater with a singing competition becomes grander than he anticipates even as its finalists' find that their lives will never be the same.\", 'Christophe Lourdelet', 'Matthew McConaughey,Reese Witherspoon, Seth MacFarlane, Scarlett Johansson', '2016', '108', '7.2', '60545', '270.32', '59']\n"
     ]
    }
   ],
   "source": [
    "# для примера попробуем написать функцию, которая печатает первые 5 строчек csv файла с нашими данными  \n",
    "import csv  \n",
    "  \n",
    "# открываем файл  \n",
    "with open(\"imdb.xls\", newline=\"\") as csvfile:  \n",
    "    # делаем reader, который построчно берёт данные из файла  \n",
    "    reader = csv.reader(csvfile)  \n",
    "    for i in range(5):  \n",
    "        print(next(reader)) "
   ]
  },
  {
   "cell_type": "code",
   "execution_count": null,
   "metadata": {},
   "outputs": [],
   "source": [
    "# Теперь попробуем поместить данные в некое подобие таблицы.  \n",
    "# У нас будет словарь, где ключами будут имена столбцов, а значениями - списки с данными   \n",
    "import csv  \n",
    "  \n",
    "  \n",
    "# функция, которая делает таблицу по данным из reader  \n",
    "def build_table(reader):  \n",
    "    table = {}  \n",
    "    # инициализируем столбцы  \n",
    "    headers = next(reader)  \n",
    "    for header in headers:  \n",
    "        table[header] = []  \n",
    "          \n",
    "    # считываем данные      \n",
    "    for row in reader:  \n",
    "        for header in headers:  \n",
    "            table[header].append(row[header])  \n",
    "              \n",
    "    return table  \n",
    "  \n",
    "with open(\"imdb.csv\", newline=\"\") as csvfile:  \n",
    "    # делаем reader, который построчно берёт данные из файла  \n",
    "    reader = csv.reader(csvfile)  \n",
    "    # строим таблицу  \n",
    "    imdb_data = build_table(reader)  \n",
    "  "
   ]
  },
  {
   "cell_type": "markdown",
   "metadata": {},
   "source": [
    "Задание 2  \n",
    "У вас есть функция, которая должна убирать дубликаты из списка и сохранять при этом порядок:"
   ]
  },
  {
   "cell_type": "code",
   "execution_count": 129,
   "metadata": {},
   "outputs": [
    {
     "data": {
      "text/plain": [
       "[1, 12, 4, 8]"
      ]
     },
     "execution_count": 129,
     "metadata": {},
     "output_type": "execute_result"
    }
   ],
   "source": [
    "from copy import copy\n",
    "\n",
    "def remove_dups(values):\n",
    "    values = copy(values)\n",
    "    values_new=[]\n",
    "    for i in range(len(values)):\n",
    "        if not(values[i] in values[:i]):\n",
    "            values_new.append(values[i])   \n",
    "    return values_new\n",
    "remove_dups([1, 12, 4, 1, 4, 8])"
   ]
  },
  {
   "cell_type": "code",
   "execution_count": 130,
   "metadata": {},
   "outputs": [
    {
     "name": "stdout",
     "output_type": "stream",
     "text": [
      "1 []\n",
      "12 [1]\n",
      "4 [1, 12]\n",
      "1 [1, 12, 4]\n",
      "4 [1, 12, 4, 1]\n",
      "8 [1, 12, 4, 1, 4]\n",
      "[1, 12, 4, 1, 4, 8]\n"
     ]
    }
   ],
   "source": [
    "s=[1, 12, 4, 1, 4, 8]\n",
    "values = copy(s)\n",
    "for i in range(len(values)):\n",
    "    print(values[i], values[:i]) \n",
    "print(values)            "
   ]
  },
  {
   "cell_type": "code",
   "execution_count": 5,
   "metadata": {},
   "outputs": [],
   "source": [
    "imdb_data=pd.read_csv('imdb.xls')"
   ]
  },
  {
   "cell_type": "code",
   "execution_count": 6,
   "metadata": {},
   "outputs": [
    {
     "name": "stdout",
     "output_type": "stream",
     "text": [
      "> <ipython-input-6-d9f3c73a7dc5>(10)count_genres()\n",
      "-> for movie_genres in column:\n",
      "(Pdb) genres\n",
      "[]\n",
      "(Pdb) next\n",
      "> <ipython-input-6-d9f3c73a7dc5>(11)count_genres()\n",
      "-> splitted = movie_genres.split(\",\")\n",
      "(Pdb) next\n",
      "> <ipython-input-6-d9f3c73a7dc5>(12)count_genres()\n",
      "-> genres.extend(splitted)\n",
      "(Pdb) next\n",
      "> <ipython-input-6-d9f3c73a7dc5>(10)count_genres()\n",
      "-> for movie_genres in column:\n",
      "(Pdb) splitted\n",
      "['Action', 'Adventure', 'Sci-Fi']\n",
      "(Pdb) genres\n",
      "['Action', 'Adventure', 'Sci-Fi']\n",
      "(Pdb) continue\n",
      "Counter({'Drama': 513, 'Action': 303, 'Comedy': 279, 'Adventure': 259, 'Thriller': 195, 'Crime': 150, 'Romance': 141, 'Sci-Fi': 120, 'Horror': 119, 'Mystery': 106, 'Fantasy': 101, 'Biography': 81, 'Family': 51, 'Animation': 49, 'History': 29, 'Sport': 18, 'Music': 16, 'War': 13, 'Western': 7, 'Musical': 5})\n"
     ]
    }
   ],
   "source": [
    "# Считаем, сколько фильмов в каждом жанре  \n",
    "from collections import Counter  \n",
    "import pdb  \n",
    "  \n",
    "  \n",
    "def count_genres(column):  \n",
    "    genres = []  \n",
    "    pdb.set_trace()  # ставим брейкпоинт в этом месте  \n",
    "    for movie_genres in column:  \n",
    "        splitted = movie_genres.split(\",\")  \n",
    "        genres.extend(splitted)  \n",
    "    counter = Counter(genres)  \n",
    "      \n",
    "    return counter   \n",
    "   \n",
    "print(count_genres(imdb_data[\"Genre\"]))"
   ]
  },
  {
   "cell_type": "markdown",
   "metadata": {},
   "source": [
    "Задание \n",
    "У нас есть функция group_values(db, value_key, group_key, step). Она должна группировать объекты из db по ключу group_key с шагом step. В результат попадает только значение аттрибута value_key.\n",
    "Это похоже на гистограмму, когда мы раскладываем значения по корзинам определённого размера. Скажем, у нас есть пользователи:"
   ]
  },
  {
   "cell_type": "code",
   "execution_count": 10,
   "metadata": {},
   "outputs": [],
   "source": [
    "user_db = [\n",
    "    {\"name\": \"Elena\", \"age\": 19, \"salary\": 80_000},\n",
    "    {\"name\": \"Sergey\", \"age\": 31, \"salary\": 160_000},\n",
    "    {\"name\": \"Olga\", \"age\": 33, \"salary\": 170_000},\n",
    "    {\"name\": \"Vadim\", \"age\": 17, \"salary\": 45_000}\n",
    "]"
   ]
  },
  {
   "cell_type": "markdown",
   "metadata": {},
   "source": [
    "Мы хотим сгруппировать их зарплаты(salary) по возрасту(age) с шагом в 10 лет. Получится:"
   ]
  },
  {
   "cell_type": "code",
   "execution_count": null,
   "metadata": {},
   "outputs": [],
   "source": [
    "group_values(user_db, \"salary\", \"age\", 10)\n",
    "# => \n",
    "# {\n",
    "#     10: [80_000, 45_000],\n",
    "#     30: [160_000, 170_000]\n",
    "# }"
   ]
  },
  {
   "cell_type": "markdown",
   "metadata": {},
   "source": [
    "Сейчас функция возвращает что-то не то. Исправьте это, пользуясь pdb. Для этого вам нужно скопировать код на свой компьютер и запустить либо в Python, либо в Jupyter. Входной формат именно такой, как указан в примере user_db"
   ]
  },
  {
   "cell_type": "code",
   "execution_count": 7,
   "metadata": {},
   "outputs": [
    {
     "data": {
      "text/plain": [
       "defaultdict(list, {9: [80000], 1: [160000], 3: [170000], 7: [45000]})"
      ]
     },
     "execution_count": 7,
     "metadata": {},
     "output_type": "execute_result"
    }
   ],
   "source": [
    "from collections import defaultdict\n",
    "import pdb\n",
    "\n",
    "def group_values(db, value_key, group_key, step):\n",
    "    grouped = defaultdict(list) \n",
    "    for item in db:\n",
    "        grouped[item[group_key] % step].append(item[value_key])\n",
    "        #pdb.set_trace()\n",
    "    return grouped\n",
    "group_values(user_db, \"salary\", \"age\", 10)"
   ]
  },
  {
   "cell_type": "code",
   "execution_count": 12,
   "metadata": {},
   "outputs": [
    {
     "data": {
      "text/plain": [
       "defaultdict(list, {10: [80000, 45000], 30: [160000, 170000]})"
      ]
     },
     "execution_count": 12,
     "metadata": {},
     "output_type": "execute_result"
    }
   ],
   "source": [
    "from collections import defaultdict\n",
    "def group_values(db, value_key, group_key, step):\n",
    "    grouped = defaultdict(list) \n",
    "    for item in db:\n",
    "        grouped[step*(item[group_key]//step)].append(item[value_key])\n",
    "    return grouped\n",
    "group_values(user_db, \"salary\", \"age\", 10)"
   ]
  },
  {
   "cell_type": "markdown",
   "metadata": {},
   "source": [
    "Сложности, которые могут возникнуть  с ручным тестированием, может решить автоматическое тестирование. \n",
    "Нужно анализировать поток данных — что поступает на вход и что получается на выходе; на это и нацелены тесты функций.\n",
    "Воспользуемся библиотекой pytest, которая позволяет определять тесты и используется в крупных проектах.\n",
    "Запустилось три теста (collected 3 items) и все три корректно отработали (3 passed):"
   ]
  },
  {
   "cell_type": "code",
   "execution_count": 13,
   "metadata": {},
   "outputs": [],
   "source": [
    "# Чтобы написать тест, мы должны определить функцию, имя которой начинается на test_  \n",
    "# после этого мы используем ключевое слово assert, которое проверят, является ли истинным значение сразу за ним  \n",
    "def test_something():  \n",
    "    assert True  \n",
    "      \n",
    "def test_equal_string():  \n",
    "    greetings = \"Hello, \" +  \"world\"  \n",
    "    assert greetings == \"Hello, world\"  \n",
    "  \n",
    "def test_numbers():  \n",
    "    total = 73 + 42  \n",
    "    assert total == 115  \n",
    "  \n",
    "# После этого мы запускаем код с помощью pytest из консоли  \n",
    "# >> pytest basic_test.py  \n",
    "# ============================= test session starts ==============================  \n",
    "# collected 3 items                                                                \n",
    "  \n",
    "# basic_test.py ...                                                        [100%]  \n",
    "  \n",
    "# =========================== 3 passed in 0.03 seconds =========================== "
   ]
  },
  {
   "cell_type": "markdown",
   "metadata": {},
   "source": [
    "У нас две проблемы с данными в столбце:\n",
    "-Численные данные заведены строкой, так что мы не можем выполнять арифметические операции.\n",
    "-В данных есть пропуски, например, не у всех фильмов есть оценка с metascore.\n",
    "\n",
    "Напишем и оттестируем функцию, которая это исправляет. Все тесты проходят, всё корректно работает:"
   ]
  },
  {
   "cell_type": "code",
   "execution_count": 1,
   "metadata": {},
   "outputs": [],
   "source": [
    "# Функция, которая обращает все строки в числа и подставляет значение по умолчанию, если встречает пропуск.  \n",
    "def digitize_values(collection, default=0):  \n",
    "    no_missed = [value if value else default for value in collection]   \n",
    "    return [float(value) for value in no_missed]  \n",
    "  \n",
    "# Мы передаём на вход произвольные параметры и смотрим, что функция корректно работает с ними   \n",
    "# Проверим, что функция корректно обращает список строк в список чисел  \n",
    "def test_digitize_convert_to_float():  \n",
    "    assert digitize_values([\"10\", \"50\"])  == [10, 50]  \n",
    "    assert digitize_values([\"70.2\", \"33.4\"]) == [70.2, 33.4]  \n",
    "      \n",
    "# Хорошей практикой считается покрывать разные аспекты функции в разных тестах  \n",
    "# Здесь мы проверим, что функция закрывает пропуски   \n",
    "def test_digitize_restore_missed():  \n",
    "    assert digitize_values([\"\"], 10) == [10]  \n",
    "    assert digitize_values([\"20\", None], 50) == [20, 50]  \n",
    "      \n",
    "# Ещё стоит проверять, что наша функция корректно работает на граничных значениях  \n",
    "# Например, на пустых данных  \n",
    "def test_digitize_empty():  \n",
    "    assert digitize_values([]) == []  \n",
    "      \n",
    "      \n",
    "# Запустим тесты  \n",
    "# >>> pytest digitize.py  \n",
    "# ============================= test session starts ==============================  \n",
    "# collected 3 items                                                                \n",
    "  \n",
    "# digitize.py ...                                                          [100%]  \n",
    "  \n",
    "# =========================== 3 passed in 0.04 seconds ===========================  "
   ]
  },
  {
   "cell_type": "markdown",
   "metadata": {},
   "source": [
    "Задание 2 \n",
    "Напишите функцию safe_exec(ext_func), которая получает на вход функцию func и пробует её выполнить. \n",
    "Если func выбрасывает исключение, то safe_exec выводит поясняющее сообщение этого исключения и возвращает 0.\n",
    "Если func завершается корректно, то мы возращаем результат выполнения функции."
   ]
  },
  {
   "cell_type": "code",
   "execution_count": 14,
   "metadata": {},
   "outputs": [],
   "source": [
    "def zero_div():\n",
    "    return 5/0\n",
    "\n",
    "def normal_div():\n",
    "    return 5/1"
   ]
  },
  {
   "cell_type": "code",
   "execution_count": 33,
   "metadata": {},
   "outputs": [],
   "source": [
    "def safe_exec(ext_func):\n",
    "    try: \n",
    "        return ext_func()\n",
    "    except:  \n",
    "        print('division by zero') \n",
    "        return 0"
   ]
  },
  {
   "cell_type": "code",
   "execution_count": 34,
   "metadata": {},
   "outputs": [
    {
     "name": "stdout",
     "output_type": "stream",
     "text": [
      "division by zero\n"
     ]
    },
    {
     "data": {
      "text/plain": [
       "0"
      ]
     },
     "execution_count": 34,
     "metadata": {},
     "output_type": "execute_result"
    }
   ],
   "source": [
    "safe_exec(zero_div)"
   ]
  },
  {
   "cell_type": "code",
   "execution_count": 29,
   "metadata": {},
   "outputs": [
    {
     "data": {
      "text/plain": [
       "5.0"
      ]
     },
     "execution_count": 29,
     "metadata": {},
     "output_type": "execute_result"
    }
   ],
   "source": [
    "safe_exec(normal_div)"
   ]
  },
  {
   "cell_type": "code",
   "execution_count": null,
   "metadata": {},
   "outputs": [],
   "source": [
    "def safe_exec(ext_func):\n",
    "    try: \n",
    "        return ext_func()\n",
    "    except ZeroDivisionError as zero_error:  \n",
    "        print(zero_error) \n",
    "        return 0"
   ]
  }
 ],
 "metadata": {
  "kernelspec": {
   "display_name": "Python 3",
   "language": "python",
   "name": "python3"
  },
  "language_info": {
   "codemirror_mode": {
    "name": "ipython",
    "version": 3
   },
   "file_extension": ".py",
   "mimetype": "text/x-python",
   "name": "python",
   "nbconvert_exporter": "python",
   "pygments_lexer": "ipython3",
   "version": "3.7.3"
  }
 },
 "nbformat": 4,
 "nbformat_minor": 2
}
