{
 "cells": [
  {
   "cell_type": "markdown",
   "metadata": {},
   "source": [
    "Тестовые задания на уровень осведомленности."
   ]
  },
  {
   "cell_type": "markdown",
   "metadata": {},
   "source": [
    "1: Напишите код на Python, после выполнения которого из словаря будет получено число 80. Запишите ответ в одну строку без пробелов.\n",
    "Код должен начинаться с имени словаря. НЕ используйте функцию print и НЕ присваивайте результат работы кода какой-либо дополнительной переменной"
   ]
  },
  {
   "cell_type": "code",
   "execution_count": 1,
   "metadata": {},
   "outputs": [],
   "source": [
    "my_dict = {'красный':[{'помидор': 115}, {'малина': 10}], \n",
    "\n",
    "           'желтый':[{'лимон': 80}, {'абрикос': 32}], \n",
    "\n",
    "           'зеленый':[{'яблоко': 160}, {'арбуз': 1400}]}"
   ]
  },
  {
   "cell_type": "code",
   "execution_count": 10,
   "metadata": {},
   "outputs": [
    {
     "data": {
      "text/plain": [
       "80"
      ]
     },
     "execution_count": 10,
     "metadata": {},
     "output_type": "execute_result"
    }
   ],
   "source": [
    "my_dict['желтый'][0]['лимон']"
   ]
  },
  {
   "cell_type": "code",
   "execution_count": 7,
   "metadata": {},
   "outputs": [
    {
     "name": "stdout",
     "output_type": "stream",
     "text": [
      "80\n"
     ]
    }
   ],
   "source": [
    "for shortlist in my_dict.values(): \n",
    "    for thing in shortlist:\n",
    "        for price in thing.values():\n",
    "            if price==80:\n",
    "                print(price)"
   ]
  },
  {
   "cell_type": "markdown",
   "metadata": {},
   "source": [
    "2: У нас есть код, который преобразует строку стихотворения Пушкина в список.   \n",
    "Напишите код на Python, который выдает список слов, соответствующий второй строке стихотворения (еще ты дремлешь друг прелестный)."
   ]
  },
  {
   "cell_type": "code",
   "execution_count": 11,
   "metadata": {},
   "outputs": [],
   "source": [
    "pushkin_list = \"Мороз и солнце день чудесный еще ты дремлешь друг прелестный пора красавица проснись открой сомкнутой негой взоры\".split(\" \") "
   ]
  },
  {
   "cell_type": "code",
   "execution_count": 13,
   "metadata": {},
   "outputs": [
    {
     "name": "stdout",
     "output_type": "stream",
     "text": [
      "['еще', 'ты', 'дремлешь', 'друг', 'прелестный']\n"
     ]
    }
   ],
   "source": [
    "new_list=[]\n",
    "check_list='еще ты дремлешь друг прелестный'.split(\" \")\n",
    "for word in pushkin_list:\n",
    "    if word in check_list:\n",
    "        new_list.append(word)\n",
    "print(new_list)"
   ]
  },
  {
   "cell_type": "code",
   "execution_count": 14,
   "metadata": {},
   "outputs": [
    {
     "data": {
      "text/plain": [
       "['еще', 'ты', 'дремлешь', 'друг', 'прелестный']"
      ]
     },
     "execution_count": 14,
     "metadata": {},
     "output_type": "execute_result"
    }
   ],
   "source": [
    "pushkin_list[5:10]"
   ]
  },
  {
   "cell_type": "markdown",
   "metadata": {},
   "source": [
    "3: Напишите функцию count_a_words(s), которая возвращает список слов, содержащих русскую букву а (большую или маленькую) в строке s.\n",
    "Обратите внимание, что функция должна принимать в качестве аргумента переменную типа str, и в результате работы возвращать список (list)."
   ]
  },
  {
   "cell_type": "code",
   "execution_count": 30,
   "metadata": {},
   "outputs": [
    {
     "name": "stdout",
     "output_type": "stream",
     "text": [
      "?да но нет но можна\n",
      "да\n",
      "можна\n",
      "['да', 'можна']\n"
     ]
    }
   ],
   "source": [
    "s=input('?')\n",
    "new_list=[]\n",
    "def count_a_words(s):\n",
    "    for word in s.split(\" \"):\n",
    "        for letter in word:\n",
    "            if letter=='а' or letter=='А':\n",
    "                new_list.append(word)\n",
    "    return new_list\n",
    "d=count_a_words(s)\n",
    "print(d)                          #не принял валидатор ответ"
   ]
  },
  {
   "cell_type": "markdown",
   "metadata": {},
   "source": [
    "Начальные задания:"
   ]
  },
  {
   "cell_type": "code",
   "execution_count": 16,
   "metadata": {
    "scrolled": true
   },
   "outputs": [
    {
     "name": "stdout",
     "output_type": "stream",
     "text": [
      "a=***5***b=***6"
     ]
    }
   ],
   "source": [
    "a=5\n",
    "b=6\n",
    "print(\"a=\", a, \"b=\", b,  sep='***', end='')     #печатаем строку с разделителями"
   ]
  },
  {
   "cell_type": "code",
   "execution_count": null,
   "metadata": {},
   "outputs": [],
   "source": [
    "sourceFile=open('python.txt','w')              #создаем и открываем текстовый файл, записываем в него инфо, закрываем\n",
    "print('this is cool!', file=sourceFile)\n",
    "sourceFile.close()"
   ]
  },
  {
   "cell_type": "code",
   "execution_count": 17,
   "metadata": {},
   "outputs": [
    {
     "name": "stdout",
     "output_type": "stream",
     "text": [
      "1\t2\t3\t4\t5\t6\t7\t8\t9\t\n",
      "2\t4\t6\t8\t10\t12\t14\t16\t18\t\n",
      "3\t6\t9\t12\t15\t18\t21\t24\t27\t\n",
      "4\t8\t12\t16\t20\t24\t28\t32\t36\t\n",
      "5\t10\t15\t20\t25\t30\t35\t40\t45\t\n",
      "6\t12\t18\t24\t30\t36\t42\t48\t54\t\n",
      "7\t14\t21\t28\t35\t42\t49\t56\t63\t\n",
      "8\t16\t24\t32\t40\t48\t56\t64\t72\t\n",
      "9\t18\t27\t36\t45\t54\t63\t72\t81\t\n"
     ]
    }
   ],
   "source": [
    "for i in range(1,10):                         #выводим таблицу умножения\n",
    "    for j in range (1,10):\n",
    "        m=i*j\n",
    "        print(m, end='\\t')\n",
    "    print('')   \n",
    "       "
   ]
  },
  {
   "cell_type": "code",
   "execution_count": 19,
   "metadata": {},
   "outputs": [
    {
     "data": {
      "text/plain": [
       "'hey!'"
      ]
     },
     "execution_count": 19,
     "metadata": {},
     "output_type": "execute_result"
    }
   ],
   "source": [
    "'hey'+'!'                                     #можно просто писать выражение, будет выведен результат"
   ]
  },
  {
   "cell_type": "code",
   "execution_count": 20,
   "metadata": {},
   "outputs": [
    {
     "data": {
      "text/plain": [
       "-0.3909200032552083"
      ]
     },
     "execution_count": 20,
     "metadata": {},
     "output_type": "execute_result"
    }
   ],
   "source": [
    "(1267-20*(5**3/2)**2)/(8**5*36**(1/2))        #можно просто писать выражение, будет выведен результат"
   ]
  },
  {
   "cell_type": "code",
   "execution_count": 21,
   "metadata": {},
   "outputs": [
    {
     "name": "stdout",
     "output_type": "stream",
     "text": [
      "Длина слова  Очаровательно 13  букв\n"
     ]
    }
   ],
   "source": [
    "word='Очаровательно'\n",
    "print('Длина слова ',word,len(word),' букв')  #оператор len определяет длину строки"
   ]
  },
  {
   "cell_type": "code",
   "execution_count": 22,
   "metadata": {},
   "outputs": [
    {
     "name": "stdout",
     "output_type": "stream",
     "text": [
      "Введите любое слово:строка\n",
      "это короткое слово\n"
     ]
    }
   ],
   "source": [
    "word=input('Введите любое слово:')\n",
    "if len(word)>7:\n",
    "    print('это длинное слово')\n",
    "else:\n",
    "    print('это короткое слово')"
   ]
  },
  {
   "cell_type": "code",
   "execution_count": 23,
   "metadata": {},
   "outputs": [
    {
     "name": "stdout",
     "output_type": "stream",
     "text": [
      "Введите любое слово:рука\n",
      "Какую букву проверим?е\n",
      "Выбранной буквы нет в введённом слове\n"
     ]
    }
   ],
   "source": [
    "word=input('Введите любое слово:')\n",
    "letter=input('Какую букву проверим?')\n",
    "if letter in word:                                      #оператор in проверяет наличие символа в строке\n",
    "    print('Выбранная буква есть в введённом слове')\n",
    "else:\n",
    "    print('Выбранной буквы нет в введённом слове')"
   ]
  },
  {
   "cell_type": "code",
   "execution_count": 24,
   "metadata": {},
   "outputs": [
    {
     "name": "stdout",
     "output_type": "stream",
     "text": [
      "Введите любое положительное число:7\n",
      "Извлечь корень без остатка невозможно.\n"
     ]
    }
   ],
   "source": [
    "number=int(input('Введите любое положительное число:'))\n",
    "b=number**(1/2)\n",
    "a=int(b)                                                      #оператор int() делает число(строку) целым\n",
    "c=b-a\n",
    "if c==0: \n",
    "    print(b)\n",
    "else: \n",
    "    print('Извлечь корень без остатка невозможно.')"
   ]
  },
  {
   "cell_type": "code",
   "execution_count": 25,
   "metadata": {},
   "outputs": [
    {
     "name": "stdout",
     "output_type": "stream",
     "text": [
      "Введите ваш вес:68\n",
      "Введите ваш рост:1.85\n",
      "Норма\n"
     ]
    }
   ],
   "source": [
    "weight=float(input('Введите ваш вес:'))                    #оператор float() делает число(строку) вещественным\n",
    "height=float(input('Введите ваш рост:'))\n",
    "ИМТ=weight/height**2\n",
    "if ИМТ<18.5: \n",
    "    print(\"Недостаточная масса тела\")\n",
    "elif ИМТ>24.99: \n",
    "    print(\"Избыточная масса тела\")\n",
    "else: \n",
    "    print('Норма')  "
   ]
  },
  {
   "cell_type": "code",
   "execution_count": 26,
   "metadata": {},
   "outputs": [
    {
     "name": "stdout",
     "output_type": "stream",
     "text": [
      "Введите час:12\n",
      "Введите минуты:45\n",
      "Преподаватель занят.\n"
     ]
    }
   ],
   "source": [
    "hour=int(input('Введите час:'))                          #логические операторы and и or\n",
    "minute=int(input('Введите минуты:'))\n",
    "if hour==10 and minute<30 or hour>=12 and hour<=13 and minute<40 or hour>=15 and hour<18 or hour==19 and minute>30:\n",
    "    print('Преподаватель свободен.')\n",
    "else:\n",
    "    print('Преподаватель занят.')"
   ]
  },
  {
   "cell_type": "code",
   "execution_count": 27,
   "metadata": {},
   "outputs": [
    {
     "name": "stdout",
     "output_type": "stream",
     "text": [
      "n = 9\n",
      "1 3 5 7 9\n"
     ]
    }
   ],
   "source": [
    "n = int(input('n = '))\n",
    "for j in range(1, n, 2):                            #оператор range(А) берет числа от 0 до А, не включая А. \n",
    "    print(j, end=' ')\n",
    "else:\n",
    "    if n % 2:\n",
    "        print(n)"
   ]
  },
  {
   "cell_type": "code",
   "execution_count": 28,
   "metadata": {},
   "outputs": [
    {
     "name": "stdout",
     "output_type": "stream",
     "text": [
      "1 1\n",
      "2 2\n",
      "3 7\n",
      "4 19\n"
     ]
    }
   ],
   "source": [
    "sequence=[1,2,7,19]                                    #список\n",
    "for idx, item in enumerate(sequence, 1):               #оператор enumerate выдает пару номер элемента+элемент\n",
    "    print(idx, item)\n",
    "   "
   ]
  },
  {
   "cell_type": "code",
   "execution_count": 29,
   "metadata": {},
   "outputs": [
    {
     "name": "stdout",
     "output_type": "stream",
     "text": [
      "n = 4\n",
      "1 => 1\n",
      "2 => 1\n",
      "3 => 2\n",
      "4 => 3\n"
     ]
    }
   ],
   "source": [
    "f = None                                             #числа Фибоначчи\n",
    "f1, f2 = 1, 1\n",
    "n = int(input('n = '))\n",
    "print('1 =>', f1)\n",
    "print('2 =>', f2)\n",
    "for j in range(3, n + 1):\n",
    "    f  = f1 + f2\n",
    "    f1, f2 = f2, f\n",
    "    print(j, '=>', f)"
   ]
  },
  {
   "cell_type": "markdown",
   "metadata": {},
   "source": [
    "1.19 Общий синтаксис цикла с параметром  "
   ]
  },
  {
   "cell_type": "markdown",
   "metadata": {},
   "source": [
    "Задание 1:\n",
    "Друзья придумали свой шифр: исходные слова заменять на последовательность нечётных символов в этих словах. Например, 'python' в их шифровке будет выглядеть как 'pto'. Напишите программу, которая помогает зашифровывать слова по этой схеме: принимает на вход слово (word) и последовательно выводит каждый нечётный символ в нём. Для проверки используйте word = 'подшипник'"
   ]
  },
  {
   "cell_type": "code",
   "execution_count": 1,
   "metadata": {},
   "outputs": [
    {
     "name": "stdout",
     "output_type": "stream",
     "text": [
      "Введите слово:подшипник\n",
      "пдинк"
     ]
    }
   ],
   "source": [
    "word=input('Введите слово:')\n",
    "for item, letter in enumerate(word,1):\n",
    "    if item%2==1:\n",
    "        print(letter, end='')"
   ]
  },
  {
   "cell_type": "markdown",
   "metadata": {},
   "source": [
    "То, что приняла проверка. Вывод в столбик."
   ]
  },
  {
   "cell_type": "code",
   "execution_count": 2,
   "metadata": {},
   "outputs": [
    {
     "name": "stdout",
     "output_type": "stream",
     "text": [
      "Введите слово:подшипник\n",
      "пдинк"
     ]
    }
   ],
   "source": [
    "word=input('Введите слово:')\n",
    "for item, letter in enumerate(word,1):\n",
    "   if item%2==1:\n",
    "        print(letter)"
   ]
  },
  {
   "cell_type": "markdown",
   "metadata": {},
   "source": [
    "Задание 2: \n",
    "Вы решили написать программу, которая выявляет високосные года в диапазоне лет. Пусть она принимает на вход два числа: нижняя и верхнюю границу годов (year_1, year_2) (например, 2013 и 2020) и для каждого введённого года выводит информацию: \"... год високосный\" или \"... год невисокосный\". Для проверки используйте year_1 = 2013, year_2 = 2020"
   ]
  },
  {
   "cell_type": "code",
   "execution_count": 9,
   "metadata": {
    "scrolled": true
   },
   "outputs": [
    {
     "name": "stdout",
     "output_type": "stream",
     "text": [
      "введите первый год: \n",
      "2013\n",
      "введите второй год: \n",
      "2020\n",
      "2013 - это невисокосный год\n",
      "2014 - это невисокосный год\n",
      "2015 - это невисокосный год\n",
      "2016 - это високосный год\n",
      "2017 - это невисокосный год\n",
      "2018 - это невисокосный год\n",
      "2019 - это невисокосный год\n",
      "2020 - это високосный год\n"
     ]
    }
   ],
   "source": [
    "year_1=int(input(\"введите первый год: \\n\"))\n",
    "year_2=int(input(\"введите второй год: \\n\"))\n",
    "for i in range (year_1,year_2+1):\n",
    "    if i%4==0 and i%100!=0 or i%100==0 and i%400!=0:\n",
    "        print(i, \"- это високосный год\")\n",
    "    else:\n",
    "        print(i, \"- это невисокосный год\")"
   ]
  },
  {
   "cell_type": "markdown",
   "metadata": {},
   "source": [
    "Задание 3:   \n",
    "Напишите программу, которая принимает на вход слово (word) и последовательно выводит все русские гласные из этого слова. Для проверки используйте word = 'Зимушка-зима'"
   ]
  },
  {
   "cell_type": "code",
   "execution_count": 13,
   "metadata": {},
   "outputs": [
    {
     "name": "stdout",
     "output_type": "stream",
     "text": [
      "Введите слово:ЗИмушка-Зима\n",
      "иуаиа"
     ]
    }
   ],
   "source": [
    "word=input('Введите слово:').lower()\n",
    "for item, letter in enumerate(word,1):\n",
    "    if letter=='а' or letter=='и' or letter=='е' or letter=='ё' or letter=='о' or letter=='у' or letter=='ы' or letter=='э' or letter=='ю'  or letter=='я':\n",
    "        print(letter, end='')"
   ]
  },
  {
   "cell_type": "markdown",
   "metadata": {},
   "source": [
    "То, что приняла проверка. Вывод в столбик:"
   ]
  },
  {
   "cell_type": "code",
   "execution_count": null,
   "metadata": {},
   "outputs": [],
   "source": [
    "word=input('Введите слово:').lower()\n",
    "for item, letter in enumerate(word,1):\n",
    "    if letter=='а' or letter=='и' or letter=='е' or letter=='ё' or letter=='о' or letter=='у' or letter=='ы' or letter=='э' or letter=='ю'  or letter=='я':\n",
    "        print(letter)"
   ]
  },
  {
   "cell_type": "markdown",
   "metadata": {},
   "source": [
    "Задание 4:\n",
    "Попросите пользователя ввести своё имя (name) и с помощью цикла выведите каждую букву этого имени на экран, сопроводив порядковым номером с помощью фразы: \"Буква ... в этом имени - ...\" (например, \"Буква 1 в этом имени - С\"). Для проверки используйте name = 'Сергей'"
   ]
  },
  {
   "cell_type": "code",
   "execution_count": 15,
   "metadata": {
    "scrolled": true
   },
   "outputs": [
    {
     "name": "stdout",
     "output_type": "stream",
     "text": [
      "Введите ваше имя:Вика\n",
      "Буква 1 в этом имени - В\n",
      "Буква 2 в этом имени - и\n",
      "Буква 3 в этом имени - к\n",
      "Буква 4 в этом имени - а\n"
     ]
    }
   ],
   "source": [
    "name=input('Введите ваше имя:')\n",
    "for i, letter in enumerate(name,1):\n",
    "    print( \"Буква {} в этом имени - {}\".format(i,letter))"
   ]
  },
  {
   "cell_type": "markdown",
   "metadata": {},
   "source": [
    "Задание 5:\n",
    "Напишите программу, которая последовательно выводит нечётные числа, которые делятся на 3 или 5, от первого введённого числа (num_1) до второго введённого числа (num_2) включительно. Если второе число меньше первого или первое число меньше нуля, выведите \"Введён неверный диапазон чисел\".\n",
    "Для проверки используйте num_1 = 25, num_2 = 45"
   ]
  },
  {
   "cell_type": "code",
   "execution_count": 19,
   "metadata": {},
   "outputs": [
    {
     "name": "stdout",
     "output_type": "stream",
     "text": [
      "Введите первое число:5\n",
      "Введите второе число:2\n",
      "Введён неверный диапазон чисел\n"
     ]
    }
   ],
   "source": [
    "num_1=int(input('Введите первое число:'))\n",
    "num_2=int(input('Введите второе число:'))\n",
    "if num_1>0 and num_1<num_2:\n",
    "    for j in range(num_1,num_2+1):\n",
    "        if j%2==1 and (j%3==0 or j%5==0):\n",
    "            print(j)\n",
    "else:\n",
    "    print('Введён неверный диапазон чисел')\n",
    "        "
   ]
  },
  {
   "cell_type": "markdown",
   "metadata": {},
   "source": [
    "1.20 Вычисления в циклах"
   ]
  },
  {
   "cell_type": "markdown",
   "metadata": {},
   "source": [
    "Задание 1 \n",
    "Выведите таблицу квадратов и кубов для чисел от 1 до 10. (Каждая новая строчка распечатывается через print() и имеет формат '2 4 8', то есть число, затем его квадрат, а затем его куб)"
   ]
  },
  {
   "cell_type": "code",
   "execution_count": 22,
   "metadata": {},
   "outputs": [
    {
     "name": "stdout",
     "output_type": "stream",
     "text": [
      "1 1 1\n",
      "2 4 8\n",
      "3 9 27\n",
      "4 16 64\n",
      "5 25 125\n",
      "6 36 216\n",
      "7 49 343\n",
      "8 64 512\n",
      "9 81 729\n",
      "10 100 1000\n"
     ]
    }
   ],
   "source": [
    "for i in range(1,11):\n",
    "    print(i, i**2, i**3)"
   ]
  },
  {
   "cell_type": "markdown",
   "metadata": {},
   "source": [
    "Задание 2 \n",
    "Напишите программу, которая получает на вход число (number) и последовательно в порядке возрастания выводит все его делители на экран (само число тоже является своим делителем). "
   ]
  },
  {
   "cell_type": "code",
   "execution_count": 24,
   "metadata": {
    "scrolled": false
   },
   "outputs": [
    {
     "name": "stdout",
     "output_type": "stream",
     "text": [
      "Введите число:10\n",
      "1\n",
      "2\n",
      "5\n",
      "10\n"
     ]
    }
   ],
   "source": [
    "number=int(input('Введите число:'))\n",
    "for n in range(1,number+1):\n",
    "        if number%n==0:\n",
    "            print(n)"
   ]
  },
  {
   "cell_type": "markdown",
   "metadata": {},
   "source": [
    "Задание 3 \n",
    "Написать программу, которая ищет все общие (не равные 1) делители двух чисел (num_1 и num_2), введённых пользователем, и последовательно в порядке возрастания выводит их на экран. Если общих делителей нет, не выводит на экран ничего. \n",
    "Для проверки используйте num_1 = 12 и num_2 = 38"
   ]
  },
  {
   "cell_type": "code",
   "execution_count": 28,
   "metadata": {},
   "outputs": [
    {
     "name": "stdout",
     "output_type": "stream",
     "text": [
      "Введите первое число:10\n",
      "Введите второе число:20\n",
      "2\n",
      "5\n",
      "10\n"
     ]
    }
   ],
   "source": [
    "num_1=int(input('Введите первое число:'))\n",
    "num_2=int(input('Введите второе число:'))\n",
    "if num_1<num_2:\n",
    "    for c in range(2,num_2+1):\n",
    "        if num_1%c==0 and num_2%c==0:\n",
    "            print(c)\n",
    "else:\n",
    "     for c in range(2,num_1+1):\n",
    "        if num_1%c==0 and num_2%c==0:\n",
    "            print(c)"
   ]
  },
  {
   "cell_type": "code",
   "execution_count": 46,
   "metadata": {},
   "outputs": [
    {
     "name": "stdout",
     "output_type": "stream",
     "text": [
      "Введите первое число:1812\n",
      "Введите второе число:2500\n",
      "2\n",
      "4\n"
     ]
    }
   ],
   "source": [
    "num_1=int(input('Введите первое число:'))   #так тоже работает... по сути, этот вариант лучше тем, что проще\n",
    "num_2=int(input('Введите второе число:'))\n",
    "for c in range(2,num_2+1):\n",
    "        if num_1%c==0 and num_2%c==0:\n",
    "            print(c)\n"
   ]
  },
  {
   "cell_type": "markdown",
   "metadata": {},
   "source": [
    "Задание 4 \n",
    "Написать программу, которая на вход получает натуральное цисло n и выводит n-е число ряда Фибоначчи на экран. \n",
    "Для проверки используйте n = 10"
   ]
  },
  {
   "cell_type": "code",
   "execution_count": 35,
   "metadata": {},
   "outputs": [
    {
     "name": "stdout",
     "output_type": "stream",
     "text": [
      "Введите число:3\n",
      "2\n"
     ]
    }
   ],
   "source": [
    "n=int(input('Введите число:'))\n",
    "Fibonacci_n=(((1+5**(1/2))/2)**n-((1-5**(1/2))/2)**n)/(5**(1/2))    #формула Бине\n",
    "print(int(Fibonacci_n))"
   ]
  },
  {
   "cell_type": "code",
   "execution_count": 36,
   "metadata": {},
   "outputs": [
    {
     "name": "stdout",
     "output_type": "stream",
     "text": [
      "Введите число:3\n",
      "2\n"
     ]
    }
   ],
   "source": [
    "n=int(input('Введите число:'))\n",
    "Fibonacci_0=0\n",
    "Fibonacci_1=1\n",
    "for i in range(2,n+1):\n",
    "    Fibonacci_n=Fibonacci_1+Fibonacci_0\n",
    "    Fibonacci_0=Fibonacci_1\n",
    "    Fibonacci_1=Fibonacci_n\n",
    "print(Fibonacci_n)"
   ]
  },
  {
   "cell_type": "markdown",
   "metadata": {},
   "source": [
    "Задание 5  \n",
    "Напишите программу, которая выводит таблицу умножения от 1 до 10 для выбранного целого числа (number). Если number = 15, то строка таблицы имеет вид \"15 X 3 = 45\". \n",
    "Для проверки используйте number = 15"
   ]
  },
  {
   "cell_type": "code",
   "execution_count": 42,
   "metadata": {},
   "outputs": [
    {
     "name": "stdout",
     "output_type": "stream",
     "text": [
      "Введите число:15\n",
      "15 X 1 = 15\n",
      "15 X 2 = 30\n",
      "15 X 3 = 45\n",
      "15 X 4 = 60\n",
      "15 X 5 = 75\n",
      "15 X 6 = 90\n",
      "15 X 7 = 105\n",
      "15 X 8 = 120\n",
      "15 X 9 = 135\n",
      "15 X 10 = 150\n"
     ]
    }
   ],
   "source": [
    "number=int(input('Введите число:'))\n",
    "for i in range(1,11):\n",
    "    result=number*i\n",
    "    print(number, \"X\", i, \"=\", result)"
   ]
  },
  {
   "cell_type": "markdown",
   "metadata": {},
   "source": [
    "1.21 Управление выполнением цикла"
   ]
  },
  {
   "cell_type": "markdown",
   "metadata": {},
   "source": [
    "Задание 1 \n",
    "Напишите программу, которая ищет наибольший (не равный 1) общий делитель двух чисел, введённых пользователем (num_1, num_2), и выводит его на экран. Если общих делителей нет, выводит на экран \"Общих делителей не найдено\". \n",
    "Для проверки используйте num_1 = 1812, num_2 = 2500\n",
    "PS: Если использовать break в цикле for - else, то при прерывании цикла код после else выполняться не будет."
   ]
  },
  {
   "cell_type": "code",
   "execution_count": 52,
   "metadata": {},
   "outputs": [
    {
     "name": "stdout",
     "output_type": "stream",
     "text": [
      "Введите первое число:5\n",
      "Введите второе число:10\n",
      "5\n"
     ]
    }
   ],
   "source": [
    "num_1=int(input('Введите первое число:'))\n",
    "num_2=int(input('Введите второе число:'))\n",
    "maxim=0\n",
    "for c in range(1,num_2+1):                            #не поняла, как делать с break или continue\n",
    "    if num_1%c==0 and num_2%c==0:\n",
    "        maxim=c\n",
    "if maxim>1:\n",
    "    print(maxim)\n",
    "else:\n",
    "    print('Общих делителей не найдено')"
   ]
  },
  {
   "cell_type": "markdown",
   "metadata": {},
   "source": [
    "Задание 2 \n",
    "Напишите программу с использованием оператора continue, которая принимает на вход строку (string), после чего выводит её посимвольно, но без букв а, б, в. Пример: ввод \"арбуз\", вывод \"руз\". \n",
    "\n",
    "Для проверки используйте string = 'абстракция'\n",
    "\n",
    "PS: Чтобы выводить побуквенно в одну строчку, в фукнции print предусмотрен параметр end. Если написать print('Hallo!', end=''), следующий print продолжит вывод не с новой строки."
   ]
  },
  {
   "cell_type": "code",
   "execution_count": 61,
   "metadata": {},
   "outputs": [
    {
     "name": "stdout",
     "output_type": "stream",
     "text": [
      "Введите слово:абстракция\n",
      "стркция"
     ]
    }
   ],
   "source": [
    "string=input('Введите слово:')\n",
    "for idx, letter in enumerate(string):\n",
    "    if letter=='а' or letter=='б' or letter=='в':\n",
    "        continue\n",
    "    print(letter, end='')"
   ]
  },
  {
   "cell_type": "markdown",
   "metadata": {},
   "source": [
    "Задание 3 \n",
    "Напишите программу, которая анализирует ответы пользователя на вопрос \"Любите ли вы Python?\". Если ответ пользователя (string) - \"Да\", то программа отвечает: \"Это отлично!\", иначе программа отвечает: \"Увы, это неправильный ответ\". Программа должна \"спросить\" пользователя максимум 5 раз. При пяти ответах \"Нет\" выводит: \"Это безнадёжно!\". \n",
    "Для проверки используйте string = 'Нет', а на каждой итерации цикла не меняйте значение переменной.\n",
    "Команду, выводящую на экран вопрос: \"Любите ли вы Python?\", с код включать НЕ нужно. "
   ]
  },
  {
   "cell_type": "code",
   "execution_count": 5,
   "metadata": {},
   "outputs": [
    {
     "name": "stdout",
     "output_type": "stream",
     "text": [
      "Любите ли вы Python:да\n",
      "Это отлично!\n"
     ]
    }
   ],
   "source": [
    "c=0\n",
    "for i in range(5):\n",
    "    answer=input('Любите ли вы Python:').lower()\n",
    "    if answer=='да':\n",
    "        print('Это отлично!')\n",
    "        break\n",
    "    else:\n",
    "        print('Увы, это неправильный ответ')\n",
    "        c=c+1\n",
    "        if c==5:\n",
    "            print('Это безнадёжно!')        "
   ]
  },
  {
   "cell_type": "code",
   "execution_count": 11,
   "metadata": {},
   "outputs": [
    {
     "name": "stdout",
     "output_type": "stream",
     "text": [
      "Любите ли вы Python:нет\n",
      "Увы, это неправильный ответ\n",
      "Любите ли вы Python:нет\n",
      "Увы, это неправильный ответ\n",
      "Любите ли вы Python:нет\n",
      "Увы, это неправильный ответ\n",
      "Любите ли вы Python:нет\n",
      "Увы, это неправильный ответ\n",
      "Любите ли вы Python:нет\n",
      "Это безнадёжно!\n",
      "Любите ли вы Python:да\n",
      "Это отлично!\n"
     ]
    }
   ],
   "source": [
    "c=0\n",
    "for i in range(5):\n",
    "    answer=input('Любите ли вы Python:').lower()\n",
    "    if answer=='нет':\n",
    "        c=c+1\n",
    "        if c==5:\n",
    "            print('Это безнадёжно!')\n",
    "            continue\n",
    "        print('Увы, это неправильный ответ')     \n",
    "    else:\n",
    "        print('Это отлично!')\n",
    "        break      "
   ]
  },
  {
   "cell_type": "code",
   "execution_count": 14,
   "metadata": {},
   "outputs": [
    {
     "name": "stdout",
     "output_type": "stream",
     "text": [
      "Увы, это неправильный ответ\n",
      "Увы, это неправильный ответ\n",
      "Увы, это неправильный ответ\n",
      "Увы, это неправильный ответ\n",
      "Увы, это неправильный ответ\n",
      "Это безнадёжно!\n"
     ]
    }
   ],
   "source": [
    "for i in range(5):                              #то, что приняла проверка\n",
    "    string='Нет'\n",
    "    if string=='Нет':\n",
    "        print('Увы, это неправильный ответ')  \n",
    "        if i==4:\n",
    "            print('Это безнадёжно!')\n",
    "            continue\n",
    "    else:\n",
    "        print('Это отлично!')\n",
    "        break      "
   ]
  },
  {
   "cell_type": "markdown",
   "metadata": {},
   "source": [
    "Задание 4 \n",
    "Напишите программу, которая проверяет, является ли введённое число (number) простым. Если число простое, то программа выводит \"Простое\", иначе \"Не является простым\". \n",
    "\n",
    "Для проверки используйте number = 173"
   ]
  },
  {
   "cell_type": "code",
   "execution_count": 24,
   "metadata": {},
   "outputs": [
    {
     "name": "stdout",
     "output_type": "stream",
     "text": [
      "Введите число:173\n",
      "Простое\n"
     ]
    }
   ],
   "source": [
    "number=int(input('Введите число:'))\n",
    "for i in range(2,number):\n",
    "    if number%i==0:\n",
    "        print('Не является простым')\n",
    "        break\n",
    "else:\n",
    "    print('Простое')"
   ]
  },
  {
   "cell_type": "markdown",
   "metadata": {},
   "source": [
    "Задание 5 \n",
    "Напишите программу, которая проверяет введённую пользователем строку (string) на соответствие правилу: у строки нет ни одной гласной русской маленькой буквы на каждой чётной позиции. Пример подходящей строки: \"пока!\" (в Python первый символ является нулевым, поэтому мы считаем первый символ чётным). Если строка подходит, программа выводит на экран \"Какая хорошая строка!\", а иначе \"Строка мне не нравится!\". \n",
    "\n",
    "Для проверки используйте string = 'прелестная строка'"
   ]
  },
  {
   "cell_type": "code",
   "execution_count": 28,
   "metadata": {},
   "outputs": [
    {
     "name": "stdout",
     "output_type": "stream",
     "text": [
      "Введите строку:пока\n",
      "Какая хорошая строка!\n"
     ]
    }
   ],
   "source": [
    "string=input('Введите строку:').lower()\n",
    "for item, letter in enumerate(string, 0):\n",
    "    if item%2==0 and (letter=='а' or letter=='и' or letter=='е' or letter=='ё' or letter=='о' or letter=='у' or letter=='ы' or letter=='э' or letter=='ю'  or letter=='я'):\n",
    "        print(\"Строка мне не нравится!\")\n",
    "        break\n",
    "else:\n",
    "    print(\"Какая хорошая строка!\")    "
   ]
  },
  {
   "cell_type": "markdown",
   "metadata": {},
   "source": [
    "1.22 Цикл while"
   ]
  },
  {
   "cell_type": "markdown",
   "metadata": {},
   "source": [
    "Задание 1 \n",
    "Клиент банка открыл вклад под 10% годовых и положил на этот счёт Y рублей. Напишите программу, позволяющую определить, через сколько лет клиент будет иметь на счету сумму не менее Z рублей. На вход программе идут два числа - Y, Z. \n",
    "Внимание: в процессе выполнения программы изменяйте переменную Y."
   ]
  },
  {
   "cell_type": "code",
   "execution_count": 3,
   "metadata": {},
   "outputs": [
    {
     "name": "stdout",
     "output_type": "stream",
     "text": [
      "Введите сумму, которую вы хотите иметь на счету:1000000\n",
      "Введите сумму, которую вы кладете на счет:170000\n",
      "Вы будете иметь эту сумму на счету через 19 лет\n"
     ]
    }
   ],
   "source": [
    "Z=int(input('Введите сумму, которую вы хотите иметь на счету:'))  \n",
    "Y=int(input('Введите сумму, которую вы кладете на счет:'))        \n",
    "year=0\n",
    "yearly_multiplier=1.1\n",
    "while Y<Z:\n",
    "    Y=Y*yearly_multiplier\n",
    "    year=year+1\n",
    "else:\n",
    "    print('Вы будете иметь эту сумму на счету через', year, 'лет')"
   ]
  },
  {
   "cell_type": "markdown",
   "metadata": {},
   "source": [
    "Задание 2 \n",
    "Пассажирский лифт имеет ограничение на перевозку - не более 400 кг единовременно. Пусть на вход программе поступают веса (weight) входящих в лифт людей, а в случае, когда возникает перевес, программа выдаёт предупреждение: \"Перевес N кг\" (при перевесе в 15 кг \"Перевес 15 кг\") и указывает, насколько текущий вес пассажиров превзошёл максимум. \n",
    "Для проверки используйте weight = 77 и не меняйте его по ходу цикла."
   ]
  },
  {
   "cell_type": "code",
   "execution_count": 5,
   "metadata": {},
   "outputs": [
    {
     "name": "stdout",
     "output_type": "stream",
     "text": [
      "Введите вес зашедшего: 100\n",
      "Введите вес зашедшего: 100\n",
      "Введите вес зашедшего: 100\n",
      "Введите вес зашедшего: 114\n",
      "Перевес 14 кг\n"
     ]
    }
   ],
   "source": [
    "total_weight=0\n",
    "while total_weight<400:\n",
    "    weight=int(input('Введите вес зашедшего: '))\n",
    "    total_weight=total_weight+weight\n",
    "else:\n",
    "    print('Перевес', total_weight-400, 'кг')"
   ]
  },
  {
   "cell_type": "markdown",
   "metadata": {},
   "source": [
    "Задание 3 \n",
    "Вы играете в компьютерную игру, дошли до схватки с финальным боссом, но вот беда! Ваш компьютер заглючил, и вы не можете управлять персонажем в игре. Босс вас аттакует и каждую секунду наносит вам один удар, который отнимает у вас 80 единиц здоровья. На схватку с боссом вы вышли с 500 единицами здоровья. Создайте цикл, позволяющий понять, через сколько секунд босс вас убьет. \n",
    "Для проверки используйте переменную current_health для сохранения текущего уровня здоровья и изменяйте её по ходу цикла, и переменную attack = 80 для хранения значения атаки Босса."
   ]
  },
  {
   "cell_type": "code",
   "execution_count": 6,
   "metadata": {},
   "outputs": [
    {
     "name": "stdout",
     "output_type": "stream",
     "text": [
      "через 7\n"
     ]
    }
   ],
   "source": [
    "damage=0\n",
    "time=0\n",
    "while damage<500:\n",
    "    damage=damage+80\n",
    "    time=time+1\n",
    "else:\n",
    "    print('через', time)"
   ]
  },
  {
   "cell_type": "code",
   "execution_count": 7,
   "metadata": {},
   "outputs": [
    {
     "name": "stdout",
     "output_type": "stream",
     "text": [
      "через 7\n"
     ]
    }
   ],
   "source": [
    "current_health=500\n",
    "attack=80\n",
    "time=0\n",
    "while current_health>0:\n",
    "    current_health=current_health-attack\n",
    "    time=time+1\n",
    "else:\n",
    "    print('через', time)"
   ]
  },
  {
   "cell_type": "markdown",
   "metadata": {},
   "source": [
    "Задание 4 \n",
    "На банковской карте находится 10 000 рублей. Её хозяин имел привычку записывать все свои расходы в специальный дневник, но, немного научившись программировать, он решил автоматизировать процесс. Он написал программу, в которую вводит свои расходы (spent) (в рублях), а программа показывает баланс (balance) (При остатке 3500 показывается сообщение 3500). Как выглядел код этой программы? (Когда списание переходит через 0 в балансе, программа выводит \"Слишком большие расходы\") \n",
    "Для проверки используйте переменную spent = 2800 и не меняйте её по ходу цикла."
   ]
  },
  {
   "cell_type": "code",
   "execution_count": 13,
   "metadata": {},
   "outputs": [
    {
     "name": "stdout",
     "output_type": "stream",
     "text": [
      "Введите расходы:6000\n",
      "4000\n",
      "Введите расходы:5000\n",
      "Слишком большие расходы\n"
     ]
    }
   ],
   "source": [
    "balance=10000\n",
    "while balance>0:\n",
    "    spent=int(input('Введите расходы:'))\n",
    "    balance=balance-spent\n",
    "    if balance<0:\n",
    "            continue\n",
    "    print(balance)\n",
    "    \n",
    "else:\n",
    "    print('Слишком большие расходы')"
   ]
  },
  {
   "cell_type": "code",
   "execution_count": null,
   "metadata": {},
   "outputs": [],
   "source": [
    "balance=10000             #принято проверкой\n",
    "spent=2800\n",
    "while balance>spent:\n",
    "    balance=balance-spent\n",
    "    print(balance)\n",
    "else:\n",
    "    print('Слишком большие расходы')"
   ]
  },
  {
   "cell_type": "markdown",
   "metadata": {},
   "source": [
    "Задание 5 \n",
    "Представьте, что перед вами большая цистерна объёмом 1000 литров. Её необходимо наполнить полностью водой и при этом не допустить того, чтобы вода перелилась через край. У вас есть робот, который доставляет в цистерну сначала 5 литров, а затем каждый раз на 5 литров больше, чем в предыдущий. Изначально в цистерне нет воды. Выведите на экран через сколько заходов робота вода польётся через край?\n",
    "Для проверки используйте переменную volume, равную свободному объёму в цистерне, и меняйте её по ходу цикла (на последнем шаге она должна быть меньше нуля)."
   ]
  },
  {
   "cell_type": "code",
   "execution_count": 14,
   "metadata": {},
   "outputs": [
    {
     "name": "stdout",
     "output_type": "stream",
     "text": [
      "20\n"
     ]
    }
   ],
   "source": [
    "volume=1000\n",
    "add=5\n",
    "time=0\n",
    "while volume>0:\n",
    "    volume=volume-add\n",
    "    add=add+5\n",
    "    time=time+1\n",
    "else:\n",
    "    print(time)"
   ]
  }
 ],
 "metadata": {
  "kernelspec": {
   "display_name": "Python 3",
   "language": "python",
   "name": "python3"
  },
  "language_info": {
   "codemirror_mode": {
    "name": "ipython",
    "version": 3
   },
   "file_extension": ".py",
   "mimetype": "text/x-python",
   "name": "python",
   "nbconvert_exporter": "python",
   "pygments_lexer": "ipython3",
   "version": "3.7.3"
  }
 },
 "nbformat": 4,
 "nbformat_minor": 2
}
