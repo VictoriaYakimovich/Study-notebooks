{
 "cells": [
  {
   "cell_type": "code",
   "execution_count": 1,
   "metadata": {},
   "outputs": [
    {
     "name": "stdout",
     "output_type": "stream",
     "text": [
      "/kaggle/input/kaggle-sf-dst-through-1/kaggle_task.csv\n",
      "/kaggle/input/kaggle-sf-dst-through-1/sample_submission.csv/sample_submission.csv\n",
      "/kaggle/input/kaggle-sf-dst-through-1/main_task.csv/main_task.csv\n"
     ]
    }
   ],
   "source": [
    "# This Python 3 environment comes with many helpful analytics libraries installed\n",
    "# It is defined by the kaggle/python docker image: https://github.com/kaggle/docker-python\n",
    "# For example, here's several helpful packages to load in \n",
    "\n",
    "import numpy as np # linear algebra\n",
    "import pandas as pd # data processing, CSV file I/O (e.g. pd.read_csv)\n",
    "\n",
    "import matplotlib.pyplot as plt\n",
    "import seaborn as sns \n",
    "%matplotlib inline\n",
    "\n",
    "# Загружаем специальный удобный инструмент для разделения датасета:\n",
    "from sklearn.model_selection import train_test_split\n",
    "\n",
    "# Импортируем необходимые библиотеки:\n",
    "from sklearn.ensemble import RandomForestRegressor # инструмент для создания и обучения модели\n",
    "from sklearn import metrics # инструменты для оценки точности модели\n",
    "\n",
    "# Input data files are available in the \"../input/\" directory.\n",
    "# For example, running this (by clicking run or pressing Shift+Enter) will list all files under the input directory\n",
    "\n",
    "import os\n",
    "for dirname, _, filenames in os.walk('/kaggle/input'):\n",
    "    for filename in filenames:\n",
    "        print(os.path.join(dirname, filename))\n",
    "\n",
    "# Any results you write to the current directory are saved as output."
   ]
  },
  {
   "cell_type": "code",
   "execution_count": 2,
   "metadata": {},
   "outputs": [],
   "source": [
    "import collections\n",
    "from collections import Counter"
   ]
  },
  {
   "cell_type": "code",
   "execution_count": 3,
   "metadata": {},
   "outputs": [],
   "source": [
    "# всегда фиксируйте RANDOM_SEED, чтобы ваши эксперименты были воспроизводимы!\n",
    "RANDOM_SEED = 42"
   ]
  },
  {
   "cell_type": "code",
   "execution_count": 4,
   "metadata": {},
   "outputs": [],
   "source": [
    "# зафиксируем версию пакетов, чтобы эксперименты были воспроизводимы:\n",
    "!pip freeze > requirements.txt"
   ]
  },
  {
   "cell_type": "code",
   "execution_count": 5,
   "metadata": {},
   "outputs": [],
   "source": [
    "df_train = pd.read_csv('/kaggle/input/kaggle-sf-dst-through-1/main_task.csv/main_task.csv')\n",
    "df_test = pd.read_csv('/kaggle/input/kaggle-sf-dst-through-1/kaggle_task.csv')\n",
    "sample_submission = pd.read_csv('/kaggle/input/kaggle-sf-dst-through-1/sample_submission.csv/sample_submission.csv')"
   ]
  },
  {
   "cell_type": "code",
   "execution_count": 6,
   "metadata": {},
   "outputs": [],
   "source": [
    "#ВАЖНО! дря корректной обработки признаков объединяем трейн и тест в один датасет\n",
    "df_train['sample'] = 1 # помечаем где у нас трейн\n",
    "df_test['sample'] = 0 # помечаем где у нас тест\n",
    "df_test['Rating'] = 0 # в тесте у нас нет значения Rating, мы его должны предсказать, по этому пока просто заполняем нулями"
   ]
  },
  {
   "cell_type": "code",
   "execution_count": 7,
   "metadata": {},
   "outputs": [],
   "source": [
    "data = df_test.append(df_train, sort=False).reset_index(drop=True) # объединяем"
   ]
  },
  {
   "cell_type": "code",
   "execution_count": 8,
   "metadata": {
    "scrolled": true
   },
   "outputs": [
    {
     "data": {
      "text/html": [
       "<div>\n",
       "<style scoped>\n",
       "    .dataframe tbody tr th:only-of-type {\n",
       "        vertical-align: middle;\n",
       "    }\n",
       "\n",
       "    .dataframe tbody tr th {\n",
       "        vertical-align: top;\n",
       "    }\n",
       "\n",
       "    .dataframe thead th {\n",
       "        text-align: right;\n",
       "    }\n",
       "</style>\n",
       "<table border=\"1\" class=\"dataframe\">\n",
       "  <thead>\n",
       "    <tr style=\"text-align: right;\">\n",
       "      <th></th>\n",
       "      <th>Restaurant_id</th>\n",
       "      <th>City</th>\n",
       "      <th>Cuisine Style</th>\n",
       "      <th>Ranking</th>\n",
       "      <th>Price Range</th>\n",
       "      <th>Number of Reviews</th>\n",
       "      <th>Reviews</th>\n",
       "      <th>URL_TA</th>\n",
       "      <th>ID_TA</th>\n",
       "      <th>sample</th>\n",
       "      <th>Rating</th>\n",
       "    </tr>\n",
       "  </thead>\n",
       "  <tbody>\n",
       "    <tr>\n",
       "      <th>5935</th>\n",
       "      <td>id_5935</td>\n",
       "      <td>Paris</td>\n",
       "      <td>['French']</td>\n",
       "      <td>3929.0</td>\n",
       "      <td>$$ - $$$</td>\n",
       "      <td>519.0</td>\n",
       "      <td>[['Cool place', 'Great evening'], ['01/06/2018...</td>\n",
       "      <td>/Restaurant_Review-g187147-d4990732-Reviews-Le...</td>\n",
       "      <td>d4990732</td>\n",
       "      <td>0</td>\n",
       "      <td>0.0</td>\n",
       "    </tr>\n",
       "    <tr>\n",
       "      <th>35178</th>\n",
       "      <td>id_1952</td>\n",
       "      <td>Prague</td>\n",
       "      <td>['Cafe']</td>\n",
       "      <td>1955.0</td>\n",
       "      <td>$</td>\n",
       "      <td>3.0</td>\n",
       "      <td>[['Treasure in our neighbourhood'], ['09/14/20...</td>\n",
       "      <td>/Restaurant_Review-g274707-d7626286-Reviews-Ca...</td>\n",
       "      <td>d7626286</td>\n",
       "      <td>1</td>\n",
       "      <td>5.0</td>\n",
       "    </tr>\n",
       "    <tr>\n",
       "      <th>32305</th>\n",
       "      <td>id_7084</td>\n",
       "      <td>Barcelona</td>\n",
       "      <td>['American', 'Steakhouse', 'Barbecue']</td>\n",
       "      <td>7085.0</td>\n",
       "      <td>$$ - $$$</td>\n",
       "      <td>105.0</td>\n",
       "      <td>[['Average', 'Terrible food and service. Pleas...</td>\n",
       "      <td>/Restaurant_Review-g187497-d3998679-Reviews-Ri...</td>\n",
       "      <td>d3998679</td>\n",
       "      <td>1</td>\n",
       "      <td>3.0</td>\n",
       "    </tr>\n",
       "    <tr>\n",
       "      <th>49690</th>\n",
       "      <td>id_390</td>\n",
       "      <td>Hamburg</td>\n",
       "      <td>['Vietnamese', 'Vegetarian Friendly']</td>\n",
       "      <td>391.0</td>\n",
       "      <td>$$ - $$$</td>\n",
       "      <td>13.0</td>\n",
       "      <td>[['Not only mainstream dishes', 'Easy weekday ...</td>\n",
       "      <td>/Restaurant_Review-g187331-d12125766-Reviews-L...</td>\n",
       "      <td>d12125766</td>\n",
       "      <td>1</td>\n",
       "      <td>5.0</td>\n",
       "    </tr>\n",
       "    <tr>\n",
       "      <th>42675</th>\n",
       "      <td>id_3773</td>\n",
       "      <td>Barcelona</td>\n",
       "      <td>NaN</td>\n",
       "      <td>3774.0</td>\n",
       "      <td>NaN</td>\n",
       "      <td>5.0</td>\n",
       "      <td>[[], []]</td>\n",
       "      <td>/Restaurant_Review-g187497-d5614259-Reviews-Me...</td>\n",
       "      <td>d5614259</td>\n",
       "      <td>1</td>\n",
       "      <td>5.0</td>\n",
       "    </tr>\n",
       "  </tbody>\n",
       "</table>\n",
       "</div>"
      ],
      "text/plain": [
       "      Restaurant_id       City                           Cuisine Style  \\\n",
       "5935        id_5935      Paris                              ['French']   \n",
       "35178       id_1952     Prague                                ['Cafe']   \n",
       "32305       id_7084  Barcelona  ['American', 'Steakhouse', 'Barbecue']   \n",
       "49690        id_390    Hamburg   ['Vietnamese', 'Vegetarian Friendly']   \n",
       "42675       id_3773  Barcelona                                     NaN   \n",
       "\n",
       "       Ranking Price Range  Number of Reviews  \\\n",
       "5935    3929.0    $$ - $$$              519.0   \n",
       "35178   1955.0           $                3.0   \n",
       "32305   7085.0    $$ - $$$              105.0   \n",
       "49690    391.0    $$ - $$$               13.0   \n",
       "42675   3774.0         NaN                5.0   \n",
       "\n",
       "                                                 Reviews  \\\n",
       "5935   [['Cool place', 'Great evening'], ['01/06/2018...   \n",
       "35178  [['Treasure in our neighbourhood'], ['09/14/20...   \n",
       "32305  [['Average', 'Terrible food and service. Pleas...   \n",
       "49690  [['Not only mainstream dishes', 'Easy weekday ...   \n",
       "42675                                           [[], []]   \n",
       "\n",
       "                                                  URL_TA      ID_TA  sample  \\\n",
       "5935   /Restaurant_Review-g187147-d4990732-Reviews-Le...   d4990732       0   \n",
       "35178  /Restaurant_Review-g274707-d7626286-Reviews-Ca...   d7626286       1   \n",
       "32305  /Restaurant_Review-g187497-d3998679-Reviews-Ri...   d3998679       1   \n",
       "49690  /Restaurant_Review-g187331-d12125766-Reviews-L...  d12125766       1   \n",
       "42675  /Restaurant_Review-g187497-d5614259-Reviews-Me...   d5614259       1   \n",
       "\n",
       "       Rating  \n",
       "5935      0.0  \n",
       "35178     5.0  \n",
       "32305     3.0  \n",
       "49690     5.0  \n",
       "42675     5.0  "
      ]
     },
     "execution_count": 8,
     "metadata": {},
     "output_type": "execute_result"
    }
   ],
   "source": [
    "data.sample(5)"
   ]
  },
  {
   "cell_type": "code",
   "execution_count": 9,
   "metadata": {
    "scrolled": true
   },
   "outputs": [
    {
     "data": {
      "text/plain": [
       "Restaurant_id            0\n",
       "City                     0\n",
       "Cuisine Style        11590\n",
       "Ranking                  0\n",
       "Price Range          17361\n",
       "Number of Reviews     3200\n",
       "Reviews                  2\n",
       "URL_TA                   0\n",
       "ID_TA                    0\n",
       "sample                   0\n",
       "Rating                   0\n",
       "dtype: int64"
      ]
     },
     "execution_count": 9,
     "metadata": {},
     "output_type": "execute_result"
    }
   ],
   "source": [
    "data.isna().sum()"
   ]
  },
  {
   "cell_type": "markdown",
   "metadata": {},
   "source": [
    "Перед обработкой NAN лучше вынести информацию о наличии пропуска как отдельный признак.\n",
    "Добавляем столбец с информацией о пропусках и заполняем пропуски в столце 'Number of Reviews' нулями (можено попробовать заполнением средним или средним по городу и тд...)"
   ]
  },
  {
   "cell_type": "code",
   "execution_count": 10,
   "metadata": {},
   "outputs": [],
   "source": [
    "data['Number of Reviews_isNAN'] = pd.isna(data['Number of Reviews']).astype('uint8')\n",
    "data['Number of Reviews'].fillna(0, inplace=True)"
   ]
  },
  {
   "cell_type": "code",
   "execution_count": 11,
   "metadata": {
    "scrolled": true
   },
   "outputs": [
    {
     "data": {
      "text/plain": [
       "Restaurant_id              13094\n",
       "City                          31\n",
       "Cuisine Style              10732\n",
       "Ranking                    12975\n",
       "Price Range                    4\n",
       "Number of Reviews           1574\n",
       "Reviews                    41858\n",
       "URL_TA                     49963\n",
       "ID_TA                      49963\n",
       "sample                         2\n",
       "Rating                        10\n",
       "Number of Reviews_isNAN        2\n",
       "dtype: int64"
      ]
     },
     "execution_count": 11,
     "metadata": {},
     "output_type": "execute_result"
    }
   ],
   "source": [
    "data.nunique(dropna=False)"
   ]
  },
  {
   "cell_type": "markdown",
   "metadata": {},
   "source": [
    "Для кодирования категориальных признаков есть множество подходов:\n",
    "Label Encoding,\n",
    "One-Hot Encoding,\n",
    "Target Encoding,\n",
    "Hashing."
   ]
  },
  {
   "cell_type": "markdown",
   "metadata": {},
   "source": [
    "Добавляем дамми-столбцы с городами подходом One-Hot Encoding"
   ]
  },
  {
   "cell_type": "code",
   "execution_count": 12,
   "metadata": {},
   "outputs": [],
   "source": [
    "City=data['City']"
   ]
  },
  {
   "cell_type": "code",
   "execution_count": 13,
   "metadata": {},
   "outputs": [],
   "source": [
    "# для One-Hot Encoding в pandas есть готовая функция - get_dummies. Особенно радует параметр dummy_na\n",
    "data = pd.get_dummies(data, columns=[ 'City',], dummy_na=True)"
   ]
  },
  {
   "cell_type": "code",
   "execution_count": 14,
   "metadata": {},
   "outputs": [],
   "source": [
    "data['City']=City"
   ]
  },
  {
   "cell_type": "code",
   "execution_count": 15,
   "metadata": {},
   "outputs": [
    {
     "data": {
      "text/html": [
       "<div>\n",
       "<style scoped>\n",
       "    .dataframe tbody tr th:only-of-type {\n",
       "        vertical-align: middle;\n",
       "    }\n",
       "\n",
       "    .dataframe tbody tr th {\n",
       "        vertical-align: top;\n",
       "    }\n",
       "\n",
       "    .dataframe thead th {\n",
       "        text-align: right;\n",
       "    }\n",
       "</style>\n",
       "<table border=\"1\" class=\"dataframe\">\n",
       "  <thead>\n",
       "    <tr style=\"text-align: right;\">\n",
       "      <th></th>\n",
       "      <th>Restaurant_id</th>\n",
       "      <th>Cuisine Style</th>\n",
       "      <th>Ranking</th>\n",
       "      <th>Price Range</th>\n",
       "      <th>Number of Reviews</th>\n",
       "      <th>Reviews</th>\n",
       "      <th>URL_TA</th>\n",
       "      <th>ID_TA</th>\n",
       "      <th>sample</th>\n",
       "      <th>Rating</th>\n",
       "      <th>...</th>\n",
       "      <th>City_Oslo</th>\n",
       "      <th>City_Paris</th>\n",
       "      <th>City_Prague</th>\n",
       "      <th>City_Rome</th>\n",
       "      <th>City_Stockholm</th>\n",
       "      <th>City_Vienna</th>\n",
       "      <th>City_Warsaw</th>\n",
       "      <th>City_Zurich</th>\n",
       "      <th>City_nan</th>\n",
       "      <th>City</th>\n",
       "    </tr>\n",
       "  </thead>\n",
       "  <tbody>\n",
       "    <tr>\n",
       "      <th>45718</th>\n",
       "      <td>id_1505</td>\n",
       "      <td>['German', 'European', 'Central European']</td>\n",
       "      <td>1507.0</td>\n",
       "      <td>$$ - $$$</td>\n",
       "      <td>55.0</td>\n",
       "      <td>[['good food but please invest in service', 'A...</td>\n",
       "      <td>/Restaurant_Review-g187323-d2269134-Reviews-Th...</td>\n",
       "      <td>d2269134</td>\n",
       "      <td>1</td>\n",
       "      <td>4.0</td>\n",
       "      <td>...</td>\n",
       "      <td>0</td>\n",
       "      <td>0</td>\n",
       "      <td>0</td>\n",
       "      <td>0</td>\n",
       "      <td>0</td>\n",
       "      <td>0</td>\n",
       "      <td>0</td>\n",
       "      <td>0</td>\n",
       "      <td>0</td>\n",
       "      <td>Berlin</td>\n",
       "    </tr>\n",
       "    <tr>\n",
       "      <th>4327</th>\n",
       "      <td>id_4327</td>\n",
       "      <td>['Italian', 'Mediterranean', 'European', 'Vege...</td>\n",
       "      <td>446.0</td>\n",
       "      <td>$$ - $$$</td>\n",
       "      <td>525.0</td>\n",
       "      <td>[['Nice location - average food ....', 'They c...</td>\n",
       "      <td>/Restaurant_Review-g188057-d1025141-Reviews-Re...</td>\n",
       "      <td>d1025141</td>\n",
       "      <td>0</td>\n",
       "      <td>0.0</td>\n",
       "      <td>...</td>\n",
       "      <td>0</td>\n",
       "      <td>0</td>\n",
       "      <td>0</td>\n",
       "      <td>0</td>\n",
       "      <td>0</td>\n",
       "      <td>0</td>\n",
       "      <td>0</td>\n",
       "      <td>0</td>\n",
       "      <td>0</td>\n",
       "      <td>Geneva</td>\n",
       "    </tr>\n",
       "    <tr>\n",
       "      <th>13725</th>\n",
       "      <td>id_398</td>\n",
       "      <td>NaN</td>\n",
       "      <td>399.0</td>\n",
       "      <td>NaN</td>\n",
       "      <td>4.0</td>\n",
       "      <td>[['For students', 'Best option around for stud...</td>\n",
       "      <td>/Restaurant_Review-g274873-d10347901-Reviews-N...</td>\n",
       "      <td>d10347901</td>\n",
       "      <td>1</td>\n",
       "      <td>4.0</td>\n",
       "      <td>...</td>\n",
       "      <td>0</td>\n",
       "      <td>0</td>\n",
       "      <td>0</td>\n",
       "      <td>0</td>\n",
       "      <td>0</td>\n",
       "      <td>0</td>\n",
       "      <td>0</td>\n",
       "      <td>0</td>\n",
       "      <td>0</td>\n",
       "      <td>Ljubljana</td>\n",
       "    </tr>\n",
       "    <tr>\n",
       "      <th>35497</th>\n",
       "      <td>id_6924</td>\n",
       "      <td>NaN</td>\n",
       "      <td>6928.0</td>\n",
       "      <td>NaN</td>\n",
       "      <td>4.0</td>\n",
       "      <td>[[], []]</td>\n",
       "      <td>/Restaurant_Review-g187514-d5493100-Reviews-Dr...</td>\n",
       "      <td>d5493100</td>\n",
       "      <td>1</td>\n",
       "      <td>3.5</td>\n",
       "      <td>...</td>\n",
       "      <td>0</td>\n",
       "      <td>0</td>\n",
       "      <td>0</td>\n",
       "      <td>0</td>\n",
       "      <td>0</td>\n",
       "      <td>0</td>\n",
       "      <td>0</td>\n",
       "      <td>0</td>\n",
       "      <td>0</td>\n",
       "      <td>Madrid</td>\n",
       "    </tr>\n",
       "    <tr>\n",
       "      <th>22681</th>\n",
       "      <td>id_11160</td>\n",
       "      <td>['French']</td>\n",
       "      <td>11162.0</td>\n",
       "      <td>$$ - $$$</td>\n",
       "      <td>45.0</td>\n",
       "      <td>[['Just ok', 'Good food'], ['12/17/2017', '06/...</td>\n",
       "      <td>/Restaurant_Review-g187147-d3736250-Reviews-L_...</td>\n",
       "      <td>d3736250</td>\n",
       "      <td>1</td>\n",
       "      <td>3.5</td>\n",
       "      <td>...</td>\n",
       "      <td>0</td>\n",
       "      <td>1</td>\n",
       "      <td>0</td>\n",
       "      <td>0</td>\n",
       "      <td>0</td>\n",
       "      <td>0</td>\n",
       "      <td>0</td>\n",
       "      <td>0</td>\n",
       "      <td>0</td>\n",
       "      <td>Paris</td>\n",
       "    </tr>\n",
       "  </tbody>\n",
       "</table>\n",
       "<p>5 rows × 44 columns</p>\n",
       "</div>"
      ],
      "text/plain": [
       "      Restaurant_id                                      Cuisine Style  \\\n",
       "45718       id_1505         ['German', 'European', 'Central European']   \n",
       "4327        id_4327  ['Italian', 'Mediterranean', 'European', 'Vege...   \n",
       "13725        id_398                                                NaN   \n",
       "35497       id_6924                                                NaN   \n",
       "22681      id_11160                                         ['French']   \n",
       "\n",
       "       Ranking Price Range  Number of Reviews  \\\n",
       "45718   1507.0    $$ - $$$               55.0   \n",
       "4327     446.0    $$ - $$$              525.0   \n",
       "13725    399.0         NaN                4.0   \n",
       "35497   6928.0         NaN                4.0   \n",
       "22681  11162.0    $$ - $$$               45.0   \n",
       "\n",
       "                                                 Reviews  \\\n",
       "45718  [['good food but please invest in service', 'A...   \n",
       "4327   [['Nice location - average food ....', 'They c...   \n",
       "13725  [['For students', 'Best option around for stud...   \n",
       "35497                                           [[], []]   \n",
       "22681  [['Just ok', 'Good food'], ['12/17/2017', '06/...   \n",
       "\n",
       "                                                  URL_TA      ID_TA  sample  \\\n",
       "45718  /Restaurant_Review-g187323-d2269134-Reviews-Th...   d2269134       1   \n",
       "4327   /Restaurant_Review-g188057-d1025141-Reviews-Re...   d1025141       0   \n",
       "13725  /Restaurant_Review-g274873-d10347901-Reviews-N...  d10347901       1   \n",
       "35497  /Restaurant_Review-g187514-d5493100-Reviews-Dr...   d5493100       1   \n",
       "22681  /Restaurant_Review-g187147-d3736250-Reviews-L_...   d3736250       1   \n",
       "\n",
       "       Rating  ...  City_Oslo  City_Paris  City_Prague  City_Rome  \\\n",
       "45718     4.0  ...          0           0            0          0   \n",
       "4327      0.0  ...          0           0            0          0   \n",
       "13725     4.0  ...          0           0            0          0   \n",
       "35497     3.5  ...          0           0            0          0   \n",
       "22681     3.5  ...          0           1            0          0   \n",
       "\n",
       "       City_Stockholm  City_Vienna  City_Warsaw  City_Zurich  City_nan  \\\n",
       "45718               0            0            0            0         0   \n",
       "4327                0            0            0            0         0   \n",
       "13725               0            0            0            0         0   \n",
       "35497               0            0            0            0         0   \n",
       "22681               0            0            0            0         0   \n",
       "\n",
       "            City  \n",
       "45718     Berlin  \n",
       "4327      Geneva  \n",
       "13725  Ljubljana  \n",
       "35497     Madrid  \n",
       "22681      Paris  \n",
       "\n",
       "[5 rows x 44 columns]"
      ]
     },
     "execution_count": 15,
     "metadata": {},
     "output_type": "execute_result"
    }
   ],
   "source": [
    "data.sample(5)"
   ]
  },
  {
   "cell_type": "markdown",
   "metadata": {},
   "source": [
    "Добавляем столбец с категориальным признаком: столица ли это? (1 или 0)"
   ]
  },
  {
   "cell_type": "code",
   "execution_count": 16,
   "metadata": {},
   "outputs": [
    {
     "data": {
      "text/plain": [
       "array(['Paris', 'Helsinki', 'Edinburgh', 'London', 'Bratislava', 'Lisbon',\n",
       "       'Budapest', 'Stockholm', 'Rome', 'Milan', 'Munich', 'Hamburg',\n",
       "       'Prague', 'Vienna', 'Dublin', 'Barcelona', 'Brussels', 'Madrid',\n",
       "       'Oslo', 'Amsterdam', 'Berlin', 'Lyon', 'Athens', 'Warsaw',\n",
       "       'Oporto', 'Krakow', 'Copenhagen', 'Luxembourg', 'Zurich', 'Geneva',\n",
       "       'Ljubljana'], dtype=object)"
      ]
     },
     "execution_count": 16,
     "metadata": {},
     "output_type": "execute_result"
    }
   ],
   "source": [
    "data['City'].unique()"
   ]
  },
  {
   "cell_type": "code",
   "execution_count": 17,
   "metadata": {},
   "outputs": [],
   "source": [
    "capitals=['Paris', 'Stockholm', 'London', 'Berlin', 'Bratislava', 'Vienna', 'Rome', 'Madrid', 'Dublin',\n",
    "          'Brussels', 'Warsaw', 'Budapest', 'Copenhagen', 'Amsterdam', 'Lisbon', 'Prague', 'Oslo',\n",
    "          'Helsinki', 'Edinburgh', 'Ljubljana', 'Athens', 'Luxembourg']"
   ]
  },
  {
   "cell_type": "code",
   "execution_count": 18,
   "metadata": {},
   "outputs": [],
   "source": [
    "def if_it_capital(x):\n",
    "    if x in capitals:\n",
    "        return 1\n",
    "    else:     \n",
    "        return 0"
   ]
  },
  {
   "cell_type": "code",
   "execution_count": 19,
   "metadata": {},
   "outputs": [],
   "source": [
    "data['Is_it_cpital']=data['City'].apply(if_it_capital)"
   ]
  },
  {
   "cell_type": "markdown",
   "metadata": {},
   "source": [
    "Добавляем столбец с признаком принадлежности к более демократичному стилю."
   ]
  },
  {
   "cell_type": "code",
   "execution_count": 20,
   "metadata": {},
   "outputs": [],
   "source": [
    "PP=['Oporto', 'Bratislava', 'Barcelona', 'Madrid', 'Warsaw', 'Budapest', \n",
    "    'Lisbon', 'Prague', 'Helsinki', 'Ljubljana', 'Athens', 'Krakow', 'Amsterdam']\n",
    "NPP=['Paris', 'Stockholm', 'London', 'Munich', 'Milan', 'Vienna', \n",
    "     'Rome', 'Dublin', 'Brussels', 'Zurich', 'Copenhagen', 'Lyon', \n",
    "     'Hamburg', 'Oslo', 'Edinburgh', 'Geneva', 'Luxembourg', 'Berlin']\n",
    "XXPP=['Paris', 'Stockholm', 'London', 'Milan', 'Zurich',  \n",
    "     'Oslo', 'Geneva', 'Luxembourg']"
   ]
  },
  {
   "cell_type": "code",
   "execution_count": 21,
   "metadata": {},
   "outputs": [],
   "source": [
    "def pp(x):\n",
    "    if x in PP:\n",
    "        return 1\n",
    "    else:\n",
    "        return 0"
   ]
  },
  {
   "cell_type": "code",
   "execution_count": 22,
   "metadata": {},
   "outputs": [],
   "source": [
    "data['PP']=data['City'].apply(pp)"
   ]
  },
  {
   "cell_type": "code",
   "execution_count": 23,
   "metadata": {},
   "outputs": [],
   "source": [
    "def xxpp(x):\n",
    "    if x in PP:\n",
    "        return 1\n",
    "    else:\n",
    "        return 0"
   ]
  },
  {
   "cell_type": "code",
   "execution_count": 24,
   "metadata": {},
   "outputs": [],
   "source": [
    "data['XXPP']=data['City'].apply(xxpp)"
   ]
  },
  {
   "cell_type": "markdown",
   "metadata": {},
   "source": [
    "Добавляем столбец с порядковым номером города в рейтинге по количеству городов"
   ]
  },
  {
   "cell_type": "code",
   "execution_count": 25,
   "metadata": {},
   "outputs": [],
   "source": [
    "c=Counter()\n",
    "\n",
    "for city in data['City']:\n",
    "    c[city]+=1"
   ]
  },
  {
   "cell_type": "code",
   "execution_count": 26,
   "metadata": {},
   "outputs": [],
   "source": [
    "Cities = list(c.items())\n",
    "Cities.sort(key=lambda i: i[1])"
   ]
  },
  {
   "cell_type": "code",
   "execution_count": 27,
   "metadata": {},
   "outputs": [],
   "source": [
    "Cities_dict={}\n",
    "i=1\n",
    "for city in Cities:\n",
    "    Cities_dict.setdefault(city[0], i)\n",
    "    i+=1"
   ]
  },
  {
   "cell_type": "code",
   "execution_count": 28,
   "metadata": {},
   "outputs": [],
   "source": [
    "def inner_rating(x):\n",
    "    return Cities_dict[x]"
   ]
  },
  {
   "cell_type": "code",
   "execution_count": 29,
   "metadata": {},
   "outputs": [],
   "source": [
    "data['inner_rating']=data['City'].apply(inner_rating)"
   ]
  },
  {
   "cell_type": "markdown",
   "metadata": {},
   "source": [
    "Добавялем стобцы с категориями уровня цен."
   ]
  },
  {
   "cell_type": "code",
   "execution_count": 30,
   "metadata": {},
   "outputs": [],
   "source": [
    "data['Price Range_isNAN'] = pd.isna(data['Price Range']).astype('uint8')"
   ]
  },
  {
   "cell_type": "code",
   "execution_count": 31,
   "metadata": {},
   "outputs": [],
   "source": [
    "data['Price Range'].fillna('$$ - $$$', inplace=True)"
   ]
  },
  {
   "cell_type": "code",
   "execution_count": 32,
   "metadata": {},
   "outputs": [],
   "source": [
    "Price_Range=data['Price Range']\n",
    "data = pd.get_dummies(data, columns=[ 'Price Range',])\n",
    "data['Price Range']=Price_Range"
   ]
  },
  {
   "cell_type": "markdown",
   "metadata": {},
   "source": [
    "Добавляем столбец с уровнем цен в численной интерпретации."
   ]
  },
  {
   "cell_type": "code",
   "execution_count": 33,
   "metadata": {},
   "outputs": [],
   "source": [
    "def price_to_number(x):\n",
    "    if x=='$$ - $$$':\n",
    "        return 2\n",
    "    elif x=='$':\n",
    "        return 1\n",
    "    else:\n",
    "        return 3    "
   ]
  },
  {
   "cell_type": "code",
   "execution_count": 34,
   "metadata": {},
   "outputs": [],
   "source": [
    "data['Price']=data['Price Range'].apply(price_to_number)"
   ]
  },
  {
   "cell_type": "markdown",
   "metadata": {},
   "source": [
    "Добавялем столбец с датой последнего отзыва."
   ]
  },
  {
   "cell_type": "code",
   "execution_count": 35,
   "metadata": {},
   "outputs": [],
   "source": [
    "data['Reviews']=data['Reviews'].fillna('[[], []]')\n",
    "data['Dates_Reviews']=data['Reviews'].apply(lambda x:x.split(\"], [\")[1][:-2])    \n",
    "data['Dates_Reviews']=data['Dates_Reviews'].apply(lambda x:x.split(\", \"))  \n",
    "data['Last_Review']=data['Dates_Reviews'].apply(lambda x:list(x)[0][1:-1]) "
   ]
  },
  {
   "cell_type": "code",
   "execution_count": 36,
   "metadata": {},
   "outputs": [],
   "source": [
    "def drop_space(x):\n",
    "    if len(x)>=10:\n",
    "        return x\n",
    "    elif len(x)==0:     \n",
    "        return None    "
   ]
  },
  {
   "cell_type": "code",
   "execution_count": 37,
   "metadata": {},
   "outputs": [],
   "source": [
    "data['Last_Review']=data['Last_Review'].apply(drop_space)"
   ]
  },
  {
   "cell_type": "code",
   "execution_count": 38,
   "metadata": {},
   "outputs": [],
   "source": [
    "data['Last_Review'] = pd.to_datetime(data['Last_Review']) "
   ]
  },
  {
   "cell_type": "code",
   "execution_count": 39,
   "metadata": {},
   "outputs": [],
   "source": [
    "LR=data['Last_Review'].mean().timestamp()"
   ]
  },
  {
   "cell_type": "code",
   "execution_count": 40,
   "metadata": {},
   "outputs": [],
   "source": [
    "def change_time_to_unix(x):\n",
    "    if len(str(x))>3:\n",
    "        return x.timestamp()\n",
    "    else:     \n",
    "        return LR   "
   ]
  },
  {
   "cell_type": "code",
   "execution_count": 41,
   "metadata": {},
   "outputs": [],
   "source": [
    "data['Last']=data['Last_Review'].apply(change_time_to_unix)"
   ]
  },
  {
   "cell_type": "markdown",
   "metadata": {},
   "source": [
    "Добавляем столбец с датой предыдущего отзыва."
   ]
  },
  {
   "cell_type": "code",
   "execution_count": 42,
   "metadata": {},
   "outputs": [],
   "source": [
    "data['Previous_Review']=data['Dates_Reviews'].apply(lambda x:str(x)[18:-2]) \n",
    "data['Previous_Review'].apply(drop_space)\n",
    "data['Previous_Review'] = pd.to_datetime(data['Previous_Review']) "
   ]
  },
  {
   "cell_type": "code",
   "execution_count": 43,
   "metadata": {},
   "outputs": [],
   "source": [
    "PR=data['Previous_Review'].mean().timestamp()"
   ]
  },
  {
   "cell_type": "code",
   "execution_count": 44,
   "metadata": {},
   "outputs": [],
   "source": [
    "def change_time_to_unix_2(x):\n",
    "    if len(str(x))>3:\n",
    "        return x.timestamp()\n",
    "    else:     \n",
    "        return PR   "
   ]
  },
  {
   "cell_type": "code",
   "execution_count": 45,
   "metadata": {},
   "outputs": [],
   "source": [
    "data['Previous']=data['Previous_Review'].apply(change_time_to_unix_2)"
   ]
  },
  {
   "cell_type": "markdown",
   "metadata": {},
   "source": [
    "Добавляем столбцы тепло/средне/холодно."
   ]
  },
  {
   "cell_type": "code",
   "execution_count": 46,
   "metadata": {},
   "outputs": [],
   "source": [
    "cold=['Stockholm', 'Berlin', 'Munich', 'Bratislava', 'Vienna', 'Dublin', 'Warsaw', 'Copenhagen', 'Amsterdam', \n",
    "      'Hamburg', 'Prague', 'Oslo', 'Helsinki', 'Edinburgh', 'Luxembourg', 'Krakow', 'Zurich']\n",
    "norm=['Paris', 'London',   'Milan', 'Madrid', 'Brussels', 'Budapest','Lyon', 'Geneva', 'Ljubljana']\n",
    "warm=['Oporto', 'Rome', 'Barcelona', 'Lisbon', 'Athens']"
   ]
  },
  {
   "cell_type": "code",
   "execution_count": 47,
   "metadata": {},
   "outputs": [],
   "source": [
    "cold_series=[]\n",
    "norm_series=[]\n",
    "warm_series=[]\n",
    "\n",
    "for city in data['City']:\n",
    "    if city in cold:\n",
    "        cold_series.append(1)\n",
    "    else:\n",
    "        cold_series.append(0)\n",
    "    if city in norm:\n",
    "        norm_series.append(1)\n",
    "    else:\n",
    "        norm_series.append(0)\n",
    "    if city in warm:\n",
    "        warm_series.append(1)\n",
    "    else:\n",
    "        warm_series.append(0) "
   ]
  },
  {
   "cell_type": "code",
   "execution_count": 48,
   "metadata": {},
   "outputs": [],
   "source": [
    "data['Cold']=pd.Series(cold_series)\n",
    "data['Norm']=pd.Series(norm_series)\n",
    "data['Warm']=pd.Series(warm_series)"
   ]
  },
  {
   "cell_type": "markdown",
   "metadata": {},
   "source": [
    "Добавляем столбец с информацией о пропусках в списке кухонь."
   ]
  },
  {
   "cell_type": "code",
   "execution_count": 49,
   "metadata": {},
   "outputs": [],
   "source": [
    "data['Cuisine Style_isNAN'] = pd.isna(data['Cuisine Style']).astype('uint8')"
   ]
  },
  {
   "cell_type": "markdown",
   "metadata": {},
   "source": [
    "Добавялем столбец  со счетчиком количества представленных кухонь."
   ]
  },
  {
   "cell_type": "code",
   "execution_count": 50,
   "metadata": {},
   "outputs": [],
   "source": [
    "data['Cuisine_qtt']=data['Cuisine Style']\n",
    "data['Cuisine_qtt']=data['Cuisine_qtt'].dropna().apply(lambda x:len(x.split(', ')))\n",
    "data['Cuisine_qtt']=data['Cuisine_qtt'].fillna(data['Cuisine_qtt'].mean())"
   ]
  },
  {
   "cell_type": "code",
   "execution_count": 51,
   "metadata": {
    "scrolled": true
   },
   "outputs": [
    {
     "name": "stdout",
     "output_type": "stream",
     "text": [
      "<class 'pandas.core.frame.DataFrame'>\n",
      "RangeIndex: 50000 entries, 0 to 49999\n",
      "Data columns (total 63 columns):\n",
      "Restaurant_id              50000 non-null object\n",
      "Cuisine Style              38410 non-null object\n",
      "Ranking                    50000 non-null float64\n",
      "Number of Reviews          50000 non-null float64\n",
      "Reviews                    50000 non-null object\n",
      "URL_TA                     50000 non-null object\n",
      "ID_TA                      50000 non-null object\n",
      "sample                     50000 non-null int64\n",
      "Rating                     50000 non-null float64\n",
      "Number of Reviews_isNAN    50000 non-null uint8\n",
      "City_Amsterdam             50000 non-null uint8\n",
      "City_Athens                50000 non-null uint8\n",
      "City_Barcelona             50000 non-null uint8\n",
      "City_Berlin                50000 non-null uint8\n",
      "City_Bratislava            50000 non-null uint8\n",
      "City_Brussels              50000 non-null uint8\n",
      "City_Budapest              50000 non-null uint8\n",
      "City_Copenhagen            50000 non-null uint8\n",
      "City_Dublin                50000 non-null uint8\n",
      "City_Edinburgh             50000 non-null uint8\n",
      "City_Geneva                50000 non-null uint8\n",
      "City_Hamburg               50000 non-null uint8\n",
      "City_Helsinki              50000 non-null uint8\n",
      "City_Krakow                50000 non-null uint8\n",
      "City_Lisbon                50000 non-null uint8\n",
      "City_Ljubljana             50000 non-null uint8\n",
      "City_London                50000 non-null uint8\n",
      "City_Luxembourg            50000 non-null uint8\n",
      "City_Lyon                  50000 non-null uint8\n",
      "City_Madrid                50000 non-null uint8\n",
      "City_Milan                 50000 non-null uint8\n",
      "City_Munich                50000 non-null uint8\n",
      "City_Oporto                50000 non-null uint8\n",
      "City_Oslo                  50000 non-null uint8\n",
      "City_Paris                 50000 non-null uint8\n",
      "City_Prague                50000 non-null uint8\n",
      "City_Rome                  50000 non-null uint8\n",
      "City_Stockholm             50000 non-null uint8\n",
      "City_Vienna                50000 non-null uint8\n",
      "City_Warsaw                50000 non-null uint8\n",
      "City_Zurich                50000 non-null uint8\n",
      "City_nan                   50000 non-null uint8\n",
      "City                       50000 non-null object\n",
      "Is_it_cpital               50000 non-null int64\n",
      "PP                         50000 non-null int64\n",
      "XXPP                       50000 non-null int64\n",
      "inner_rating               50000 non-null int64\n",
      "Price Range_isNAN          50000 non-null uint8\n",
      "Price Range_$              50000 non-null uint8\n",
      "Price Range_$$ - $$$       50000 non-null uint8\n",
      "Price Range_$$$$           50000 non-null uint8\n",
      "Price Range                50000 non-null object\n",
      "Price                      50000 non-null int64\n",
      "Dates_Reviews              50000 non-null object\n",
      "Last_Review                41886 non-null datetime64[ns]\n",
      "Last                       50000 non-null float64\n",
      "Previous_Review            36206 non-null datetime64[ns]\n",
      "Previous                   50000 non-null float64\n",
      "Cold                       50000 non-null int64\n",
      "Norm                       50000 non-null int64\n",
      "Warm                       50000 non-null int64\n",
      "Cuisine Style_isNAN        50000 non-null uint8\n",
      "Cuisine_qtt                50000 non-null float64\n",
      "dtypes: datetime64[ns](2), float64(6), int64(9), object(8), uint8(38)\n",
      "memory usage: 11.3+ MB\n"
     ]
    }
   ],
   "source": [
    "data.info()"
   ]
  },
  {
   "cell_type": "code",
   "execution_count": 52,
   "metadata": {},
   "outputs": [],
   "source": [
    "# убираем не нужные для модели признаки\n",
    "data.drop(['Restaurant_id','ID_TA',], axis = 1, inplace=True)\n",
    "# убираем остальные сомнительные признаки \n",
    "data.drop(['Cuisine Style', 'Reviews', 'URL_TA', 'Price Range', \n",
    "           'Dates_Reviews', 'Last_Review', 'Previous_Review', 'City'], axis = 1, inplace=True)"
   ]
  },
  {
   "cell_type": "code",
   "execution_count": 53,
   "metadata": {
    "scrolled": true
   },
   "outputs": [
    {
     "name": "stdout",
     "output_type": "stream",
     "text": [
      "<class 'pandas.core.frame.DataFrame'>\n",
      "RangeIndex: 50000 entries, 0 to 49999\n",
      "Data columns (total 53 columns):\n",
      "Ranking                    50000 non-null float64\n",
      "Number of Reviews          50000 non-null float64\n",
      "sample                     50000 non-null int64\n",
      "Rating                     50000 non-null float64\n",
      "Number of Reviews_isNAN    50000 non-null uint8\n",
      "City_Amsterdam             50000 non-null uint8\n",
      "City_Athens                50000 non-null uint8\n",
      "City_Barcelona             50000 non-null uint8\n",
      "City_Berlin                50000 non-null uint8\n",
      "City_Bratislava            50000 non-null uint8\n",
      "City_Brussels              50000 non-null uint8\n",
      "City_Budapest              50000 non-null uint8\n",
      "City_Copenhagen            50000 non-null uint8\n",
      "City_Dublin                50000 non-null uint8\n",
      "City_Edinburgh             50000 non-null uint8\n",
      "City_Geneva                50000 non-null uint8\n",
      "City_Hamburg               50000 non-null uint8\n",
      "City_Helsinki              50000 non-null uint8\n",
      "City_Krakow                50000 non-null uint8\n",
      "City_Lisbon                50000 non-null uint8\n",
      "City_Ljubljana             50000 non-null uint8\n",
      "City_London                50000 non-null uint8\n",
      "City_Luxembourg            50000 non-null uint8\n",
      "City_Lyon                  50000 non-null uint8\n",
      "City_Madrid                50000 non-null uint8\n",
      "City_Milan                 50000 non-null uint8\n",
      "City_Munich                50000 non-null uint8\n",
      "City_Oporto                50000 non-null uint8\n",
      "City_Oslo                  50000 non-null uint8\n",
      "City_Paris                 50000 non-null uint8\n",
      "City_Prague                50000 non-null uint8\n",
      "City_Rome                  50000 non-null uint8\n",
      "City_Stockholm             50000 non-null uint8\n",
      "City_Vienna                50000 non-null uint8\n",
      "City_Warsaw                50000 non-null uint8\n",
      "City_Zurich                50000 non-null uint8\n",
      "City_nan                   50000 non-null uint8\n",
      "Is_it_cpital               50000 non-null int64\n",
      "PP                         50000 non-null int64\n",
      "XXPP                       50000 non-null int64\n",
      "inner_rating               50000 non-null int64\n",
      "Price Range_isNAN          50000 non-null uint8\n",
      "Price Range_$              50000 non-null uint8\n",
      "Price Range_$$ - $$$       50000 non-null uint8\n",
      "Price Range_$$$$           50000 non-null uint8\n",
      "Price                      50000 non-null int64\n",
      "Last                       50000 non-null float64\n",
      "Previous                   50000 non-null float64\n",
      "Cold                       50000 non-null int64\n",
      "Norm                       50000 non-null int64\n",
      "Warm                       50000 non-null int64\n",
      "Cuisine Style_isNAN        50000 non-null uint8\n",
      "Cuisine_qtt                50000 non-null float64\n",
      "dtypes: float64(6), int64(9), uint8(38)\n",
      "memory usage: 7.5 MB\n"
     ]
    }
   ],
   "source": [
    "data.info()"
   ]
  },
  {
   "cell_type": "code",
   "execution_count": 54,
   "metadata": {},
   "outputs": [],
   "source": [
    "# Теперь выделим тестовую часть\n",
    "train_data = data.query('sample == 1').drop(['sample'], axis=1)\n",
    "\n",
    "y = train_data.Rating.values            # наш таргет\n",
    "X = train_data.drop(['Rating'], axis=1)\n",
    "\n",
    "# Воспользуемся специальной функцие train_test_split для разбивки тестовых данных\n",
    "X_train, X_test, y_train, y_test = train_test_split(X, y, test_size=0.2, random_state=RANDOM_SEED)"
   ]
  },
  {
   "cell_type": "code",
   "execution_count": 55,
   "metadata": {},
   "outputs": [
    {
     "data": {
      "text/plain": [
       "((40000, 52), (40000, 51), (32000, 51), (8000, 51))"
      ]
     },
     "execution_count": 55,
     "metadata": {},
     "output_type": "execute_result"
    }
   ],
   "source": [
    "# проверяем\n",
    "train_data.shape, X.shape, X_train.shape, X_test.shape"
   ]
  },
  {
   "cell_type": "code",
   "execution_count": 56,
   "metadata": {},
   "outputs": [],
   "source": [
    "# Создаём модель (НАСТРОЙКИ НЕ ТРОГАЕМ)\n",
    "model = RandomForestRegressor(n_estimators=100, verbose=1, n_jobs=-1, random_state=RANDOM_SEED)"
   ]
  },
  {
   "cell_type": "code",
   "execution_count": 57,
   "metadata": {},
   "outputs": [
    {
     "name": "stderr",
     "output_type": "stream",
     "text": [
      "[Parallel(n_jobs=-1)]: Using backend ThreadingBackend with 4 concurrent workers.\n",
      "[Parallel(n_jobs=-1)]: Done  42 tasks      | elapsed:    3.0s\n",
      "[Parallel(n_jobs=-1)]: Done 100 out of 100 | elapsed:    6.9s finished\n",
      "[Parallel(n_jobs=4)]: Using backend ThreadingBackend with 4 concurrent workers.\n",
      "[Parallel(n_jobs=4)]: Done  42 tasks      | elapsed:    0.0s\n",
      "[Parallel(n_jobs=4)]: Done 100 out of 100 | elapsed:    0.1s finished\n"
     ]
    }
   ],
   "source": [
    "# Обучаем модель на тестовом наборе данных\n",
    "model.fit(X_train, y_train)\n",
    "\n",
    "# Используем обученную модель для предсказания рейтинга ресторанов в тестовой выборке.\n",
    "# Предсказанные значения записываем в переменную y_pred\n",
    "y_pred = model.predict(X_test)"
   ]
  },
  {
   "cell_type": "code",
   "execution_count": 58,
   "metadata": {},
   "outputs": [
    {
     "name": "stdout",
     "output_type": "stream",
     "text": [
      "MAE: 0.203699375\n"
     ]
    }
   ],
   "source": [
    "# Сравниваем предсказанные значения (y_pred) с реальными (y_test), и смотрим насколько они в среднем отличаются\n",
    "# Метрика называется Mean Absolute Error (MAE) и показывает среднее отклонение предсказанных значений от фактических.\n",
    "print('MAE:', metrics.mean_absolute_error(y_test, y_pred))"
   ]
  },
  {
   "cell_type": "code",
   "execution_count": 59,
   "metadata": {},
   "outputs": [
    {
     "data": {
      "text/plain": [
       "<matplotlib.axes._subplots.AxesSubplot at 0x7f4d21b7ab38>"
      ]
     },
     "execution_count": 59,
     "metadata": {},
     "output_type": "execute_result"
    },
    {
     "data": {
      "image/png": "[encoded data removed]",
      "text/plain": [
       "<Figure size 720x360 with 1 Axes>"
      ]
     },
     "metadata": {
      "needs_background": "light"
     },
     "output_type": "display_data"
    }
   ],
   "source": [
    "# в RandomForestRegressor есть возможность вывести самые важные признаки для модели\n",
    "plt.rcParams['figure.figsize'] = (10,5)\n",
    "feat_importances = pd.Series(model.feature_importances_, index=X.columns)\n",
    "feat_importances.nlargest(10).plot(kind='barh')"
   ]
  },
  {
   "cell_type": "code",
   "execution_count": 60,
   "metadata": {},
   "outputs": [],
   "source": [
    "test_data = data.query('sample == 0').drop(['sample'], axis=1)\n",
    "test_data = test_data.drop(['Rating'], axis=1)"
   ]
  },
  {
   "cell_type": "code",
   "execution_count": 61,
   "metadata": {},
   "outputs": [
    {
     "name": "stderr",
     "output_type": "stream",
     "text": [
      "[Parallel(n_jobs=4)]: Using backend ThreadingBackend with 4 concurrent workers.\n",
      "[Parallel(n_jobs=4)]: Done  42 tasks      | elapsed:    0.1s\n",
      "[Parallel(n_jobs=4)]: Done 100 out of 100 | elapsed:    0.1s finished\n"
     ]
    }
   ],
   "source": [
    "predict_submission = model.predict(test_data)"
   ]
  },
  {
   "cell_type": "code",
   "execution_count": 62,
   "metadata": {},
   "outputs": [
    {
     "data": {
      "text/html": [
       "<div>\n",
       "<style scoped>\n",
       "    .dataframe tbody tr th:only-of-type {\n",
       "        vertical-align: middle;\n",
       "    }\n",
       "\n",
       "    .dataframe tbody tr th {\n",
       "        vertical-align: top;\n",
       "    }\n",
       "\n",
       "    .dataframe thead th {\n",
       "        text-align: right;\n",
       "    }\n",
       "</style>\n",
       "<table border=\"1\" class=\"dataframe\">\n",
       "  <thead>\n",
       "    <tr style=\"text-align: right;\">\n",
       "      <th></th>\n",
       "      <th>Restaurant_id</th>\n",
       "      <th>Rating</th>\n",
       "    </tr>\n",
       "  </thead>\n",
       "  <tbody>\n",
       "    <tr>\n",
       "      <th>0</th>\n",
       "      <td>id_0</td>\n",
       "      <td>3.115</td>\n",
       "    </tr>\n",
       "    <tr>\n",
       "      <th>1</th>\n",
       "      <td>id_1</td>\n",
       "      <td>4.095</td>\n",
       "    </tr>\n",
       "    <tr>\n",
       "      <th>2</th>\n",
       "      <td>id_2</td>\n",
       "      <td>4.485</td>\n",
       "    </tr>\n",
       "    <tr>\n",
       "      <th>3</th>\n",
       "      <td>id_3</td>\n",
       "      <td>4.245</td>\n",
       "    </tr>\n",
       "    <tr>\n",
       "      <th>4</th>\n",
       "      <td>id_4</td>\n",
       "      <td>4.465</td>\n",
       "    </tr>\n",
       "  </tbody>\n",
       "</table>\n",
       "</div>"
      ],
      "text/plain": [
       "  Restaurant_id  Rating\n",
       "0          id_0   3.115\n",
       "1          id_1   4.095\n",
       "2          id_2   4.485\n",
       "3          id_3   4.245\n",
       "4          id_4   4.465"
      ]
     },
     "execution_count": 62,
     "metadata": {},
     "output_type": "execute_result"
    }
   ],
   "source": [
    "sample_submission['Rating'] = predict_submission\n",
    "sample_submission.to_csv('submission.csv', index=False)\n",
    "sample_submission.head()"
   ]
  }
 ],
 "metadata": {
  "kernelspec": {
   "display_name": "Python 3",
   "language": "python",
   "name": "python3"
  },
  "language_info": {
   "codemirror_mode": {
    "name": "ipython",
    "version": 3
   },
   "file_extension": ".py",
   "mimetype": "text/x-python",
   "name": "python",
   "nbconvert_exporter": "python",
   "pygments_lexer": "ipython3",
   "version": "3.6.6"
  }
 },
 "nbformat": 4,
 "nbformat_minor": 1
}
