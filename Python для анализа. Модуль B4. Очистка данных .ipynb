{
 "cells": [
  {
   "cell_type": "code",
   "execution_count": 1,
   "metadata": {},
   "outputs": [],
   "source": [
    "import pandas as pd"
   ]
  },
  {
   "cell_type": "markdown",
   "metadata": {},
   "source": [
    "4.2.4 Задание \n",
    "Загрузим \"log.csv\" в dataframe log с помощью read_csv. Не передавайте никаких дополнительных параметров!\n",
    "В результате переменная log должна содержать загруженный из файла датафрейм. Напишите код загрузки:"
   ]
  },
  {
   "cell_type": "code",
   "execution_count": 2,
   "metadata": {},
   "outputs": [],
   "source": [
    "log = pd.read_csv('log.xls')"
   ]
  },
  {
   "cell_type": "code",
   "execution_count": 22,
   "metadata": {},
   "outputs": [
    {
     "data": {
      "text/html": [
       "<div>\n",
       "<style scoped>\n",
       "    .dataframe tbody tr th:only-of-type {\n",
       "        vertical-align: middle;\n",
       "    }\n",
       "\n",
       "    .dataframe tbody tr th {\n",
       "        vertical-align: top;\n",
       "    }\n",
       "\n",
       "    .dataframe thead th {\n",
       "        text-align: right;\n",
       "    }\n",
       "</style>\n",
       "<table border=\"1\" class=\"dataframe\">\n",
       "  <thead>\n",
       "    <tr style=\"text-align: right;\">\n",
       "      <th></th>\n",
       "      <th>user_id</th>\n",
       "      <th>time</th>\n",
       "      <th>bet</th>\n",
       "      <th>win</th>\n",
       "    </tr>\n",
       "  </thead>\n",
       "  <tbody>\n",
       "    <tr>\n",
       "      <th>0</th>\n",
       "      <td>Запись пользователя № - user_919</td>\n",
       "      <td>[2019-01-01 14:06:51</td>\n",
       "      <td>NaN</td>\n",
       "      <td>NaN</td>\n",
       "    </tr>\n",
       "    <tr>\n",
       "      <th>1</th>\n",
       "      <td>Запись пользователя № - user_973</td>\n",
       "      <td>[2019-01-01 14:51:16</td>\n",
       "      <td>NaN</td>\n",
       "      <td>NaN</td>\n",
       "    </tr>\n",
       "    <tr>\n",
       "      <th>2</th>\n",
       "      <td>Запись пользователя № - user_903</td>\n",
       "      <td>[2019-01-01 16:31:16</td>\n",
       "      <td>NaN</td>\n",
       "      <td>NaN</td>\n",
       "    </tr>\n",
       "    <tr>\n",
       "      <th>3</th>\n",
       "      <td>Запись пользователя № - user_954</td>\n",
       "      <td>[2019-01-01 17:17:51</td>\n",
       "      <td>NaN</td>\n",
       "      <td>NaN</td>\n",
       "    </tr>\n",
       "    <tr>\n",
       "      <th>4</th>\n",
       "      <td>Запись пользователя № - user_954</td>\n",
       "      <td>[2019-01-01 21:31:18</td>\n",
       "      <td>NaN</td>\n",
       "      <td>NaN</td>\n",
       "    </tr>\n",
       "  </tbody>\n",
       "</table>\n",
       "</div>"
      ],
      "text/plain": [
       "                            user_id                  time  bet  win\n",
       "0  Запись пользователя № - user_919  [2019-01-01 14:06:51  NaN  NaN\n",
       "1  Запись пользователя № - user_973  [2019-01-01 14:51:16  NaN  NaN\n",
       "2  Запись пользователя № - user_903  [2019-01-01 16:31:16  NaN  NaN\n",
       "3  Запись пользователя № - user_954  [2019-01-01 17:17:51  NaN  NaN\n",
       "4  Запись пользователя № - user_954  [2019-01-01 21:31:18  NaN  NaN"
      ]
     },
     "execution_count": 22,
     "metadata": {},
     "output_type": "execute_result"
    }
   ],
   "source": [
    "log.head()"
   ]
  },
  {
   "cell_type": "markdown",
   "metadata": {},
   "source": [
    "4.4.2. Задание \n",
    "Заметили, что с заголовком у нас что-то не так? \n",
    "Давайте сделаем так, чтобы Pandas не считал первую строку заголовком. Поместите CSV-файл в переменную log как файл без заголовка. Файл находится по адресу \"log.csv\", вы сможете получить к нему доступ без указания пути прямо из платформы. \n",
    "В результате переменная log должна содержать загруженный из файла dataframe."
   ]
  },
  {
   "cell_type": "code",
   "execution_count": 18,
   "metadata": {},
   "outputs": [],
   "source": [
    "log = pd.read_csv('log.xls', header=None)"
   ]
  },
  {
   "cell_type": "code",
   "execution_count": 21,
   "metadata": {},
   "outputs": [
    {
     "data": {
      "text/html": [
       "<div>\n",
       "<style scoped>\n",
       "    .dataframe tbody tr th:only-of-type {\n",
       "        vertical-align: middle;\n",
       "    }\n",
       "\n",
       "    .dataframe tbody tr th {\n",
       "        vertical-align: top;\n",
       "    }\n",
       "\n",
       "    .dataframe thead th {\n",
       "        text-align: right;\n",
       "    }\n",
       "</style>\n",
       "<table border=\"1\" class=\"dataframe\">\n",
       "  <thead>\n",
       "    <tr style=\"text-align: right;\">\n",
       "      <th></th>\n",
       "      <th>user_id</th>\n",
       "      <th>time</th>\n",
       "      <th>bet</th>\n",
       "      <th>win</th>\n",
       "    </tr>\n",
       "  </thead>\n",
       "  <tbody>\n",
       "    <tr>\n",
       "      <th>0</th>\n",
       "      <td>Запись пользователя № - user_919</td>\n",
       "      <td>[2019-01-01 14:06:51</td>\n",
       "      <td>NaN</td>\n",
       "      <td>NaN</td>\n",
       "    </tr>\n",
       "    <tr>\n",
       "      <th>1</th>\n",
       "      <td>Запись пользователя № - user_973</td>\n",
       "      <td>[2019-01-01 14:51:16</td>\n",
       "      <td>NaN</td>\n",
       "      <td>NaN</td>\n",
       "    </tr>\n",
       "  </tbody>\n",
       "</table>\n",
       "</div>"
      ],
      "text/plain": [
       "                            user_id                  time  bet  win\n",
       "0  Запись пользователя № - user_919  [2019-01-01 14:06:51  NaN  NaN\n",
       "1  Запись пользователя № - user_973  [2019-01-01 14:51:16  NaN  NaN"
      ]
     },
     "execution_count": 21,
     "metadata": {},
     "output_type": "execute_result"
    }
   ],
   "source": [
    "log.head(2)"
   ]
  },
  {
   "cell_type": "code",
   "execution_count": 34,
   "metadata": {},
   "outputs": [
    {
     "data": {
      "text/plain": [
       "Index(['user_id', 'time', 'bet', 'win'], dtype='object')"
      ]
     },
     "execution_count": 34,
     "metadata": {},
     "output_type": "execute_result"
    }
   ],
   "source": [
    "log.columns   #выдает список колонок"
   ]
  },
  {
   "cell_type": "markdown",
   "metadata": {},
   "source": [
    "df.columns = ['new_col_name_1', 'new_col_name_2', 'new_col_name_3', 'new_col_name_4'] - переименование колонок"
   ]
  },
  {
   "cell_type": "markdown",
   "metadata": {},
   "source": [
    "4.5.1. Задание  \n",
    "Загрузите файл sample.csv в переменную sample, сохраните колонки в переменную columns: "
   ]
  },
  {
   "cell_type": "code",
   "execution_count": 88,
   "metadata": {},
   "outputs": [],
   "source": [
    "sample = pd.read_csv('sample.xls')\n",
    "columns=sample.columns "
   ]
  },
  {
   "cell_type": "markdown",
   "metadata": {},
   "source": [
    "4.5.2. Задание \n",
    "Сделайте в sample заголовки колонок так, чтобы там были только маленькие буквы. Например, вместо 'Age' сделать 'age': "
   ]
  },
  {
   "cell_type": "code",
   "execution_count": 14,
   "metadata": {},
   "outputs": [
    {
     "data": {
      "text/html": [
       "<div>\n",
       "<style scoped>\n",
       "    .dataframe tbody tr th:only-of-type {\n",
       "        vertical-align: middle;\n",
       "    }\n",
       "\n",
       "    .dataframe tbody tr th {\n",
       "        vertical-align: top;\n",
       "    }\n",
       "\n",
       "    .dataframe thead th {\n",
       "        text-align: right;\n",
       "    }\n",
       "</style>\n",
       "<table border=\"1\" class=\"dataframe\">\n",
       "  <thead>\n",
       "    <tr style=\"text-align: right;\">\n",
       "      <th></th>\n",
       "      <th>Name</th>\n",
       "      <th>City</th>\n",
       "      <th>Age</th>\n",
       "      <th>Profession</th>\n",
       "    </tr>\n",
       "  </thead>\n",
       "  <tbody>\n",
       "    <tr>\n",
       "      <th>0</th>\n",
       "      <td>Иванов</td>\n",
       "      <td>Москва</td>\n",
       "      <td>25</td>\n",
       "      <td>Клинер</td>\n",
       "    </tr>\n",
       "    <tr>\n",
       "      <th>1</th>\n",
       "      <td>NaN</td>\n",
       "      <td>Волгоград</td>\n",
       "      <td>31</td>\n",
       "      <td>Менеджер</td>\n",
       "    </tr>\n",
       "    <tr>\n",
       "      <th>2</th>\n",
       "      <td>Иванов</td>\n",
       "      <td>Москва</td>\n",
       "      <td>25</td>\n",
       "      <td>Клинер</td>\n",
       "    </tr>\n",
       "    <tr>\n",
       "      <th>3</th>\n",
       "      <td>sidorov</td>\n",
       "      <td>Владивосток</td>\n",
       "      <td>43</td>\n",
       "      <td>Менеджер</td>\n",
       "    </tr>\n",
       "    <tr>\n",
       "      <th>4</th>\n",
       "      <td>_______</td>\n",
       "      <td>Курск</td>\n",
       "      <td>50</td>\n",
       "      <td>Водитель</td>\n",
       "    </tr>\n",
       "    <tr>\n",
       "      <th>5</th>\n",
       "      <td>Кузнецов</td>\n",
       "      <td>Сочи</td>\n",
       "      <td>19</td>\n",
       "      <td>Рабочий</td>\n",
       "    </tr>\n",
       "    <tr>\n",
       "      <th>6</th>\n",
       "      <td>Сажин</td>\n",
       "      <td>Сургут</td>\n",
       "      <td>29</td>\n",
       "      <td>Рабочий</td>\n",
       "    </tr>\n",
       "    <tr>\n",
       "      <th>7</th>\n",
       "      <td>Котлеревский</td>\n",
       "      <td>Йошкар-Ола</td>\n",
       "      <td>32</td>\n",
       "      <td>Рабочий</td>\n",
       "    </tr>\n",
       "    <tr>\n",
       "      <th>8</th>\n",
       "      <td>Завалишина</td>\n",
       "      <td>Чебоксары</td>\n",
       "      <td>36</td>\n",
       "      <td>Менеджер</td>\n",
       "    </tr>\n",
       "    <tr>\n",
       "      <th>9</th>\n",
       "      <td>Левина</td>\n",
       "      <td>NaN</td>\n",
       "      <td>55</td>\n",
       "      <td>Рабочий</td>\n",
       "    </tr>\n",
       "    <tr>\n",
       "      <th>10</th>\n",
       "      <td>Фикс</td>\n",
       "      <td>Рига</td>\n",
       "      <td>42</td>\n",
       "      <td>Рабочий</td>\n",
       "    </tr>\n",
       "  </tbody>\n",
       "</table>\n",
       "</div>"
      ],
      "text/plain": [
       "            Name         City  Age Profession\n",
       "0         Иванов       Москва   25     Клинер\n",
       "1            NaN    Волгоград   31   Менеджер\n",
       "2         Иванов       Москва   25     Клинер\n",
       "3        sidorov  Владивосток   43   Менеджер\n",
       "4        _______        Курск   50   Водитель\n",
       "5       Кузнецов         Сочи   19    Рабочий\n",
       "6          Сажин       Сургут   29    Рабочий\n",
       "7   Котлеревский   Йошкар-Ола   32    Рабочий\n",
       "8     Завалишина    Чебоксары   36   Менеджер\n",
       "9         Левина          NaN   55    Рабочий\n",
       "10          Фикс         Рига   42    Рабочий"
      ]
     },
     "execution_count": 14,
     "metadata": {},
     "output_type": "execute_result"
    }
   ],
   "source": [
    "sample"
   ]
  },
  {
   "cell_type": "code",
   "execution_count": 17,
   "metadata": {},
   "outputs": [],
   "source": [
    "sample.columns = ['name', 'city', 'age', 'profession']"
   ]
  },
  {
   "cell_type": "markdown",
   "metadata": {},
   "source": [
    "4.5.3. Задание \n",
    "Давайте применим полученные знания для нашего датафрейма: замените в log заголовки колонок на \n",
    "user_id\n",
    "time\n",
    "bet\n",
    "win"
   ]
  },
  {
   "cell_type": "code",
   "execution_count": 55,
   "metadata": {},
   "outputs": [],
   "source": [
    "log.columns = ['user_id', 'time', 'bet', 'win']"
   ]
  },
  {
   "cell_type": "code",
   "execution_count": 23,
   "metadata": {},
   "outputs": [
    {
     "data": {
      "text/html": [
       "<div>\n",
       "<style scoped>\n",
       "    .dataframe tbody tr th:only-of-type {\n",
       "        vertical-align: middle;\n",
       "    }\n",
       "\n",
       "    .dataframe tbody tr th {\n",
       "        vertical-align: top;\n",
       "    }\n",
       "\n",
       "    .dataframe thead th {\n",
       "        text-align: right;\n",
       "    }\n",
       "</style>\n",
       "<table border=\"1\" class=\"dataframe\">\n",
       "  <thead>\n",
       "    <tr style=\"text-align: right;\">\n",
       "      <th></th>\n",
       "      <th>user_id</th>\n",
       "      <th>time</th>\n",
       "      <th>bet</th>\n",
       "      <th>win</th>\n",
       "    </tr>\n",
       "  </thead>\n",
       "  <tbody>\n",
       "    <tr>\n",
       "      <th>0</th>\n",
       "      <td>Запись пользователя № - user_919</td>\n",
       "      <td>[2019-01-01 14:06:51</td>\n",
       "      <td>NaN</td>\n",
       "      <td>NaN</td>\n",
       "    </tr>\n",
       "    <tr>\n",
       "      <th>1</th>\n",
       "      <td>Запись пользователя № - user_973</td>\n",
       "      <td>[2019-01-01 14:51:16</td>\n",
       "      <td>NaN</td>\n",
       "      <td>NaN</td>\n",
       "    </tr>\n",
       "  </tbody>\n",
       "</table>\n",
       "</div>"
      ],
      "text/plain": [
       "                            user_id                  time  bet  win\n",
       "0  Запись пользователя № - user_919  [2019-01-01 14:06:51  NaN  NaN\n",
       "1  Запись пользователя № - user_973  [2019-01-01 14:51:16  NaN  NaN"
      ]
     },
     "execution_count": 23,
     "metadata": {},
     "output_type": "execute_result"
    }
   ],
   "source": [
    "log.head(2)"
   ]
  },
  {
   "cell_type": "markdown",
   "metadata": {},
   "source": [
    "4.6.1. Задание  \n",
    "Посмотрите, какие параметры есть у функции read_csv: в чём может быть ошибка?\n",
    "С помощью правильных параметров read_csv загрузите датафрейм:"
   ]
  },
  {
   "cell_type": "code",
   "execution_count": 3,
   "metadata": {},
   "outputs": [],
   "source": [
    "users = pd.read_csv('users.xls', sep='\\t', encoding='KOI8-R')"
   ]
  },
  {
   "cell_type": "code",
   "execution_count": 65,
   "metadata": {},
   "outputs": [
    {
     "data": {
      "text/html": [
       "<div>\n",
       "<style scoped>\n",
       "    .dataframe tbody tr th:only-of-type {\n",
       "        vertical-align: middle;\n",
       "    }\n",
       "\n",
       "    .dataframe tbody tr th {\n",
       "        vertical-align: top;\n",
       "    }\n",
       "\n",
       "    .dataframe thead th {\n",
       "        text-align: right;\n",
       "    }\n",
       "</style>\n",
       "<table border=\"1\" class=\"dataframe\">\n",
       "  <thead>\n",
       "    <tr style=\"text-align: right;\">\n",
       "      <th></th>\n",
       "      <th>Юзверь</th>\n",
       "      <th>мейл</th>\n",
       "      <th>Гео</th>\n",
       "    </tr>\n",
       "  </thead>\n",
       "  <tbody>\n",
       "    <tr>\n",
       "      <th>0</th>\n",
       "      <td>User_943</td>\n",
       "      <td>Accumanst@gmail.com</td>\n",
       "      <td>Ижевск</td>\n",
       "    </tr>\n",
       "    <tr>\n",
       "      <th>1</th>\n",
       "      <td>User_908</td>\n",
       "      <td>Advismowr@mail.ru</td>\n",
       "      <td>Ижевск</td>\n",
       "    </tr>\n",
       "  </tbody>\n",
       "</table>\n",
       "</div>"
      ],
      "text/plain": [
       "     Юзверь                 мейл     Гео\n",
       "0  User_943  Accumanst@gmail.com  Ижевск\n",
       "1  User_908    Advismowr@mail.ru  Ижевск"
      ]
     },
     "execution_count": 65,
     "metadata": {},
     "output_type": "execute_result"
    }
   ],
   "source": [
    "users.head(2)"
   ]
  },
  {
   "cell_type": "markdown",
   "metadata": {},
   "source": [
    "4.6.2. Задание \n",
    "Прочитайте файл в переменную users. Замените в нём названия колонок на: \n",
    "user_id\n",
    "email\n",
    "geo"
   ]
  },
  {
   "cell_type": "code",
   "execution_count": 4,
   "metadata": {},
   "outputs": [],
   "source": [
    "users.columns = ['user_id', 'email', 'geo']"
   ]
  },
  {
   "cell_type": "markdown",
   "metadata": {},
   "source": [
    "4.8 Простая фильтрация"
   ]
  },
  {
   "cell_type": "code",
   "execution_count": 22,
   "metadata": {},
   "outputs": [
    {
     "data": {
      "text/plain": [
       "array(['User_943', 'User_908', 'User_962', 'User_973', 'User_902',\n",
       "       'User_976', 'User_955', 'User_992', 'User_978', 'User_939',\n",
       "       'User_974', 'User_983', 'User_932', 'User_903', 'User_954',\n",
       "       'User_918', 'User_906', 'User_941', 'User_917', 'User_947',\n",
       "       'User_919', 'User_1000', 'User_998', 'User_949', 'User_946',\n",
       "       'User_938', 'User_934', 'User_916', 'User_989', 'User_935',\n",
       "       'User_966', 'User_928', 'User_985', 'User_960', 'User_950',\n",
       "       'User_910', 'User_977', 'User_961', 'User_967', 'User_972',\n",
       "       'User_957', 'User_993', 'User_991', 'User_911', 'User_931',\n",
       "       'User_980', 'User_952', 'User_990', 'User_912', 'User_913',\n",
       "       'User_984', 'User_969', 'User_904', 'User_953', 'User_995',\n",
       "       'User_951', 'User_900', 'User_930', 'User_922', 'User_926',\n",
       "       'User_982', 'User_942', 'User_958', 'User_975', 'User_933',\n",
       "       'User_987', 'User_920', 'User_964', 'User_937', 'User_927',\n",
       "       'User_936', 'User_905', 'User_986', 'User_915', 'User_997',\n",
       "       'User_971', 'User_909', 'User_963', 'User_948', 'User_914',\n",
       "       'User_968', 'User_944', 'User_924', 'User_925', 'User_940',\n",
       "       'User_988', 'User_999', 'User_981', 'User_923', 'User_945',\n",
       "       'User_979', 'User_994', 'User_929', 'User_907', 'User_996',\n",
       "       'User_959', 'User_901', 'User_970', 'User_965', 'User_921'],\n",
       "      dtype=object)"
      ]
     },
     "execution_count": 22,
     "metadata": {},
     "output_type": "execute_result"
    }
   ],
   "source": [
    "users.user_id.unique()"
   ]
  },
  {
   "cell_type": "code",
   "execution_count": 21,
   "metadata": {},
   "outputs": [
    {
     "data": {
      "text/plain": [
       "array(['Запись пользователя № - user_919',\n",
       "       'Запись пользователя № - user_973',\n",
       "       'Запись пользователя № - user_903',\n",
       "       'Запись пользователя № - user_954',\n",
       "       'Запись пользователя № - user_917',\n",
       "       'Запись пользователя № - user_900',\n",
       "       'Запись пользователя № - user_980',\n",
       "       'Запись пользователя № - user_906',\n",
       "       'Запись пользователя № - user_952',\n",
       "       'Запись пользователя № - user_972',\n",
       "       'Запись пользователя № - user_966',\n",
       "       'Запись пользователя № - user_964',\n",
       "       'Запись пользователя № - user_978',\n",
       "       'Запись пользователя № - user_968',\n",
       "       'Запись пользователя № - user_974',\n",
       "       'Запись пользователя № - user_998',\n",
       "       'Запись пользователя № - user_990',\n",
       "       'Запись пользователя № - user_942',\n",
       "       'Запись пользователя № - user_929',\n",
       "       'Запись пользователя № - user_976',\n",
       "       'Запись пользователя № - user_927',\n",
       "       'Запись пользователя № - user_951',\n",
       "       'Запись пользователя № - user_949',\n",
       "       'Запись пользователя № - user_987',\n",
       "       'Запись пользователя № - user_985',\n",
       "       'Запись пользователя № - user_992',\n",
       "       'Запись пользователя № - user_937',\n",
       "       'Запись пользователя № - user_913',\n",
       "       'Запись пользователя № - user_948',\n",
       "       'Запись пользователя № - user_916',\n",
       "       'Запись пользователя № - user_938',\n",
       "       'Запись пользователя № - user_997',\n",
       "       'Запись пользователя № - user_940',\n",
       "       'Запись пользователя № - user_918',\n",
       "       'Запись пользователя № - user_960',\n",
       "       'Запись пользователя № - user_905',\n",
       "       'Запись пользователя № - user_924',\n",
       "       'Запись пользователя № - user_958',\n",
       "       'Запись пользователя № - user_920',\n",
       "       'Запись пользователя № - user_943',\n",
       "       'Запись пользователя № - user_935',\n",
       "       'Запись пользователя № - user_915',\n",
       "       'Запись пользователя № - user_921',\n",
       "       'Запись пользователя № - user_999',\n",
       "       'Запись пользователя № - user_982',\n",
       "       'Запись пользователя № - user_928',\n",
       "       'Запись пользователя № - user_944',\n",
       "       'Запись пользователя № - user_912',\n",
       "       'Запись пользователя № - user_969',\n",
       "       'Запись пользователя № - user_901',\n",
       "       'Запись пользователя № - user_995',\n",
       "       'Запись пользователя № - user_933',\n",
       "       'Запись пользователя № - user_986',\n",
       "       'Запись пользователя № - user_971',\n",
       "       'Запись пользователя № - user_977',\n",
       "       'Запись пользователя № - user_979',\n",
       "       'Запись пользователя № - user_910',\n",
       "       'Запись пользователя № - user_994',\n",
       "       'Запись пользователя № - user_907',\n",
       "       'Запись пользователя № - user_941',\n",
       "       'Запись пользователя № - user_989',\n",
       "       'Запись пользователя № - user_955',\n",
       "       'Запись пользователя № - user_991',\n",
       "       'Запись пользователя № - user_996',\n",
       "       'Запись пользователя № - user_926',\n",
       "       'Запись пользователя № - user_984',\n",
       "       'Запись пользователя № - user_957',\n",
       "       'Запись пользователя № - user_914',\n",
       "       'Запись пользователя № - user_988',\n",
       "       'Запись пользователя № - user_923',\n",
       "       'Запись пользователя № - user_967',\n",
       "       'Запись пользователя № - user_945',\n",
       "       'Запись пользователя № - user_993',\n",
       "       'Запись пользователя № - user_908',\n",
       "       'Запись пользователя № - user_930',\n",
       "       'Запись пользователя № - user_981',\n",
       "       'Запись пользователя № - user_936',\n",
       "       'Запись пользователя № - user_922',\n",
       "       'Запись пользователя № - user_962',\n",
       "       'Запись пользователя № - user_965',\n",
       "       'Запись пользователя № - user_959',\n",
       "       'Запись пользователя № - user_963',\n",
       "       'Запись пользователя № - user_904',\n",
       "       'Запись пользователя № - user_931',\n",
       "       'Запись пользователя № - user_1000',\n",
       "       'Запись пользователя № - user_946',\n",
       "       'Запись пользователя № - user_970',\n",
       "       'Запись пользователя № - user_939',\n",
       "       'Запись пользователя № - user_961',\n",
       "       'Запись пользователя № - user_911',\n",
       "       'Запись пользователя № - user_950',\n",
       "       'Запись пользователя № - user_956',\n",
       "       'Запись пользователя № - user_909',\n",
       "       'Запись пользователя № - user_983',\n",
       "       'Запись пользователя № - user_902',\n",
       "       'Запись пользователя № - user_947',\n",
       "       'Запись пользователя № - user_975',\n",
       "       'Запись пользователя № - user_953',\n",
       "       'Запись пользователя № - user_925',\n",
       "       'Запись пользователя № - user_934',\n",
       "       'Запись пользователя № - user_932', '#error'], dtype=object)"
      ]
     },
     "execution_count": 21,
     "metadata": {},
     "output_type": "execute_result"
    }
   ],
   "source": [
    "log.user_id.unique()"
   ]
  },
  {
   "cell_type": "code",
   "execution_count": 7,
   "metadata": {},
   "outputs": [
    {
     "name": "stdout",
     "output_type": "stream",
     "text": [
      "<class 'pandas.core.frame.DataFrame'>\n",
      "RangeIndex: 100 entries, 0 to 99\n",
      "Data columns (total 3 columns):\n",
      "user_id    100 non-null object\n",
      "email      99 non-null object\n",
      "geo        97 non-null object\n",
      "dtypes: object(3)\n",
      "memory usage: 2.4+ KB\n"
     ]
    }
   ],
   "source": [
    "users.info()"
   ]
  },
  {
   "cell_type": "code",
   "execution_count": 9,
   "metadata": {},
   "outputs": [
    {
     "data": {
      "text/html": [
       "<div>\n",
       "<style scoped>\n",
       "    .dataframe tbody tr th:only-of-type {\n",
       "        vertical-align: middle;\n",
       "    }\n",
       "\n",
       "    .dataframe tbody tr th {\n",
       "        vertical-align: top;\n",
       "    }\n",
       "\n",
       "    .dataframe thead th {\n",
       "        text-align: right;\n",
       "    }\n",
       "</style>\n",
       "<table border=\"1\" class=\"dataframe\">\n",
       "  <thead>\n",
       "    <tr style=\"text-align: right;\">\n",
       "      <th></th>\n",
       "      <th>Name</th>\n",
       "      <th>City</th>\n",
       "      <th>Age</th>\n",
       "      <th>Profession</th>\n",
       "    </tr>\n",
       "  </thead>\n",
       "  <tbody>\n",
       "    <tr>\n",
       "      <th>0</th>\n",
       "      <td>Иванов</td>\n",
       "      <td>Москва</td>\n",
       "      <td>25</td>\n",
       "      <td>Клинер</td>\n",
       "    </tr>\n",
       "    <tr>\n",
       "      <th>1</th>\n",
       "      <td>NaN</td>\n",
       "      <td>Волгоград</td>\n",
       "      <td>31</td>\n",
       "      <td>Менеджер</td>\n",
       "    </tr>\n",
       "    <tr>\n",
       "      <th>2</th>\n",
       "      <td>Иванов</td>\n",
       "      <td>Москва</td>\n",
       "      <td>25</td>\n",
       "      <td>Клинер</td>\n",
       "    </tr>\n",
       "    <tr>\n",
       "      <th>3</th>\n",
       "      <td>sidorov</td>\n",
       "      <td>Владивосток</td>\n",
       "      <td>43</td>\n",
       "      <td>Менеджер</td>\n",
       "    </tr>\n",
       "    <tr>\n",
       "      <th>4</th>\n",
       "      <td>_______</td>\n",
       "      <td>Курск</td>\n",
       "      <td>50</td>\n",
       "      <td>Водитель</td>\n",
       "    </tr>\n",
       "    <tr>\n",
       "      <th>5</th>\n",
       "      <td>Кузнецов</td>\n",
       "      <td>Сочи</td>\n",
       "      <td>19</td>\n",
       "      <td>Рабочий</td>\n",
       "    </tr>\n",
       "    <tr>\n",
       "      <th>6</th>\n",
       "      <td>Сажин</td>\n",
       "      <td>Сургут</td>\n",
       "      <td>29</td>\n",
       "      <td>Рабочий</td>\n",
       "    </tr>\n",
       "    <tr>\n",
       "      <th>7</th>\n",
       "      <td>Котлеревский</td>\n",
       "      <td>Йошкар-Ола</td>\n",
       "      <td>32</td>\n",
       "      <td>Рабочий</td>\n",
       "    </tr>\n",
       "    <tr>\n",
       "      <th>8</th>\n",
       "      <td>Завалишина</td>\n",
       "      <td>Чебоксары</td>\n",
       "      <td>36</td>\n",
       "      <td>Менеджер</td>\n",
       "    </tr>\n",
       "    <tr>\n",
       "      <th>9</th>\n",
       "      <td>Левина</td>\n",
       "      <td>NaN</td>\n",
       "      <td>55</td>\n",
       "      <td>Рабочий</td>\n",
       "    </tr>\n",
       "    <tr>\n",
       "      <th>10</th>\n",
       "      <td>Фикс</td>\n",
       "      <td>Рига</td>\n",
       "      <td>42</td>\n",
       "      <td>Рабочий</td>\n",
       "    </tr>\n",
       "  </tbody>\n",
       "</table>\n",
       "</div>"
      ],
      "text/plain": [
       "            Name         City  Age Profession\n",
       "0         Иванов       Москва   25     Клинер\n",
       "1            NaN    Волгоград   31   Менеджер\n",
       "2         Иванов       Москва   25     Клинер\n",
       "3        sidorov  Владивосток   43   Менеджер\n",
       "4        _______        Курск   50   Водитель\n",
       "5       Кузнецов         Сочи   19    Рабочий\n",
       "6          Сажин       Сургут   29    Рабочий\n",
       "7   Котлеревский   Йошкар-Ола   32    Рабочий\n",
       "8     Завалишина    Чебоксары   36   Менеджер\n",
       "9         Левина          NaN   55    Рабочий\n",
       "10          Фикс         Рига   42    Рабочий"
      ]
     },
     "execution_count": 9,
     "metadata": {},
     "output_type": "execute_result"
    }
   ],
   "source": [
    "sample"
   ]
  },
  {
   "cell_type": "code",
   "execution_count": 10,
   "metadata": {},
   "outputs": [
    {
     "data": {
      "text/plain": [
       "array(['Иванов', nan, 'sidorov', '_______', 'Кузнецов', 'Сажин',\n",
       "       'Котлеревский', 'Завалишина', 'Левина', 'Фикс'], dtype=object)"
      ]
     },
     "execution_count": 10,
     "metadata": {},
     "output_type": "execute_result"
    }
   ],
   "source": [
    "sample.Name.unique()"
   ]
  },
  {
   "cell_type": "code",
   "execution_count": 15,
   "metadata": {},
   "outputs": [
    {
     "name": "stdout",
     "output_type": "stream",
     "text": [
      "<class 'pandas.core.frame.DataFrame'>\n",
      "RangeIndex: 11 entries, 0 to 10\n",
      "Data columns (total 4 columns):\n",
      "Name          10 non-null object\n",
      "City          10 non-null object\n",
      "Age           11 non-null int64\n",
      "Profession    11 non-null object\n",
      "dtypes: int64(1), object(3)\n",
      "memory usage: 432.0+ bytes\n"
     ]
    }
   ],
   "source": [
    "sample.info()"
   ]
  },
  {
   "cell_type": "markdown",
   "metadata": {},
   "source": [
    "4.8.1. Задание \n",
    "Создайте новый датафрейм sample2, в который будут входить только записи о людях в возрасте меньше 30 лет. "
   ]
  },
  {
   "cell_type": "code",
   "execution_count": 33,
   "metadata": {},
   "outputs": [],
   "source": [
    "sample2=sample[sample.Age<30]"
   ]
  },
  {
   "cell_type": "code",
   "execution_count": 34,
   "metadata": {},
   "outputs": [
    {
     "data": {
      "text/html": [
       "<div>\n",
       "<style scoped>\n",
       "    .dataframe tbody tr th:only-of-type {\n",
       "        vertical-align: middle;\n",
       "    }\n",
       "\n",
       "    .dataframe tbody tr th {\n",
       "        vertical-align: top;\n",
       "    }\n",
       "\n",
       "    .dataframe thead th {\n",
       "        text-align: right;\n",
       "    }\n",
       "</style>\n",
       "<table border=\"1\" class=\"dataframe\">\n",
       "  <thead>\n",
       "    <tr style=\"text-align: right;\">\n",
       "      <th></th>\n",
       "      <th>Name</th>\n",
       "      <th>City</th>\n",
       "      <th>Age</th>\n",
       "      <th>Profession</th>\n",
       "    </tr>\n",
       "  </thead>\n",
       "  <tbody>\n",
       "    <tr>\n",
       "      <th>0</th>\n",
       "      <td>Иванов</td>\n",
       "      <td>Москва</td>\n",
       "      <td>25</td>\n",
       "      <td>Клинер</td>\n",
       "    </tr>\n",
       "    <tr>\n",
       "      <th>2</th>\n",
       "      <td>Иванов</td>\n",
       "      <td>Москва</td>\n",
       "      <td>25</td>\n",
       "      <td>Клинер</td>\n",
       "    </tr>\n",
       "    <tr>\n",
       "      <th>5</th>\n",
       "      <td>Кузнецов</td>\n",
       "      <td>Сочи</td>\n",
       "      <td>19</td>\n",
       "      <td>Рабочий</td>\n",
       "    </tr>\n",
       "    <tr>\n",
       "      <th>6</th>\n",
       "      <td>Сажин</td>\n",
       "      <td>Сургут</td>\n",
       "      <td>29</td>\n",
       "      <td>Рабочий</td>\n",
       "    </tr>\n",
       "  </tbody>\n",
       "</table>\n",
       "</div>"
      ],
      "text/plain": [
       "       Name    City  Age Profession\n",
       "0    Иванов  Москва   25     Клинер\n",
       "2    Иванов  Москва   25     Клинер\n",
       "5  Кузнецов    Сочи   19    Рабочий\n",
       "6     Сажин  Сургут   29    Рабочий"
      ]
     },
     "execution_count": 34,
     "metadata": {},
     "output_type": "execute_result"
    }
   ],
   "source": [
    "sample2"
   ]
  },
  {
   "cell_type": "markdown",
   "metadata": {},
   "source": [
    "4.8.3. Задание \n",
    "Создайте новый датафрейм sample2, в который будут входить только записи о рабочих младше 30 лет. "
   ]
  },
  {
   "cell_type": "code",
   "execution_count": 31,
   "metadata": {},
   "outputs": [],
   "source": [
    "sample2=sample[(sample.Age<30)&(sample.Profession=='Рабочий')]"
   ]
  },
  {
   "cell_type": "markdown",
   "metadata": {},
   "source": [
    "4.8.2. Задание \n",
    "Создайте новый датафрейм log_win, в который будут входить только записи, где пользователь выиграл. Посчитайте, сколько таких записей и сохраните в переменной win_count. "
   ]
  },
  {
   "cell_type": "code",
   "execution_count": 38,
   "metadata": {},
   "outputs": [
    {
     "data": {
      "text/html": [
       "<div>\n",
       "<style scoped>\n",
       "    .dataframe tbody tr th:only-of-type {\n",
       "        vertical-align: middle;\n",
       "    }\n",
       "\n",
       "    .dataframe tbody tr th {\n",
       "        vertical-align: top;\n",
       "    }\n",
       "\n",
       "    .dataframe thead th {\n",
       "        text-align: right;\n",
       "    }\n",
       "</style>\n",
       "<table border=\"1\" class=\"dataframe\">\n",
       "  <thead>\n",
       "    <tr style=\"text-align: right;\">\n",
       "      <th></th>\n",
       "      <th>user_id</th>\n",
       "      <th>time</th>\n",
       "      <th>bet</th>\n",
       "      <th>win</th>\n",
       "    </tr>\n",
       "  </thead>\n",
       "  <tbody>\n",
       "    <tr>\n",
       "      <th>0</th>\n",
       "      <td>Запись пользователя № - user_919</td>\n",
       "      <td>[2019-01-01 14:06:51</td>\n",
       "      <td>NaN</td>\n",
       "      <td>NaN</td>\n",
       "    </tr>\n",
       "    <tr>\n",
       "      <th>1</th>\n",
       "      <td>Запись пользователя № - user_973</td>\n",
       "      <td>[2019-01-01 14:51:16</td>\n",
       "      <td>NaN</td>\n",
       "      <td>NaN</td>\n",
       "    </tr>\n",
       "    <tr>\n",
       "      <th>2</th>\n",
       "      <td>Запись пользователя № - user_903</td>\n",
       "      <td>[2019-01-01 16:31:16</td>\n",
       "      <td>NaN</td>\n",
       "      <td>NaN</td>\n",
       "    </tr>\n",
       "    <tr>\n",
       "      <th>3</th>\n",
       "      <td>Запись пользователя № - user_954</td>\n",
       "      <td>[2019-01-01 17:17:51</td>\n",
       "      <td>NaN</td>\n",
       "      <td>NaN</td>\n",
       "    </tr>\n",
       "    <tr>\n",
       "      <th>4</th>\n",
       "      <td>Запись пользователя № - user_954</td>\n",
       "      <td>[2019-01-01 21:31:18</td>\n",
       "      <td>NaN</td>\n",
       "      <td>NaN</td>\n",
       "    </tr>\n",
       "    <tr>\n",
       "      <th>5</th>\n",
       "      <td>Запись пользователя № - user_917</td>\n",
       "      <td>[2019-01-01 23:34:55</td>\n",
       "      <td>156789.0</td>\n",
       "      <td>NaN</td>\n",
       "    </tr>\n",
       "  </tbody>\n",
       "</table>\n",
       "</div>"
      ],
      "text/plain": [
       "                            user_id                  time       bet  win\n",
       "0  Запись пользователя № - user_919  [2019-01-01 14:06:51       NaN  NaN\n",
       "1  Запись пользователя № - user_973  [2019-01-01 14:51:16       NaN  NaN\n",
       "2  Запись пользователя № - user_903  [2019-01-01 16:31:16       NaN  NaN\n",
       "3  Запись пользователя № - user_954  [2019-01-01 17:17:51       NaN  NaN\n",
       "4  Запись пользователя № - user_954  [2019-01-01 21:31:18       NaN  NaN\n",
       "5  Запись пользователя № - user_917  [2019-01-01 23:34:55  156789.0  NaN"
      ]
     },
     "execution_count": 38,
     "metadata": {},
     "output_type": "execute_result"
    }
   ],
   "source": [
    "log.head(6)"
   ]
  },
  {
   "cell_type": "code",
   "execution_count": 45,
   "metadata": {},
   "outputs": [],
   "source": [
    "log_win=log[log.win>0]"
   ]
  },
  {
   "cell_type": "code",
   "execution_count": 47,
   "metadata": {},
   "outputs": [],
   "source": [
    "win_count=log_win.win.count()"
   ]
  },
  {
   "cell_type": "code",
   "execution_count": 49,
   "metadata": {},
   "outputs": [
    {
     "data": {
      "text/plain": [
       "138"
      ]
     },
     "execution_count": 49,
     "metadata": {},
     "output_type": "execute_result"
    }
   ],
   "source": [
    "win_count"
   ]
  },
  {
   "cell_type": "markdown",
   "metadata": {},
   "source": [
    "4.9 Функция query"
   ]
  },
  {
   "cell_type": "code",
   "execution_count": 50,
   "metadata": {},
   "outputs": [
    {
     "data": {
      "text/html": [
       "<div>\n",
       "<style scoped>\n",
       "    .dataframe tbody tr th:only-of-type {\n",
       "        vertical-align: middle;\n",
       "    }\n",
       "\n",
       "    .dataframe tbody tr th {\n",
       "        vertical-align: top;\n",
       "    }\n",
       "\n",
       "    .dataframe thead th {\n",
       "        text-align: right;\n",
       "    }\n",
       "</style>\n",
       "<table border=\"1\" class=\"dataframe\">\n",
       "  <thead>\n",
       "    <tr style=\"text-align: right;\">\n",
       "      <th></th>\n",
       "      <th>Name</th>\n",
       "      <th>City</th>\n",
       "      <th>Age</th>\n",
       "      <th>Profession</th>\n",
       "    </tr>\n",
       "  </thead>\n",
       "  <tbody>\n",
       "    <tr>\n",
       "      <th>0</th>\n",
       "      <td>Иванов</td>\n",
       "      <td>Москва</td>\n",
       "      <td>25</td>\n",
       "      <td>Клинер</td>\n",
       "    </tr>\n",
       "    <tr>\n",
       "      <th>1</th>\n",
       "      <td>NaN</td>\n",
       "      <td>Волгоград</td>\n",
       "      <td>31</td>\n",
       "      <td>Менеджер</td>\n",
       "    </tr>\n",
       "    <tr>\n",
       "      <th>2</th>\n",
       "      <td>Иванов</td>\n",
       "      <td>Москва</td>\n",
       "      <td>25</td>\n",
       "      <td>Клинер</td>\n",
       "    </tr>\n",
       "    <tr>\n",
       "      <th>3</th>\n",
       "      <td>sidorov</td>\n",
       "      <td>Владивосток</td>\n",
       "      <td>43</td>\n",
       "      <td>Менеджер</td>\n",
       "    </tr>\n",
       "    <tr>\n",
       "      <th>4</th>\n",
       "      <td>_______</td>\n",
       "      <td>Курск</td>\n",
       "      <td>50</td>\n",
       "      <td>Водитель</td>\n",
       "    </tr>\n",
       "    <tr>\n",
       "      <th>6</th>\n",
       "      <td>Сажин</td>\n",
       "      <td>Сургут</td>\n",
       "      <td>29</td>\n",
       "      <td>Рабочий</td>\n",
       "    </tr>\n",
       "    <tr>\n",
       "      <th>7</th>\n",
       "      <td>Котлеревский</td>\n",
       "      <td>Йошкар-Ола</td>\n",
       "      <td>32</td>\n",
       "      <td>Рабочий</td>\n",
       "    </tr>\n",
       "    <tr>\n",
       "      <th>8</th>\n",
       "      <td>Завалишина</td>\n",
       "      <td>Чебоксары</td>\n",
       "      <td>36</td>\n",
       "      <td>Менеджер</td>\n",
       "    </tr>\n",
       "    <tr>\n",
       "      <th>9</th>\n",
       "      <td>Левина</td>\n",
       "      <td>NaN</td>\n",
       "      <td>55</td>\n",
       "      <td>Рабочий</td>\n",
       "    </tr>\n",
       "    <tr>\n",
       "      <th>10</th>\n",
       "      <td>Фикс</td>\n",
       "      <td>Рига</td>\n",
       "      <td>42</td>\n",
       "      <td>Рабочий</td>\n",
       "    </tr>\n",
       "  </tbody>\n",
       "</table>\n",
       "</div>"
      ],
      "text/plain": [
       "            Name         City  Age Profession\n",
       "0         Иванов       Москва   25     Клинер\n",
       "1            NaN    Волгоград   31   Менеджер\n",
       "2         Иванов       Москва   25     Клинер\n",
       "3        sidorov  Владивосток   43   Менеджер\n",
       "4        _______        Курск   50   Водитель\n",
       "6          Сажин       Сургут   29    Рабочий\n",
       "7   Котлеревский   Йошкар-Ола   32    Рабочий\n",
       "8     Завалишина    Чебоксары   36   Менеджер\n",
       "9         Левина          NaN   55    Рабочий\n",
       "10          Фикс         Рига   42    Рабочий"
      ]
     },
     "execution_count": 50,
     "metadata": {},
     "output_type": "execute_result"
    }
   ],
   "source": [
    "sample.query('Age>20')"
   ]
  },
  {
   "cell_type": "code",
   "execution_count": 51,
   "metadata": {},
   "outputs": [
    {
     "data": {
      "text/html": [
       "<div>\n",
       "<style scoped>\n",
       "    .dataframe tbody tr th:only-of-type {\n",
       "        vertical-align: middle;\n",
       "    }\n",
       "\n",
       "    .dataframe tbody tr th {\n",
       "        vertical-align: top;\n",
       "    }\n",
       "\n",
       "    .dataframe thead th {\n",
       "        text-align: right;\n",
       "    }\n",
       "</style>\n",
       "<table border=\"1\" class=\"dataframe\">\n",
       "  <thead>\n",
       "    <tr style=\"text-align: right;\">\n",
       "      <th></th>\n",
       "      <th>Name</th>\n",
       "      <th>City</th>\n",
       "      <th>Age</th>\n",
       "      <th>Profession</th>\n",
       "    </tr>\n",
       "  </thead>\n",
       "  <tbody>\n",
       "    <tr>\n",
       "      <th>0</th>\n",
       "      <td>Иванов</td>\n",
       "      <td>Москва</td>\n",
       "      <td>25</td>\n",
       "      <td>Клинер</td>\n",
       "    </tr>\n",
       "    <tr>\n",
       "      <th>2</th>\n",
       "      <td>Иванов</td>\n",
       "      <td>Москва</td>\n",
       "      <td>25</td>\n",
       "      <td>Клинер</td>\n",
       "    </tr>\n",
       "  </tbody>\n",
       "</table>\n",
       "</div>"
      ],
      "text/plain": [
       "     Name    City  Age Profession\n",
       "0  Иванов  Москва   25     Клинер\n",
       "2  Иванов  Москва   25     Клинер"
      ]
     },
     "execution_count": 51,
     "metadata": {},
     "output_type": "execute_result"
    }
   ],
   "source": [
    "sample.query('Age==25')"
   ]
  },
  {
   "cell_type": "code",
   "execution_count": 52,
   "metadata": {},
   "outputs": [
    {
     "data": {
      "text/html": [
       "<div>\n",
       "<style scoped>\n",
       "    .dataframe tbody tr th:only-of-type {\n",
       "        vertical-align: middle;\n",
       "    }\n",
       "\n",
       "    .dataframe tbody tr th {\n",
       "        vertical-align: top;\n",
       "    }\n",
       "\n",
       "    .dataframe thead th {\n",
       "        text-align: right;\n",
       "    }\n",
       "</style>\n",
       "<table border=\"1\" class=\"dataframe\">\n",
       "  <thead>\n",
       "    <tr style=\"text-align: right;\">\n",
       "      <th></th>\n",
       "      <th>Name</th>\n",
       "      <th>City</th>\n",
       "      <th>Age</th>\n",
       "      <th>Profession</th>\n",
       "    </tr>\n",
       "  </thead>\n",
       "  <tbody>\n",
       "    <tr>\n",
       "      <th>5</th>\n",
       "      <td>Кузнецов</td>\n",
       "      <td>Сочи</td>\n",
       "      <td>19</td>\n",
       "      <td>Рабочий</td>\n",
       "    </tr>\n",
       "    <tr>\n",
       "      <th>10</th>\n",
       "      <td>Фикс</td>\n",
       "      <td>Рига</td>\n",
       "      <td>42</td>\n",
       "      <td>Рабочий</td>\n",
       "    </tr>\n",
       "  </tbody>\n",
       "</table>\n",
       "</div>"
      ],
      "text/plain": [
       "        Name  City  Age Profession\n",
       "5   Кузнецов  Сочи   19    Рабочий\n",
       "10      Фикс  Рига   42    Рабочий"
      ]
     },
     "execution_count": 52,
     "metadata": {},
     "output_type": "execute_result"
    }
   ],
   "source": [
    "sample.query('City in [\"Рига\",\"Сочи\"]')   #Запрос входит в список"
   ]
  },
  {
   "cell_type": "code",
   "execution_count": 53,
   "metadata": {},
   "outputs": [
    {
     "data": {
      "text/html": [
       "<div>\n",
       "<style scoped>\n",
       "    .dataframe tbody tr th:only-of-type {\n",
       "        vertical-align: middle;\n",
       "    }\n",
       "\n",
       "    .dataframe tbody tr th {\n",
       "        vertical-align: top;\n",
       "    }\n",
       "\n",
       "    .dataframe thead th {\n",
       "        text-align: right;\n",
       "    }\n",
       "</style>\n",
       "<table border=\"1\" class=\"dataframe\">\n",
       "  <thead>\n",
       "    <tr style=\"text-align: right;\">\n",
       "      <th></th>\n",
       "      <th>Name</th>\n",
       "      <th>City</th>\n",
       "      <th>Age</th>\n",
       "      <th>Profession</th>\n",
       "    </tr>\n",
       "  </thead>\n",
       "  <tbody>\n",
       "    <tr>\n",
       "      <th>6</th>\n",
       "      <td>Сажин</td>\n",
       "      <td>Сургут</td>\n",
       "      <td>29</td>\n",
       "      <td>Рабочий</td>\n",
       "    </tr>\n",
       "    <tr>\n",
       "      <th>10</th>\n",
       "      <td>Фикс</td>\n",
       "      <td>Рига</td>\n",
       "      <td>42</td>\n",
       "      <td>Рабочий</td>\n",
       "    </tr>\n",
       "  </tbody>\n",
       "</table>\n",
       "</div>"
      ],
      "text/plain": [
       "     Name    City  Age Profession\n",
       "6   Сажин  Сургут   29    Рабочий\n",
       "10   Фикс    Рига   42    Рабочий"
      ]
     },
     "execution_count": 53,
     "metadata": {},
     "output_type": "execute_result"
    }
   ],
   "source": [
    "#Запрос несколько условий сразу\n",
    "sample.query('City in [\"Рига\", \"Сочи\",\"Чебоксары\", \"Сургут\"] & 21<Age<50 & Profession!=\"Менеджер\"')"
   ]
  },
  {
   "cell_type": "markdown",
   "metadata": {},
   "source": [
    "4.9.1. Задание \n",
    "С помощью функции query найдите тех, у кого ставка меньше 2000, а выигрыш больше 0. Сохраните в новый датафрейм log2. "
   ]
  },
  {
   "cell_type": "code",
   "execution_count": 58,
   "metadata": {},
   "outputs": [],
   "source": [
    "log2=log.query('bet<2000 & win>0')"
   ]
  },
  {
   "cell_type": "code",
   "execution_count": 60,
   "metadata": {},
   "outputs": [
    {
     "data": {
      "text/html": [
       "<div>\n",
       "<style scoped>\n",
       "    .dataframe tbody tr th:only-of-type {\n",
       "        vertical-align: middle;\n",
       "    }\n",
       "\n",
       "    .dataframe tbody tr th {\n",
       "        vertical-align: top;\n",
       "    }\n",
       "\n",
       "    .dataframe thead th {\n",
       "        text-align: right;\n",
       "    }\n",
       "</style>\n",
       "<table border=\"1\" class=\"dataframe\">\n",
       "  <thead>\n",
       "    <tr style=\"text-align: right;\">\n",
       "      <th></th>\n",
       "      <th>user_id</th>\n",
       "      <th>time</th>\n",
       "      <th>bet</th>\n",
       "      <th>win</th>\n",
       "    </tr>\n",
       "  </thead>\n",
       "  <tbody>\n",
       "    <tr>\n",
       "      <th>151</th>\n",
       "      <td>Запись пользователя № - user_982</td>\n",
       "      <td>[2019-01-16 21:54:22</td>\n",
       "      <td>100.0</td>\n",
       "      <td>4749.0</td>\n",
       "    </tr>\n",
       "    <tr>\n",
       "      <th>189</th>\n",
       "      <td>Запись пользователя № - user_964</td>\n",
       "      <td>[2019-01-21 18:34:44</td>\n",
       "      <td>200.0</td>\n",
       "      <td>4667.0</td>\n",
       "    </tr>\n",
       "    <tr>\n",
       "      <th>205</th>\n",
       "      <td>Запись пользователя № - user_931</td>\n",
       "      <td>[2019-01-22 5:26:59</td>\n",
       "      <td>300.0</td>\n",
       "      <td>4319.0</td>\n",
       "    </tr>\n",
       "  </tbody>\n",
       "</table>\n",
       "</div>"
      ],
      "text/plain": [
       "                              user_id                  time    bet     win\n",
       "151  Запись пользователя № - user_982  [2019-01-16 21:54:22  100.0  4749.0\n",
       "189  Запись пользователя № - user_964  [2019-01-21 18:34:44  200.0  4667.0\n",
       "205  Запись пользователя № - user_931   [2019-01-22 5:26:59  300.0  4319.0"
      ]
     },
     "execution_count": 60,
     "metadata": {},
     "output_type": "execute_result"
    }
   ],
   "source": [
    "log2.head(3)"
   ]
  },
  {
   "cell_type": "markdown",
   "metadata": {},
   "source": [
    "4.10 Функции str.match и str.contains"
   ]
  },
  {
   "cell_type": "code",
   "execution_count": 62,
   "metadata": {},
   "outputs": [
    {
     "data": {
      "text/plain": [
       "0     False\n",
       "1     False\n",
       "2     False\n",
       "3     False\n",
       "4     False\n",
       "5      True\n",
       "6     False\n",
       "7      True\n",
       "8     False\n",
       "9     False\n",
       "10    False\n",
       "Name: Name, dtype: bool"
      ]
     },
     "execution_count": 62,
     "metadata": {},
     "output_type": "execute_result"
    }
   ],
   "source": [
    "sample.Name.str.match(\"К\", na=False)  #получаем своеобразную маску"
   ]
  },
  {
   "cell_type": "code",
   "execution_count": 63,
   "metadata": {},
   "outputs": [
    {
     "data": {
      "text/html": [
       "<div>\n",
       "<style scoped>\n",
       "    .dataframe tbody tr th:only-of-type {\n",
       "        vertical-align: middle;\n",
       "    }\n",
       "\n",
       "    .dataframe tbody tr th {\n",
       "        vertical-align: top;\n",
       "    }\n",
       "\n",
       "    .dataframe thead th {\n",
       "        text-align: right;\n",
       "    }\n",
       "</style>\n",
       "<table border=\"1\" class=\"dataframe\">\n",
       "  <thead>\n",
       "    <tr style=\"text-align: right;\">\n",
       "      <th></th>\n",
       "      <th>Name</th>\n",
       "      <th>City</th>\n",
       "      <th>Age</th>\n",
       "      <th>Profession</th>\n",
       "    </tr>\n",
       "  </thead>\n",
       "  <tbody>\n",
       "    <tr>\n",
       "      <th>5</th>\n",
       "      <td>Кузнецов</td>\n",
       "      <td>Сочи</td>\n",
       "      <td>19</td>\n",
       "      <td>Рабочий</td>\n",
       "    </tr>\n",
       "    <tr>\n",
       "      <th>7</th>\n",
       "      <td>Котлеревский</td>\n",
       "      <td>Йошкар-Ола</td>\n",
       "      <td>32</td>\n",
       "      <td>Рабочий</td>\n",
       "    </tr>\n",
       "  </tbody>\n",
       "</table>\n",
       "</div>"
      ],
      "text/plain": [
       "           Name        City  Age Profession\n",
       "5      Кузнецов        Сочи   19    Рабочий\n",
       "7  Котлеревский  Йошкар-Ола   32    Рабочий"
      ]
     },
     "execution_count": 63,
     "metadata": {},
     "output_type": "execute_result"
    }
   ],
   "source": [
    "#которую мы можем наложить на датафрейм для фильтрации\n",
    "sample[sample.Name.str.match(\"К\", na=False)]"
   ]
  },
  {
   "cell_type": "code",
   "execution_count": 64,
   "metadata": {},
   "outputs": [
    {
     "data": {
      "text/html": [
       "<div>\n",
       "<style scoped>\n",
       "    .dataframe tbody tr th:only-of-type {\n",
       "        vertical-align: middle;\n",
       "    }\n",
       "\n",
       "    .dataframe tbody tr th {\n",
       "        vertical-align: top;\n",
       "    }\n",
       "\n",
       "    .dataframe thead th {\n",
       "        text-align: right;\n",
       "    }\n",
       "</style>\n",
       "<table border=\"1\" class=\"dataframe\">\n",
       "  <thead>\n",
       "    <tr style=\"text-align: right;\">\n",
       "      <th></th>\n",
       "      <th>Name</th>\n",
       "      <th>City</th>\n",
       "      <th>Age</th>\n",
       "      <th>Profession</th>\n",
       "    </tr>\n",
       "  </thead>\n",
       "  <tbody>\n",
       "    <tr>\n",
       "      <th>0</th>\n",
       "      <td>Иванов</td>\n",
       "      <td>Москва</td>\n",
       "      <td>25</td>\n",
       "      <td>Клинер</td>\n",
       "    </tr>\n",
       "    <tr>\n",
       "      <th>1</th>\n",
       "      <td>NaN</td>\n",
       "      <td>Волгоград</td>\n",
       "      <td>31</td>\n",
       "      <td>Менеджер</td>\n",
       "    </tr>\n",
       "    <tr>\n",
       "      <th>2</th>\n",
       "      <td>Иванов</td>\n",
       "      <td>Москва</td>\n",
       "      <td>25</td>\n",
       "      <td>Клинер</td>\n",
       "    </tr>\n",
       "    <tr>\n",
       "      <th>3</th>\n",
       "      <td>sidorov</td>\n",
       "      <td>Владивосток</td>\n",
       "      <td>43</td>\n",
       "      <td>Менеджер</td>\n",
       "    </tr>\n",
       "    <tr>\n",
       "      <th>4</th>\n",
       "      <td>_______</td>\n",
       "      <td>Курск</td>\n",
       "      <td>50</td>\n",
       "      <td>Водитель</td>\n",
       "    </tr>\n",
       "    <tr>\n",
       "      <th>6</th>\n",
       "      <td>Сажин</td>\n",
       "      <td>Сургут</td>\n",
       "      <td>29</td>\n",
       "      <td>Рабочий</td>\n",
       "    </tr>\n",
       "    <tr>\n",
       "      <th>8</th>\n",
       "      <td>Завалишина</td>\n",
       "      <td>Чебоксары</td>\n",
       "      <td>36</td>\n",
       "      <td>Менеджер</td>\n",
       "    </tr>\n",
       "    <tr>\n",
       "      <th>9</th>\n",
       "      <td>Левина</td>\n",
       "      <td>NaN</td>\n",
       "      <td>55</td>\n",
       "      <td>Рабочий</td>\n",
       "    </tr>\n",
       "    <tr>\n",
       "      <th>10</th>\n",
       "      <td>Фикс</td>\n",
       "      <td>Рига</td>\n",
       "      <td>42</td>\n",
       "      <td>Рабочий</td>\n",
       "    </tr>\n",
       "  </tbody>\n",
       "</table>\n",
       "</div>"
      ],
      "text/plain": [
       "          Name         City  Age Profession\n",
       "0       Иванов       Москва   25     Клинер\n",
       "1          NaN    Волгоград   31   Менеджер\n",
       "2       Иванов       Москва   25     Клинер\n",
       "3      sidorov  Владивосток   43   Менеджер\n",
       "4      _______        Курск   50   Водитель\n",
       "6        Сажин       Сургут   29    Рабочий\n",
       "8   Завалишина    Чебоксары   36   Менеджер\n",
       "9       Левина          NaN   55    Рабочий\n",
       "10        Фикс         Рига   42    Рабочий"
      ]
     },
     "execution_count": 64,
     "metadata": {},
     "output_type": "execute_result"
    }
   ],
   "source": [
    "#противоположный датафрейм, то есть содержащий все значения, которые условию не удовлетворяют\n",
    "sample[~sample.Name.str.match(\"К\", na=False)]"
   ]
  },
  {
   "cell_type": "markdown",
   "metadata": {},
   "source": [
    "4.10.1. Задание \n",
    "Найдите записи, где в городах есть буква «о» и сохраните в переменную sample3. \n",
    "Функция contains не может работать с пустыми значениями: необходимо использовать параметр na = False"
   ]
  },
  {
   "cell_type": "code",
   "execution_count": 67,
   "metadata": {},
   "outputs": [],
   "source": [
    "sample3=sample[sample.City.str.contains(\"о\", na=False)]"
   ]
  },
  {
   "cell_type": "code",
   "execution_count": 68,
   "metadata": {},
   "outputs": [
    {
     "data": {
      "text/html": [
       "<div>\n",
       "<style scoped>\n",
       "    .dataframe tbody tr th:only-of-type {\n",
       "        vertical-align: middle;\n",
       "    }\n",
       "\n",
       "    .dataframe tbody tr th {\n",
       "        vertical-align: top;\n",
       "    }\n",
       "\n",
       "    .dataframe thead th {\n",
       "        text-align: right;\n",
       "    }\n",
       "</style>\n",
       "<table border=\"1\" class=\"dataframe\">\n",
       "  <thead>\n",
       "    <tr style=\"text-align: right;\">\n",
       "      <th></th>\n",
       "      <th>Name</th>\n",
       "      <th>City</th>\n",
       "      <th>Age</th>\n",
       "      <th>Profession</th>\n",
       "    </tr>\n",
       "  </thead>\n",
       "  <tbody>\n",
       "    <tr>\n",
       "      <th>0</th>\n",
       "      <td>Иванов</td>\n",
       "      <td>Москва</td>\n",
       "      <td>25</td>\n",
       "      <td>Клинер</td>\n",
       "    </tr>\n",
       "    <tr>\n",
       "      <th>1</th>\n",
       "      <td>NaN</td>\n",
       "      <td>Волгоград</td>\n",
       "      <td>31</td>\n",
       "      <td>Менеджер</td>\n",
       "    </tr>\n",
       "    <tr>\n",
       "      <th>2</th>\n",
       "      <td>Иванов</td>\n",
       "      <td>Москва</td>\n",
       "      <td>25</td>\n",
       "      <td>Клинер</td>\n",
       "    </tr>\n",
       "    <tr>\n",
       "      <th>3</th>\n",
       "      <td>sidorov</td>\n",
       "      <td>Владивосток</td>\n",
       "      <td>43</td>\n",
       "      <td>Менеджер</td>\n",
       "    </tr>\n",
       "    <tr>\n",
       "      <th>5</th>\n",
       "      <td>Кузнецов</td>\n",
       "      <td>Сочи</td>\n",
       "      <td>19</td>\n",
       "      <td>Рабочий</td>\n",
       "    </tr>\n",
       "    <tr>\n",
       "      <th>7</th>\n",
       "      <td>Котлеревский</td>\n",
       "      <td>Йошкар-Ола</td>\n",
       "      <td>32</td>\n",
       "      <td>Рабочий</td>\n",
       "    </tr>\n",
       "    <tr>\n",
       "      <th>8</th>\n",
       "      <td>Завалишина</td>\n",
       "      <td>Чебоксары</td>\n",
       "      <td>36</td>\n",
       "      <td>Менеджер</td>\n",
       "    </tr>\n",
       "  </tbody>\n",
       "</table>\n",
       "</div>"
      ],
      "text/plain": [
       "           Name         City  Age Profession\n",
       "0        Иванов       Москва   25     Клинер\n",
       "1           NaN    Волгоград   31   Менеджер\n",
       "2        Иванов       Москва   25     Клинер\n",
       "3       sidorov  Владивосток   43   Менеджер\n",
       "5      Кузнецов         Сочи   19    Рабочий\n",
       "7  Котлеревский   Йошкар-Ола   32    Рабочий\n",
       "8    Завалишина    Чебоксары   36   Менеджер"
      ]
     },
     "execution_count": 68,
     "metadata": {},
     "output_type": "execute_result"
    }
   ],
   "source": [
    "sample3"
   ]
  },
  {
   "cell_type": "markdown",
   "metadata": {},
   "source": [
    "4.10.2. Задание \n",
    "Найдите записи, где в городах нет буквы \"о\" и сохраните в переменную sample4. Не забудьте про NaN и параметр na: "
   ]
  },
  {
   "cell_type": "code",
   "execution_count": 69,
   "metadata": {},
   "outputs": [],
   "source": [
    "sample4=sample[~sample.City.str.contains(\"о\", na=False)]"
   ]
  },
  {
   "cell_type": "code",
   "execution_count": 70,
   "metadata": {},
   "outputs": [
    {
     "data": {
      "text/html": [
       "<div>\n",
       "<style scoped>\n",
       "    .dataframe tbody tr th:only-of-type {\n",
       "        vertical-align: middle;\n",
       "    }\n",
       "\n",
       "    .dataframe tbody tr th {\n",
       "        vertical-align: top;\n",
       "    }\n",
       "\n",
       "    .dataframe thead th {\n",
       "        text-align: right;\n",
       "    }\n",
       "</style>\n",
       "<table border=\"1\" class=\"dataframe\">\n",
       "  <thead>\n",
       "    <tr style=\"text-align: right;\">\n",
       "      <th></th>\n",
       "      <th>Name</th>\n",
       "      <th>City</th>\n",
       "      <th>Age</th>\n",
       "      <th>Profession</th>\n",
       "    </tr>\n",
       "  </thead>\n",
       "  <tbody>\n",
       "    <tr>\n",
       "      <th>4</th>\n",
       "      <td>_______</td>\n",
       "      <td>Курск</td>\n",
       "      <td>50</td>\n",
       "      <td>Водитель</td>\n",
       "    </tr>\n",
       "    <tr>\n",
       "      <th>6</th>\n",
       "      <td>Сажин</td>\n",
       "      <td>Сургут</td>\n",
       "      <td>29</td>\n",
       "      <td>Рабочий</td>\n",
       "    </tr>\n",
       "    <tr>\n",
       "      <th>9</th>\n",
       "      <td>Левина</td>\n",
       "      <td>NaN</td>\n",
       "      <td>55</td>\n",
       "      <td>Рабочий</td>\n",
       "    </tr>\n",
       "    <tr>\n",
       "      <th>10</th>\n",
       "      <td>Фикс</td>\n",
       "      <td>Рига</td>\n",
       "      <td>42</td>\n",
       "      <td>Рабочий</td>\n",
       "    </tr>\n",
       "  </tbody>\n",
       "</table>\n",
       "</div>"
      ],
      "text/plain": [
       "       Name    City  Age Profession\n",
       "4   _______   Курск   50   Водитель\n",
       "6     Сажин  Сургут   29    Рабочий\n",
       "9    Левина     NaN   55    Рабочий\n",
       "10     Фикс    Рига   42    Рабочий"
      ]
     },
     "execution_count": 70,
     "metadata": {},
     "output_type": "execute_result"
    }
   ],
   "source": [
    "sample4"
   ]
  },
  {
   "cell_type": "markdown",
   "metadata": {},
   "source": [
    "4.10.3. Задание \n",
    "Сохраните в переменную new_log датафрейм, из которого удалены записи с ошибкой в поле user_id:"
   ]
  },
  {
   "cell_type": "code",
   "execution_count": 71,
   "metadata": {},
   "outputs": [],
   "source": [
    "new_log=log[~log.user_id.str.contains(\"error\", na=False)]"
   ]
  },
  {
   "cell_type": "markdown",
   "metadata": {},
   "source": [
    "4.11 Преобразование данных"
   ]
  },
  {
   "cell_type": "code",
   "execution_count": 74,
   "metadata": {},
   "outputs": [
    {
     "data": {
      "text/plain": [
       "0      625\n",
       "1      961\n",
       "2      625\n",
       "3     1849\n",
       "4     2500\n",
       "5      361\n",
       "6      841\n",
       "7     1024\n",
       "8     1296\n",
       "9     3025\n",
       "10    1764\n",
       "Name: Age, dtype: int64"
      ]
     },
     "execution_count": 74,
     "metadata": {},
     "output_type": "execute_result"
    }
   ],
   "source": [
    "#Возведём возраст в sample в квадрат\n",
    "sample.Age.apply(lambda x:x**2)   #функция apply с функией в скобках типа лямбда"
   ]
  },
  {
   "cell_type": "code",
   "execution_count": 75,
   "metadata": {},
   "outputs": [
    {
     "data": {
      "text/plain": [
       "0      0\n",
       "1      0\n",
       "2      0\n",
       "3      0\n",
       "4      0\n",
       "5     19\n",
       "6      0\n",
       "7      0\n",
       "8      0\n",
       "9      0\n",
       "10     0\n",
       "Name: Age, dtype: int64"
      ]
     },
     "execution_count": 75,
     "metadata": {},
     "output_type": "execute_result"
    }
   ],
   "source": [
    "#Обнулим значения возраста для всех возрастов больше 19:\n",
    "def func(x):\n",
    "    if x<20:\n",
    "        return x\n",
    "    else:\n",
    "        return 0\n",
    "sample.Age.apply(func)"
   ]
  },
  {
   "cell_type": "markdown",
   "metadata": {},
   "source": [
    "4.11.1. Задание  \n",
    "С помощью apply и лямбда-функции увеличьте возраст во всех записях на 1 год и сохраните в sample2: "
   ]
  },
  {
   "cell_type": "code",
   "execution_count": 93,
   "metadata": {},
   "outputs": [],
   "source": [
    "sample['Age'] = [x+1 for x in sample['Age']]   #еще один способ замены значения через лямбду"
   ]
  },
  {
   "cell_type": "code",
   "execution_count": 120,
   "metadata": {},
   "outputs": [
    {
     "data": {
      "text/html": [
       "<div>\n",
       "<style scoped>\n",
       "    .dataframe tbody tr th:only-of-type {\n",
       "        vertical-align: middle;\n",
       "    }\n",
       "\n",
       "    .dataframe tbody tr th {\n",
       "        vertical-align: top;\n",
       "    }\n",
       "\n",
       "    .dataframe thead th {\n",
       "        text-align: right;\n",
       "    }\n",
       "</style>\n",
       "<table border=\"1\" class=\"dataframe\">\n",
       "  <thead>\n",
       "    <tr style=\"text-align: right;\">\n",
       "      <th></th>\n",
       "      <th>Name</th>\n",
       "      <th>City</th>\n",
       "      <th>Age</th>\n",
       "      <th>Profession</th>\n",
       "    </tr>\n",
       "  </thead>\n",
       "  <tbody>\n",
       "    <tr>\n",
       "      <th>0</th>\n",
       "      <td>Иванов</td>\n",
       "      <td>Москва</td>\n",
       "      <td>26</td>\n",
       "      <td>Клинер</td>\n",
       "    </tr>\n",
       "    <tr>\n",
       "      <th>1</th>\n",
       "      <td>NaN</td>\n",
       "      <td>Волгоград</td>\n",
       "      <td>32</td>\n",
       "      <td>Менеджер</td>\n",
       "    </tr>\n",
       "  </tbody>\n",
       "</table>\n",
       "</div>"
      ],
      "text/plain": [
       "     Name       City  Age Profession\n",
       "0  Иванов     Москва   26     Клинер\n",
       "1     NaN  Волгоград   32   Менеджер"
      ]
     },
     "execution_count": 120,
     "metadata": {},
     "output_type": "execute_result"
    }
   ],
   "source": [
    "sample = pd.read_csv('sample.xls')\n",
    "sample2=sample\n",
    "sample2.Age=sample2.Age.apply(lambda x:x+1)\n",
    "sample2.head(2)\n"
   ]
  },
  {
   "cell_type": "markdown",
   "metadata": {},
   "source": [
    "4.11.2. Задание \n",
    "С помощью apply и lambda-функции замените все буквы в поле City на маленькие и сохраните в sample2. Вам может понадобится функция s.lower()\n",
    "\n",
    "Обратите внимание: когда в столбце есть пропущенные значения, необходимо в явном виде указывать, что это str: str(s).lower()"
   ]
  },
  {
   "cell_type": "code",
   "execution_count": 122,
   "metadata": {},
   "outputs": [
    {
     "data": {
      "text/html": [
       "<div>\n",
       "<style scoped>\n",
       "    .dataframe tbody tr th:only-of-type {\n",
       "        vertical-align: middle;\n",
       "    }\n",
       "\n",
       "    .dataframe tbody tr th {\n",
       "        vertical-align: top;\n",
       "    }\n",
       "\n",
       "    .dataframe thead th {\n",
       "        text-align: right;\n",
       "    }\n",
       "</style>\n",
       "<table border=\"1\" class=\"dataframe\">\n",
       "  <thead>\n",
       "    <tr style=\"text-align: right;\">\n",
       "      <th></th>\n",
       "      <th>Name</th>\n",
       "      <th>City</th>\n",
       "      <th>Age</th>\n",
       "      <th>Profession</th>\n",
       "    </tr>\n",
       "  </thead>\n",
       "  <tbody>\n",
       "    <tr>\n",
       "      <th>0</th>\n",
       "      <td>Иванов</td>\n",
       "      <td>москва</td>\n",
       "      <td>25</td>\n",
       "      <td>Клинер</td>\n",
       "    </tr>\n",
       "    <tr>\n",
       "      <th>1</th>\n",
       "      <td>NaN</td>\n",
       "      <td>волгоград</td>\n",
       "      <td>31</td>\n",
       "      <td>Менеджер</td>\n",
       "    </tr>\n",
       "    <tr>\n",
       "      <th>2</th>\n",
       "      <td>Иванов</td>\n",
       "      <td>москва</td>\n",
       "      <td>25</td>\n",
       "      <td>Клинер</td>\n",
       "    </tr>\n",
       "    <tr>\n",
       "      <th>3</th>\n",
       "      <td>sidorov</td>\n",
       "      <td>владивосток</td>\n",
       "      <td>43</td>\n",
       "      <td>Менеджер</td>\n",
       "    </tr>\n",
       "    <tr>\n",
       "      <th>4</th>\n",
       "      <td>_______</td>\n",
       "      <td>курск</td>\n",
       "      <td>50</td>\n",
       "      <td>Водитель</td>\n",
       "    </tr>\n",
       "    <tr>\n",
       "      <th>5</th>\n",
       "      <td>Кузнецов</td>\n",
       "      <td>сочи</td>\n",
       "      <td>19</td>\n",
       "      <td>Рабочий</td>\n",
       "    </tr>\n",
       "    <tr>\n",
       "      <th>6</th>\n",
       "      <td>Сажин</td>\n",
       "      <td>сургут</td>\n",
       "      <td>29</td>\n",
       "      <td>Рабочий</td>\n",
       "    </tr>\n",
       "    <tr>\n",
       "      <th>7</th>\n",
       "      <td>Котлеревский</td>\n",
       "      <td>йошкар-ола</td>\n",
       "      <td>32</td>\n",
       "      <td>Рабочий</td>\n",
       "    </tr>\n",
       "    <tr>\n",
       "      <th>8</th>\n",
       "      <td>Завалишина</td>\n",
       "      <td>чебоксары</td>\n",
       "      <td>36</td>\n",
       "      <td>Менеджер</td>\n",
       "    </tr>\n",
       "    <tr>\n",
       "      <th>9</th>\n",
       "      <td>Левина</td>\n",
       "      <td>nan</td>\n",
       "      <td>55</td>\n",
       "      <td>Рабочий</td>\n",
       "    </tr>\n",
       "    <tr>\n",
       "      <th>10</th>\n",
       "      <td>Фикс</td>\n",
       "      <td>рига</td>\n",
       "      <td>42</td>\n",
       "      <td>Рабочий</td>\n",
       "    </tr>\n",
       "  </tbody>\n",
       "</table>\n",
       "</div>"
      ],
      "text/plain": [
       "            Name         City  Age Profession\n",
       "0         Иванов       москва   25     Клинер\n",
       "1            NaN    волгоград   31   Менеджер\n",
       "2         Иванов       москва   25     Клинер\n",
       "3        sidorov  владивосток   43   Менеджер\n",
       "4        _______        курск   50   Водитель\n",
       "5       Кузнецов         сочи   19    Рабочий\n",
       "6          Сажин       сургут   29    Рабочий\n",
       "7   Котлеревский   йошкар-ола   32    Рабочий\n",
       "8     Завалишина    чебоксары   36   Менеджер\n",
       "9         Левина          nan   55    Рабочий\n",
       "10          Фикс         рига   42    Рабочий"
      ]
     },
     "execution_count": 122,
     "metadata": {},
     "output_type": "execute_result"
    }
   ],
   "source": [
    "sample = pd.read_csv('sample.xls')\n",
    "sample2=sample\n",
    "sample2.City=sample2.City.apply(lambda x:str(x).lower())\n",
    "sample2"
   ]
  },
  {
   "cell_type": "markdown",
   "metadata": {},
   "source": [
    "4.11.3. Задание  \n",
    "Напишите функцию profession_code, которая на вход получает строку, а на выход возвращает: \n",
    "0 — если на вход поступила строка \"Рабочий\"\n",
    "1 — если на вход поступила строка \"Менеджер\"\n",
    "2 — в любом другом случае\n",
    "сохраним в sample2"
   ]
  },
  {
   "cell_type": "code",
   "execution_count": 126,
   "metadata": {},
   "outputs": [
    {
     "data": {
      "text/html": [
       "<div>\n",
       "<style scoped>\n",
       "    .dataframe tbody tr th:only-of-type {\n",
       "        vertical-align: middle;\n",
       "    }\n",
       "\n",
       "    .dataframe tbody tr th {\n",
       "        vertical-align: top;\n",
       "    }\n",
       "\n",
       "    .dataframe thead th {\n",
       "        text-align: right;\n",
       "    }\n",
       "</style>\n",
       "<table border=\"1\" class=\"dataframe\">\n",
       "  <thead>\n",
       "    <tr style=\"text-align: right;\">\n",
       "      <th></th>\n",
       "      <th>Name</th>\n",
       "      <th>City</th>\n",
       "      <th>Age</th>\n",
       "      <th>Profession</th>\n",
       "    </tr>\n",
       "  </thead>\n",
       "  <tbody>\n",
       "    <tr>\n",
       "      <th>0</th>\n",
       "      <td>Иванов</td>\n",
       "      <td>Москва</td>\n",
       "      <td>25</td>\n",
       "      <td>2</td>\n",
       "    </tr>\n",
       "    <tr>\n",
       "      <th>1</th>\n",
       "      <td>NaN</td>\n",
       "      <td>Волгоград</td>\n",
       "      <td>31</td>\n",
       "      <td>1</td>\n",
       "    </tr>\n",
       "    <tr>\n",
       "      <th>2</th>\n",
       "      <td>Иванов</td>\n",
       "      <td>Москва</td>\n",
       "      <td>25</td>\n",
       "      <td>2</td>\n",
       "    </tr>\n",
       "    <tr>\n",
       "      <th>3</th>\n",
       "      <td>sidorov</td>\n",
       "      <td>Владивосток</td>\n",
       "      <td>43</td>\n",
       "      <td>1</td>\n",
       "    </tr>\n",
       "    <tr>\n",
       "      <th>4</th>\n",
       "      <td>_______</td>\n",
       "      <td>Курск</td>\n",
       "      <td>50</td>\n",
       "      <td>2</td>\n",
       "    </tr>\n",
       "    <tr>\n",
       "      <th>5</th>\n",
       "      <td>Кузнецов</td>\n",
       "      <td>Сочи</td>\n",
       "      <td>19</td>\n",
       "      <td>0</td>\n",
       "    </tr>\n",
       "    <tr>\n",
       "      <th>6</th>\n",
       "      <td>Сажин</td>\n",
       "      <td>Сургут</td>\n",
       "      <td>29</td>\n",
       "      <td>0</td>\n",
       "    </tr>\n",
       "    <tr>\n",
       "      <th>7</th>\n",
       "      <td>Котлеревский</td>\n",
       "      <td>Йошкар-Ола</td>\n",
       "      <td>32</td>\n",
       "      <td>0</td>\n",
       "    </tr>\n",
       "    <tr>\n",
       "      <th>8</th>\n",
       "      <td>Завалишина</td>\n",
       "      <td>Чебоксары</td>\n",
       "      <td>36</td>\n",
       "      <td>1</td>\n",
       "    </tr>\n",
       "    <tr>\n",
       "      <th>9</th>\n",
       "      <td>Левина</td>\n",
       "      <td>NaN</td>\n",
       "      <td>55</td>\n",
       "      <td>0</td>\n",
       "    </tr>\n",
       "    <tr>\n",
       "      <th>10</th>\n",
       "      <td>Фикс</td>\n",
       "      <td>Рига</td>\n",
       "      <td>42</td>\n",
       "      <td>0</td>\n",
       "    </tr>\n",
       "  </tbody>\n",
       "</table>\n",
       "</div>"
      ],
      "text/plain": [
       "            Name         City  Age  Profession\n",
       "0         Иванов       Москва   25           2\n",
       "1            NaN    Волгоград   31           1\n",
       "2         Иванов       Москва   25           2\n",
       "3        sidorov  Владивосток   43           1\n",
       "4        _______        Курск   50           2\n",
       "5       Кузнецов         Сочи   19           0\n",
       "6          Сажин       Сургут   29           0\n",
       "7   Котлеревский   Йошкар-Ола   32           0\n",
       "8     Завалишина    Чебоксары   36           1\n",
       "9         Левина          NaN   55           0\n",
       "10          Фикс         Рига   42           0"
      ]
     },
     "execution_count": 126,
     "metadata": {},
     "output_type": "execute_result"
    }
   ],
   "source": [
    "sample = pd.read_csv('sample.xls')\n",
    "sample2=sample\n",
    "def profession_code(s):\n",
    "    if s==\"Рабочий\":\n",
    "        return 0\n",
    "    elif s==\"Менеджер\":\n",
    "        return 1\n",
    "    else:\n",
    "        return 2\n",
    "sample2.Profession=sample2.Profession.apply(profession_code)\n",
    "sample2"
   ]
  },
  {
   "cell_type": "markdown",
   "metadata": {},
   "source": [
    "4.11.5. Задание \n",
    "Напишите функцию age_category, которая на вход получает число, а на выход отдаёт: \n",
    "\"молодой\" — если возраст меньше 23\n",
    "\"средний\" — если возраст от 23 до 35\n",
    "\"зрелый\" — если возраст больше 35"
   ]
  },
  {
   "cell_type": "markdown",
   "metadata": {},
   "source": [
    "4.11.6. Задание  \n",
    "Примените функцию age_category и apply, чтобы создать новую колонку в sample под названием 'Age_category'. \n",
    "Вспомним, как создать новую колонку: df['new_column'] = df.old_column.apply(func)"
   ]
  },
  {
   "cell_type": "code",
   "execution_count": 131,
   "metadata": {},
   "outputs": [
    {
     "data": {
      "text/html": [
       "<div>\n",
       "<style scoped>\n",
       "    .dataframe tbody tr th:only-of-type {\n",
       "        vertical-align: middle;\n",
       "    }\n",
       "\n",
       "    .dataframe tbody tr th {\n",
       "        vertical-align: top;\n",
       "    }\n",
       "\n",
       "    .dataframe thead th {\n",
       "        text-align: right;\n",
       "    }\n",
       "</style>\n",
       "<table border=\"1\" class=\"dataframe\">\n",
       "  <thead>\n",
       "    <tr style=\"text-align: right;\">\n",
       "      <th></th>\n",
       "      <th>Name</th>\n",
       "      <th>City</th>\n",
       "      <th>Age</th>\n",
       "      <th>Profession</th>\n",
       "      <th>Age_category</th>\n",
       "    </tr>\n",
       "  </thead>\n",
       "  <tbody>\n",
       "    <tr>\n",
       "      <th>0</th>\n",
       "      <td>Иванов</td>\n",
       "      <td>Москва</td>\n",
       "      <td>25</td>\n",
       "      <td>Клинер</td>\n",
       "      <td>средний</td>\n",
       "    </tr>\n",
       "    <tr>\n",
       "      <th>1</th>\n",
       "      <td>NaN</td>\n",
       "      <td>Волгоград</td>\n",
       "      <td>31</td>\n",
       "      <td>Менеджер</td>\n",
       "      <td>средний</td>\n",
       "    </tr>\n",
       "    <tr>\n",
       "      <th>2</th>\n",
       "      <td>Иванов</td>\n",
       "      <td>Москва</td>\n",
       "      <td>25</td>\n",
       "      <td>Клинер</td>\n",
       "      <td>средний</td>\n",
       "    </tr>\n",
       "    <tr>\n",
       "      <th>3</th>\n",
       "      <td>sidorov</td>\n",
       "      <td>Владивосток</td>\n",
       "      <td>43</td>\n",
       "      <td>Менеджер</td>\n",
       "      <td>зрелый</td>\n",
       "    </tr>\n",
       "    <tr>\n",
       "      <th>4</th>\n",
       "      <td>_______</td>\n",
       "      <td>Курск</td>\n",
       "      <td>50</td>\n",
       "      <td>Водитель</td>\n",
       "      <td>зрелый</td>\n",
       "    </tr>\n",
       "    <tr>\n",
       "      <th>5</th>\n",
       "      <td>Кузнецов</td>\n",
       "      <td>Сочи</td>\n",
       "      <td>19</td>\n",
       "      <td>Рабочий</td>\n",
       "      <td>молодой</td>\n",
       "    </tr>\n",
       "    <tr>\n",
       "      <th>6</th>\n",
       "      <td>Сажин</td>\n",
       "      <td>Сургут</td>\n",
       "      <td>29</td>\n",
       "      <td>Рабочий</td>\n",
       "      <td>средний</td>\n",
       "    </tr>\n",
       "    <tr>\n",
       "      <th>7</th>\n",
       "      <td>Котлеревский</td>\n",
       "      <td>Йошкар-Ола</td>\n",
       "      <td>32</td>\n",
       "      <td>Рабочий</td>\n",
       "      <td>средний</td>\n",
       "    </tr>\n",
       "    <tr>\n",
       "      <th>8</th>\n",
       "      <td>Завалишина</td>\n",
       "      <td>Чебоксары</td>\n",
       "      <td>36</td>\n",
       "      <td>Менеджер</td>\n",
       "      <td>зрелый</td>\n",
       "    </tr>\n",
       "    <tr>\n",
       "      <th>9</th>\n",
       "      <td>Левина</td>\n",
       "      <td>NaN</td>\n",
       "      <td>55</td>\n",
       "      <td>Рабочий</td>\n",
       "      <td>зрелый</td>\n",
       "    </tr>\n",
       "    <tr>\n",
       "      <th>10</th>\n",
       "      <td>Фикс</td>\n",
       "      <td>Рига</td>\n",
       "      <td>42</td>\n",
       "      <td>Рабочий</td>\n",
       "      <td>зрелый</td>\n",
       "    </tr>\n",
       "  </tbody>\n",
       "</table>\n",
       "</div>"
      ],
      "text/plain": [
       "            Name         City  Age Profession Age_category\n",
       "0         Иванов       Москва   25     Клинер      средний\n",
       "1            NaN    Волгоград   31   Менеджер      средний\n",
       "2         Иванов       Москва   25     Клинер      средний\n",
       "3        sidorov  Владивосток   43   Менеджер       зрелый\n",
       "4        _______        Курск   50   Водитель       зрелый\n",
       "5       Кузнецов         Сочи   19    Рабочий      молодой\n",
       "6          Сажин       Сургут   29    Рабочий      средний\n",
       "7   Котлеревский   Йошкар-Ола   32    Рабочий      средний\n",
       "8     Завалишина    Чебоксары   36   Менеджер       зрелый\n",
       "9         Левина          NaN   55    Рабочий       зрелый\n",
       "10          Фикс         Рига   42    Рабочий       зрелый"
      ]
     },
     "execution_count": 131,
     "metadata": {},
     "output_type": "execute_result"
    }
   ],
   "source": [
    "sample = pd.read_csv('sample.xls')\n",
    "sample2=sample\n",
    "def age_category(age):\n",
    "    if age<23:\n",
    "        return \"молодой\"\n",
    "    elif 35>age>23:\n",
    "        return \"средний\"\n",
    "    elif 35<age:\n",
    "        return \"зрелый\"\n",
    "sample2['Age_category']=sample2.Age.apply(age_category)\n",
    "sample2"
   ]
  },
  {
   "cell_type": "markdown",
   "metadata": {},
   "source": [
    "4.11.7. Задание \n",
    "Преобразуем поле user_id в датафрейме log, оставив только идентификатор пользователя. Например, вместо \"Запись пользователя № — user_974\" должно остаться только \"user_974\"\n",
    "На месте записей с ошибками в user_id должна быть пустая строка \"\". Сделайте это через apply и новую функцию, которую вы создадите. Результат сохраните в log:"
   ]
  },
  {
   "cell_type": "code",
   "execution_count": 133,
   "metadata": {},
   "outputs": [
    {
     "data": {
      "text/html": [
       "<div>\n",
       "<style scoped>\n",
       "    .dataframe tbody tr th:only-of-type {\n",
       "        vertical-align: middle;\n",
       "    }\n",
       "\n",
       "    .dataframe tbody tr th {\n",
       "        vertical-align: top;\n",
       "    }\n",
       "\n",
       "    .dataframe thead th {\n",
       "        text-align: right;\n",
       "    }\n",
       "</style>\n",
       "<table border=\"1\" class=\"dataframe\">\n",
       "  <thead>\n",
       "    <tr style=\"text-align: right;\">\n",
       "      <th></th>\n",
       "      <th>user_id</th>\n",
       "      <th>time</th>\n",
       "      <th>bet</th>\n",
       "      <th>win</th>\n",
       "    </tr>\n",
       "  </thead>\n",
       "  <tbody>\n",
       "    <tr>\n",
       "      <th>0</th>\n",
       "      <td>Запись пользователя № - user_919</td>\n",
       "      <td>[2019-01-01 14:06:51</td>\n",
       "      <td>NaN</td>\n",
       "      <td>NaN</td>\n",
       "    </tr>\n",
       "    <tr>\n",
       "      <th>1</th>\n",
       "      <td>Запись пользователя № - user_973</td>\n",
       "      <td>[2019-01-01 14:51:16</td>\n",
       "      <td>NaN</td>\n",
       "      <td>NaN</td>\n",
       "    </tr>\n",
       "  </tbody>\n",
       "</table>\n",
       "</div>"
      ],
      "text/plain": [
       "                            user_id                  time  bet  win\n",
       "0  Запись пользователя № - user_919  [2019-01-01 14:06:51  NaN  NaN\n",
       "1  Запись пользователя № - user_973  [2019-01-01 14:51:16  NaN  NaN"
      ]
     },
     "execution_count": 133,
     "metadata": {},
     "output_type": "execute_result"
    }
   ],
   "source": [
    "log.head(2)"
   ]
  },
  {
   "cell_type": "code",
   "execution_count": 138,
   "metadata": {},
   "outputs": [],
   "source": [
    "log.user_id=log.user_id.apply(lambda x:str(x)[24:])"
   ]
  },
  {
   "cell_type": "code",
   "execution_count": 140,
   "metadata": {},
   "outputs": [
    {
     "data": {
      "text/html": [
       "<div>\n",
       "<style scoped>\n",
       "    .dataframe tbody tr th:only-of-type {\n",
       "        vertical-align: middle;\n",
       "    }\n",
       "\n",
       "    .dataframe tbody tr th {\n",
       "        vertical-align: top;\n",
       "    }\n",
       "\n",
       "    .dataframe thead th {\n",
       "        text-align: right;\n",
       "    }\n",
       "</style>\n",
       "<table border=\"1\" class=\"dataframe\">\n",
       "  <thead>\n",
       "    <tr style=\"text-align: right;\">\n",
       "      <th></th>\n",
       "      <th>user_id</th>\n",
       "      <th>time</th>\n",
       "      <th>bet</th>\n",
       "      <th>win</th>\n",
       "    </tr>\n",
       "  </thead>\n",
       "  <tbody>\n",
       "    <tr>\n",
       "      <th>0</th>\n",
       "      <td>user_919</td>\n",
       "      <td>[2019-01-01 14:06:51</td>\n",
       "      <td>NaN</td>\n",
       "      <td>NaN</td>\n",
       "    </tr>\n",
       "    <tr>\n",
       "      <th>1</th>\n",
       "      <td>user_973</td>\n",
       "      <td>[2019-01-01 14:51:16</td>\n",
       "      <td>NaN</td>\n",
       "      <td>NaN</td>\n",
       "    </tr>\n",
       "  </tbody>\n",
       "</table>\n",
       "</div>"
      ],
      "text/plain": [
       "    user_id                  time  bet  win\n",
       "0  user_919  [2019-01-01 14:06:51  NaN  NaN\n",
       "1  user_973  [2019-01-01 14:51:16  NaN  NaN"
      ]
     },
     "execution_count": 140,
     "metadata": {},
     "output_type": "execute_result"
    }
   ],
   "source": [
    "log.head(2)"
   ]
  },
  {
   "cell_type": "markdown",
   "metadata": {},
   "source": [
    "4.11.8. Задание \n",
    "Загрузите log.csv в log, удалите квадратную скобку из первой строчки в столбце time, чтобы привести его к более привычному формату.\n",
    "t равен log.time[0]\n",
    "Сохраните результат в t."
   ]
  },
  {
   "cell_type": "code",
   "execution_count": 143,
   "metadata": {},
   "outputs": [
    {
     "data": {
      "text/plain": [
       "'2019-01-01 14:06:51'"
      ]
     },
     "execution_count": 143,
     "metadata": {},
     "output_type": "execute_result"
    }
   ],
   "source": [
    "log = pd.read_csv('log.xls', header=None)\n",
    "log.columns = ['user_id','time','bet','win']\n",
    "t = log.time[0]\n",
    "t=str(t)[1:]\n",
    "t"
   ]
  },
  {
   "cell_type": "markdown",
   "metadata": {},
   "source": [
    "4.11.9. Задание \n",
    "Уберём ненужную скобку квадратную скобку из поля в time.\n",
    "Результат сохраните в log: "
   ]
  },
  {
   "cell_type": "code",
   "execution_count": 154,
   "metadata": {},
   "outputs": [],
   "source": [
    "log = pd.read_csv('log.xls', header=None)\n",
    "log.columns = ['user_id','time','bet','win']\n",
    "def new_time(s):\n",
    "    if type(s)==str:\n",
    "        return s[1:]\n",
    "    elif type(s)==float:      # NaN это тип float\n",
    "        return None\n",
    "log.time=log.time.apply(new_time)"
   ]
  },
  {
   "cell_type": "code",
   "execution_count": 156,
   "metadata": {},
   "outputs": [
    {
     "data": {
      "text/html": [
       "<div>\n",
       "<style scoped>\n",
       "    .dataframe tbody tr th:only-of-type {\n",
       "        vertical-align: middle;\n",
       "    }\n",
       "\n",
       "    .dataframe tbody tr th {\n",
       "        vertical-align: top;\n",
       "    }\n",
       "\n",
       "    .dataframe thead th {\n",
       "        text-align: right;\n",
       "    }\n",
       "</style>\n",
       "<table border=\"1\" class=\"dataframe\">\n",
       "  <thead>\n",
       "    <tr style=\"text-align: right;\">\n",
       "      <th></th>\n",
       "      <th>user_id</th>\n",
       "      <th>time</th>\n",
       "      <th>bet</th>\n",
       "      <th>win</th>\n",
       "    </tr>\n",
       "  </thead>\n",
       "  <tbody>\n",
       "    <tr>\n",
       "      <th>995</th>\n",
       "      <td>Запись пользователя № - user_984</td>\n",
       "      <td>2019-04-20 9:59:58</td>\n",
       "      <td>9754.0</td>\n",
       "      <td>NaN</td>\n",
       "    </tr>\n",
       "    <tr>\n",
       "      <th>996</th>\n",
       "      <td>#error</td>\n",
       "      <td>None</td>\n",
       "      <td>10054.0</td>\n",
       "      <td>29265.0</td>\n",
       "    </tr>\n",
       "    <tr>\n",
       "      <th>997</th>\n",
       "      <td>#error</td>\n",
       "      <td>None</td>\n",
       "      <td>10454.0</td>\n",
       "      <td>NaN</td>\n",
       "    </tr>\n",
       "    <tr>\n",
       "      <th>998</th>\n",
       "      <td>#error</td>\n",
       "      <td>None</td>\n",
       "      <td>1000.0</td>\n",
       "      <td>NaN</td>\n",
       "    </tr>\n",
       "    <tr>\n",
       "      <th>999</th>\n",
       "      <td>#error</td>\n",
       "      <td>None</td>\n",
       "      <td>10754.0</td>\n",
       "      <td>NaN</td>\n",
       "    </tr>\n",
       "  </tbody>\n",
       "</table>\n",
       "</div>"
      ],
      "text/plain": [
       "                              user_id                time      bet      win\n",
       "995  Запись пользователя № - user_984  2019-04-20 9:59:58   9754.0      NaN\n",
       "996                            #error                None  10054.0  29265.0\n",
       "997                            #error                None  10454.0      NaN\n",
       "998                            #error                None   1000.0      NaN\n",
       "999                            #error                None  10754.0      NaN"
      ]
     },
     "execution_count": 156,
     "metadata": {},
     "output_type": "execute_result"
    }
   ],
   "source": [
    "log.tail()"
   ]
  },
  {
   "cell_type": "markdown",
   "metadata": {},
   "source": [
    "4.12 Финальное задание\n",
    "Соединим всё, что мы делали, и очистим файл log.csv. А именно: \n",
    "Прочитаем файл в переменную log.\n",
    "Добавим названия колонок user_id, time, bet, win.\n",
    "Удалим значения user_id с ошибками.\n",
    "Оставим в user_id только значения идентификатора.\n",
    "Уберём начальную скобку из поля time."
   ]
  },
  {
   "cell_type": "code",
   "execution_count": 164,
   "metadata": {},
   "outputs": [],
   "source": [
    "log = pd.read_csv('log.xls', header=None)\n",
    "log.columns = ['user_id','time','bet','win']\n",
    "log=log[~log.user_id.str.contains(\"error\", na=False)]\n",
    "log.user_id=log.user_id.apply(lambda x:str(x)[24:])\n",
    "def new_time(s):\n",
    "    if type(s)==str:\n",
    "        return s[1:]\n",
    "    elif type(s)==float:      # NaN это тип float\n",
    "        return None\n",
    "log.time=log.time.apply(new_time)"
   ]
  },
  {
   "cell_type": "code",
   "execution_count": 167,
   "metadata": {
    "scrolled": false
   },
   "outputs": [
    {
     "data": {
      "text/html": [
       "<div>\n",
       "<style scoped>\n",
       "    .dataframe tbody tr th:only-of-type {\n",
       "        vertical-align: middle;\n",
       "    }\n",
       "\n",
       "    .dataframe tbody tr th {\n",
       "        vertical-align: top;\n",
       "    }\n",
       "\n",
       "    .dataframe thead th {\n",
       "        text-align: right;\n",
       "    }\n",
       "</style>\n",
       "<table border=\"1\" class=\"dataframe\">\n",
       "  <thead>\n",
       "    <tr style=\"text-align: right;\">\n",
       "      <th></th>\n",
       "      <th>user_id</th>\n",
       "      <th>time</th>\n",
       "      <th>bet</th>\n",
       "      <th>win</th>\n",
       "    </tr>\n",
       "  </thead>\n",
       "  <tbody>\n",
       "    <tr>\n",
       "      <th>991</th>\n",
       "      <td>user_965</td>\n",
       "      <td>2019-04-20 12:55:41</td>\n",
       "      <td>800.0</td>\n",
       "      <td>6927.0</td>\n",
       "    </tr>\n",
       "    <tr>\n",
       "      <th>992</th>\n",
       "      <td>user_967</td>\n",
       "      <td>2019-04-20 14:59:36</td>\n",
       "      <td>10154.0</td>\n",
       "      <td>NaN</td>\n",
       "    </tr>\n",
       "    <tr>\n",
       "      <th>993</th>\n",
       "      <td>user_973</td>\n",
       "      <td>2019-04-20 17:09:56</td>\n",
       "      <td>10254.0</td>\n",
       "      <td>NaN</td>\n",
       "    </tr>\n",
       "    <tr>\n",
       "      <th>994</th>\n",
       "      <td>user_977</td>\n",
       "      <td>2019-04-20 18:10:07</td>\n",
       "      <td>10354.0</td>\n",
       "      <td>NaN</td>\n",
       "    </tr>\n",
       "    <tr>\n",
       "      <th>995</th>\n",
       "      <td>user_984</td>\n",
       "      <td>2019-04-20 9:59:58</td>\n",
       "      <td>9754.0</td>\n",
       "      <td>NaN</td>\n",
       "    </tr>\n",
       "  </tbody>\n",
       "</table>\n",
       "</div>"
      ],
      "text/plain": [
       "      user_id                 time      bet     win\n",
       "991  user_965  2019-04-20 12:55:41    800.0  6927.0\n",
       "992  user_967  2019-04-20 14:59:36  10154.0     NaN\n",
       "993  user_973  2019-04-20 17:09:56  10254.0     NaN\n",
       "994  user_977  2019-04-20 18:10:07  10354.0     NaN\n",
       "995  user_984   2019-04-20 9:59:58   9754.0     NaN"
      ]
     },
     "execution_count": 167,
     "metadata": {},
     "output_type": "execute_result"
    }
   ],
   "source": [
    "log.tail()"
   ]
  }
 ],
 "metadata": {
  "kernelspec": {
   "display_name": "Python 3",
   "language": "python",
   "name": "python3"
  },
  "language_info": {
   "codemirror_mode": {
    "name": "ipython",
    "version": 3
   },
   "file_extension": ".py",
   "mimetype": "text/x-python",
   "name": "python",
   "nbconvert_exporter": "python",
   "pygments_lexer": "ipython3",
   "version": "3.7.3"
  }
 },
 "nbformat": 4,
 "nbformat_minor": 2
}
