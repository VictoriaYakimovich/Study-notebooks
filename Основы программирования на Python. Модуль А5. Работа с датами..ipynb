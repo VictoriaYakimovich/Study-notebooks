{
 "cells": [
  {
   "cell_type": "code",
   "execution_count": 2,
   "metadata": {},
   "outputs": [
    {
     "data": {
      "text/plain": [
       "datetime.datetime(2019, 5, 5, 21, 0)"
      ]
     },
     "execution_count": 2,
     "metadata": {},
     "output_type": "execute_result"
    }
   ],
   "source": [
    "from datetime import datetime, timedelta\n",
    "\n",
    "date_string = '05.05.2019 21:00'\n",
    "dt = datetime.strptime(date_string, '%d.%m.%Y %H:%M')     # метод strptime\n",
    "dt"
   ]
  },
  {
   "cell_type": "code",
   "execution_count": 3,
   "metadata": {},
   "outputs": [
    {
     "data": {
      "text/plain": [
       "21"
      ]
     },
     "execution_count": 3,
     "metadata": {},
     "output_type": "execute_result"
    }
   ],
   "source": [
    "dt.hour"
   ]
  },
  {
   "cell_type": "code",
   "execution_count": 4,
   "metadata": {},
   "outputs": [
    {
     "data": {
      "text/plain": [
       "5"
      ]
     },
     "execution_count": 4,
     "metadata": {},
     "output_type": "execute_result"
    }
   ],
   "source": [
    "dt.month"
   ]
  },
  {
   "cell_type": "code",
   "execution_count": 7,
   "metadata": {},
   "outputs": [
    {
     "data": {
      "text/plain": [
       "'2019-05-05'"
      ]
     },
     "execution_count": 7,
     "metadata": {},
     "output_type": "execute_result"
    }
   ],
   "source": [
    "dt = datetime(2019, 5, 5, 21, 0)\n",
    "dt.strftime('%Y-%m-%d')                                   # метод strftime"
   ]
  },
  {
   "cell_type": "code",
   "execution_count": 8,
   "metadata": {},
   "outputs": [
    {
     "data": {
      "text/plain": [
       "'2019-04-01'"
      ]
     },
     "execution_count": 8,
     "metadata": {},
     "output_type": "execute_result"
    }
   ],
   "source": [
    "dt = datetime(2019, 4, 1, 18, 59, 44)\n",
    "dt.strftime('%Y-%m-%d')  "
   ]
  },
  {
   "cell_type": "markdown",
   "metadata": {},
   "source": [
    "Задание 1 \n",
    "Дана строка с датой date_string = '2019-07-07T18:59:33'.\n",
    "Преобразуйте её в строку с форматом %d.%m.%Y. Результат запишите в переменную date_format:"
   ]
  },
  {
   "cell_type": "code",
   "execution_count": 16,
   "metadata": {},
   "outputs": [],
   "source": [
    "from datetime import datetime, timedelta\n",
    "\n",
    "date_string = '2019-07-07T18:59:33'\n",
    "dt = datetime.strptime(date_string, '%Y-%m-%dT%H:%M:%S')    \n",
    "date_format=dt.strftime('%d.%m.%Y') "
   ]
  },
  {
   "cell_type": "code",
   "execution_count": 17,
   "metadata": {},
   "outputs": [
    {
     "name": "stdout",
     "output_type": "stream",
     "text": [
      "07.07.2019\n"
     ]
    }
   ],
   "source": [
    "from datetime import datetime, timedelta\n",
    "\n",
    "date_string = '2019-07-07T18:59:33'\n",
    "print((datetime.strptime(date_string, '%Y-%m-%dT%H:%M:%S')).strftime('%d.%m.%Y'))"
   ]
  },
  {
   "cell_type": "markdown",
   "metadata": {},
   "source": [
    "Задание 2 \n",
    "У вас есть список запуска отчёта по расписанию:\n",
    "dt_list = ['2019-07-07T18:59:06', '2019-07-07T19:00:02', '2019-07-07T19:01:04']\n",
    "Переведите эти значения из строк в формат datetime и запишите результат в переменную datetime_list. В переменной datetime_list должен быть список элементов вида datetime(2019, 7, 7, 18, 59, 6)"
   ]
  },
  {
   "cell_type": "code",
   "execution_count": 18,
   "metadata": {},
   "outputs": [
    {
     "name": "stdout",
     "output_type": "stream",
     "text": [
      "[datetime.datetime(2019, 7, 7, 18, 59, 6), datetime.datetime(2019, 7, 7, 19, 0, 2), datetime.datetime(2019, 7, 7, 19, 1, 4)]\n"
     ]
    }
   ],
   "source": [
    "from datetime import datetime, timedelta\n",
    "\n",
    "dt_list = ['2019-07-07T18:59:06', '2019-07-07T19:00:02', '2019-07-07T19:01:04']\n",
    "datetime_list=[]\n",
    "for date_string in dt_list:\n",
    "    datetime_list.append(datetime.strptime(date_string, '%Y-%m-%dT%H:%M:%S'))\n",
    "print(datetime_list)"
   ]
  },
  {
   "cell_type": "markdown",
   "metadata": {},
   "source": [
    "Задание 3 \n",
    "В прошлом задании у вас получился список datetime_list с элементами типа datetime.\n",
    "Наш отчёт запускался каждую минуту в 18:59:00, 19:00:00 и 19:01:00. Посчитайте для каждого элемента количество секунд, которое работал скрипт. Результат запишите в список report_seconds (каждый элемент, соответственно, целое число)."
   ]
  },
  {
   "cell_type": "code",
   "execution_count": 21,
   "metadata": {},
   "outputs": [
    {
     "name": "stdout",
     "output_type": "stream",
     "text": [
      "[6, 2, 4]\n"
     ]
    }
   ],
   "source": [
    "from datetime import datetime, timedelta\n",
    "\n",
    "dt_list = ['2019-07-07T18:59:06', '2019-07-07T19:00:02', '2019-07-07T19:01:04']\n",
    "datetime_list=[]\n",
    "report_seconds=[]\n",
    "for date_string in dt_list:\n",
    "    datetime_list.append(datetime.strptime(date_string, '%Y-%m-%dT%H:%M:%S'))\n",
    "for dt in datetime_list:\n",
    "    report_seconds.append(dt.second)\n",
    "print(report_seconds)"
   ]
  },
  {
   "cell_type": "markdown",
   "metadata": {},
   "source": [
    "Задание 4 \n",
    "Посчитайте суммарное время выполнения скрипта в секундах из списка report_seconds прошлого задания.\n",
    "Результат запишите в переменную total_time (целое число секунд):"
   ]
  },
  {
   "cell_type": "code",
   "execution_count": 23,
   "metadata": {},
   "outputs": [
    {
     "name": "stdout",
     "output_type": "stream",
     "text": [
      "12\n"
     ]
    }
   ],
   "source": [
    "from datetime import datetime, timedelta\n",
    "\n",
    "dt_list = ['2019-07-07T18:59:06', '2019-07-07T19:00:02', '2019-07-07T19:01:04']\n",
    "datetime_list=[]\n",
    "for date_string in dt_list:\n",
    "    datetime_list.append(datetime.strptime(date_string, '%Y-%m-%dT%H:%M:%S'))\n",
    "total_time=0    \n",
    "for dt in datetime_list:\n",
    "    total_time=total_time+dt.second\n",
    "print(total_time)"
   ]
  },
  {
   "cell_type": "markdown",
   "metadata": {},
   "source": [
    "Синтаксис и принцип работы timedelta\n",
    "Допустим у нас есть дата начала выгрузки start_date.\n",
    "Необходимо прибавить к этой дате день: воспользуемся модулем timedelta."
   ]
  },
  {
   "cell_type": "code",
   "execution_count": 24,
   "metadata": {},
   "outputs": [
    {
     "data": {
      "text/plain": [
       "datetime.datetime(2019, 1, 2, 0, 0)"
      ]
     },
     "execution_count": 24,
     "metadata": {},
     "output_type": "execute_result"
    }
   ],
   "source": [
    "start_date = '2019-01-01'                                       #дата начала выгрузки \n",
    "start_date_datetime = datetime.strptime(start_date, '%Y-%m-%d') #переводим строковую переменную start_date в формат datetime\n",
    "start_date_datetime + timedelta(days = 1)                       #прибавляем нужный временной интервал с помощью timedelta"
   ]
  },
  {
   "cell_type": "code",
   "execution_count": 25,
   "metadata": {},
   "outputs": [
    {
     "data": {
      "text/plain": [
       "datetime.datetime(2018, 12, 25, 0, 0)"
      ]
     },
     "execution_count": 25,
     "metadata": {},
     "output_type": "execute_result"
    }
   ],
   "source": [
    "start_date_datetime + timedelta(days = -7)"
   ]
  },
  {
   "cell_type": "code",
   "execution_count": 26,
   "metadata": {},
   "outputs": [
    {
     "data": {
      "text/plain": [
       "datetime.datetime(2019, 1, 1, 1, 0)"
      ]
     },
     "execution_count": 26,
     "metadata": {},
     "output_type": "execute_result"
    }
   ],
   "source": [
    "start_date_datetime += timedelta(hours = 1)\n",
    "start_date_datetime"
   ]
  },
  {
   "cell_type": "markdown",
   "metadata": {},
   "source": [
    "Нам необходимо из огромной таблицы с данными за год выбрать (или узнать) показатели за новогодние праздники с 1 по 7 января. Научимся на этом шаге перебирать необходимые даты. "
   ]
  },
  {
   "cell_type": "code",
   "execution_count": 27,
   "metadata": {},
   "outputs": [
    {
     "name": "stdout",
     "output_type": "stream",
     "text": [
      "2019-01-01 00:00:00 2019-01-07 00:00:00\n",
      "2019-01-01\n",
      "2019-01-02\n",
      "2019-01-03\n",
      "2019-01-04\n",
      "2019-01-05\n",
      "2019-01-06\n",
      "2019-01-07\n"
     ]
    }
   ],
   "source": [
    "start_date = '2019-01-01'  #начальную и конечную дату будем задавать в удобном для человека строковом виде\n",
    "end_date = '2019-01-07'\n",
    "\n",
    "start_date_datetime = datetime.strptime(start_date, '%Y-%m-%d')  #переведем строковые переменные в формат datetime\n",
    "end_date_datetime = datetime.strptime(end_date, '%Y-%m-%d')\n",
    "print(start_date_datetime, end_date_datetime) \n",
    "\n",
    "current_day = start_date_datetime #переменная, которая в цикле будет изменяться от 1 до 7 января и иметь тип datetime\n",
    "\n",
    "while current_day <= end_date_datetime:      #в цикле пока значение current_day не превысит дату конца выгрузки\n",
    "    print(current_day.strftime('%Y-%m-%d'))  #выводим наглядный строковый эквивалент в формате даты\n",
    "    current_day += timedelta(days=1)         #будем увеличивать значение current_day на 1 день"
   ]
  },
  {
   "cell_type": "code",
   "execution_count": null,
   "metadata": {},
   "outputs": [],
   "source": []
  }
 ],
 "metadata": {
  "kernelspec": {
   "display_name": "Python 3",
   "language": "python",
   "name": "python3"
  },
  "language_info": {
   "codemirror_mode": {
    "name": "ipython",
    "version": 3
   },
   "file_extension": ".py",
   "mimetype": "text/x-python",
   "name": "python",
   "nbconvert_exporter": "python",
   "pygments_lexer": "ipython3",
   "version": "3.7.3"
  }
 },
 "nbformat": 4,
 "nbformat_minor": 2
}
